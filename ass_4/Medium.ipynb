{
 "metadata": {
  "language_info": {
   "codemirror_mode": {
    "name": "ipython",
    "version": 3
   },
   "file_extension": ".py",
   "mimetype": "text/x-python",
   "name": "python",
   "nbconvert_exporter": "python",
   "pygments_lexer": "ipython3",
   "version": "3.8.5-final"
  },
  "orig_nbformat": 2,
  "kernelspec": {
   "name": "python3",
   "display_name": "Python 3.8.5 64-bit ('.venv': venv)",
   "metadata": {
    "interpreter": {
     "hash": "ebf2b85379ab1f0dfc03bc23705aa808c6d5a99e6d4782e0ed2953eee733388a"
    }
   }
  }
 },
 "nbformat": 4,
 "nbformat_minor": 2,
 "cells": [
  {
   "source": [
    "### Medium\n",
    "\n",
    "Use scikit-learn to calculate values on [Easy](https://www.notion.so/Week-04-532da8b4d583476f9d53437fad9bb4f5) example"
   ],
   "cell_type": "markdown",
   "metadata": {}
  },
  {
   "cell_type": "code",
   "execution_count": 33,
   "metadata": {},
   "outputs": [],
   "source": [
    "from sklearn.linear_model import LogisticRegression\n",
    "from sklearn.model_selection import train_test_split\n",
    "import numpy as np\n",
    "import re"
   ]
  },
  {
   "cell_type": "code",
   "execution_count": 1,
   "metadata": {},
   "outputs": [],
   "source": [
    "messages = {\n",
    "    \"Buy bicycles for free\": \"spam\",\n",
    "    \"Bicycles and motorbikes for free\": \"spam\",\n",
    "    \"Motorbikes rides easy and free\": \"spam\",\n",
    "    \"Let's go ride bicycles\": \"not-spam\",\n",
    "    \"Last week I bought motorbikes and they are cool\": \"not-spam\",\n",
    "    \"Some messages about bicycles and motorbikes, that are free, are spam messages\": \"not-spam\"\n",
    "}"
   ]
  },
  {
   "cell_type": "code",
   "execution_count": 2,
   "metadata": {},
   "outputs": [],
   "source": [
    "weightLabels = [\"buy\", \"bicycles\", \"free\", \"ride\", \"some\", \"messages\", \"motorbikes\"]"
   ]
  },
  {
   "cell_type": "code",
   "execution_count": 3,
   "metadata": {},
   "outputs": [],
   "source": [
    "weights = {\n",
    "    \"spam\": [0.2, 0.5, 1, 1, 0, 0.4, 0.3],\n",
    "    \"not-spam\": [-0.8, 0, -1, 2, 0, 1, 0.2]\n",
    "}"
   ]
  },
  {
   "cell_type": "code",
   "execution_count": 16,
   "metadata": {},
   "outputs": [],
   "source": [
    "def BOW(message):\n",
    "    res = [0] * len(weightLabels)\n",
    "    for i in filter(None,re.split(r'[^\\w]', message)):\n",
    "        if i.lower() in weightLabels:\n",
    "            res[weightLabels.index(i.lower())]+=1\n",
    "    return res"
   ]
  },
  {
   "cell_type": "code",
   "execution_count": 44,
   "metadata": {},
   "outputs": [
    {
     "output_type": "execute_result",
     "data": {
      "text/plain": [
       "LogisticRegression(fit_intercept=False, n_jobs=-1)"
      ]
     },
     "metadata": {},
     "execution_count": 44
    }
   ],
   "source": [
    "logReg = LogisticRegression(fit_intercept=False, n_jobs=-1)\n",
    "logReg.fit(np.array([[0],[0]]), np.array([[0],[1]]))"
   ]
  },
  {
   "cell_type": "code",
   "execution_count": 45,
   "metadata": {},
   "outputs": [],
   "source": [
    "def logisticReg(message, weight):\n",
    "    logReg.coef_ = np.array([weight])\n",
    "    return logReg.predict_proba(np.array([BOW(message)]))"
   ]
  },
  {
   "cell_type": "code",
   "execution_count": 46,
   "metadata": {},
   "outputs": [
    {
     "output_type": "stream",
     "name": "stdout",
     "text": [
      "The probability of \"Buy bicycles for free\" being spam is [[0.15446527 0.84553473]]\nThe probability of \"Bicycles and motorbikes for free\" being spam is [[0.14185106 0.85814894]]\nThe probability of \"Motorbikes rides easy and free\" being spam is [[0.21416502 0.78583498]]\nThe probability of \"Let's go ride bicycles\" being not-spam is [[0.11920292 0.88079708]]\nThe probability of \"Last week I bought motorbikes and they are cool\" being not-spam is [[0.450166 0.549834]]\nThe probability of \"Some messages about bicycles and motorbikes, that are free, are spam messages\" being not-spam is [[0.23147522 0.76852478]]\n"
     ]
    }
   ],
   "source": [
    "for i in messages:\n",
    "    print(f'The probability of \"{i}\" being {messages[i]} is {logisticReg(i, weights[messages[i]])}')"
   ]
  },
  {
   "cell_type": "code",
   "execution_count": null,
   "metadata": {},
   "outputs": [],
   "source": []
  }
 ]
}