{
 "metadata": {
  "language_info": {
   "codemirror_mode": {
    "name": "ipython",
    "version": 3
   },
   "file_extension": ".py",
   "mimetype": "text/x-python",
   "name": "python",
   "nbconvert_exporter": "python",
   "pygments_lexer": "ipython3",
   "version": "3.8.5-final"
  },
  "orig_nbformat": 2,
  "kernelspec": {
   "name": "python3",
   "display_name": "Python 3",
   "language": "python"
  }
 },
 "nbformat": 4,
 "nbformat_minor": 2,
 "cells": [
  {
   "source": [
    "### Easy\n",
    "\n",
    "Write on paper and post photo of your calculations\n",
    "\n",
    "Part 1: Calculate probability of being spam if we have following table\n",
    "\n",
    "[Logistic regression task](https://www.notion.so/Logistic-regression-task-4e47ac31f60f4dc594557ca29f4c99a0)"
   ],
   "cell_type": "markdown",
   "metadata": {}
  },
  {
   "cell_type": "code",
   "execution_count": 43,
   "metadata": {},
   "outputs": [],
   "source": [
    "import re, math"
   ]
  },
  {
   "cell_type": "code",
   "execution_count": 32,
   "metadata": {},
   "outputs": [],
   "source": [
    "messages = {\n",
    "    \"Buy bicycles for free\": \"spam\",\n",
    "    \"Bicycles and motorbikes for free\": \"spam\",\n",
    "    \"Motorbikes rides easy and free\": \"spam\",\n",
    "    \"Let's go ride bicycles\": \"not-spam\",\n",
    "    \"Last week I bought motorbikes and they are cool\": \"not-spam\",\n",
    "    \"Some messages about bicycles and motorbikes, that are free, are spam messages\": \"not-spam\"\n",
    "}"
   ]
  },
  {
   "cell_type": "code",
   "execution_count": 22,
   "metadata": {},
   "outputs": [],
   "source": [
    "weightLabels = [\"buy\", \"bicycles\", \"free\", \"ride\", \"some\", \"messages\", \"motorbikes\"]"
   ]
  },
  {
   "cell_type": "code",
   "execution_count": 28,
   "metadata": {},
   "outputs": [],
   "source": [
    "weights = {\n",
    "    \"spam\": [0.2, 0.5, 1, 1, 0, 0.4, 0.3],\n",
    "    \"not-spam\": [-0.8, 0, -1, 2, 0, 1, 0.2]\n",
    "}"
   ]
  },
  {
   "cell_type": "code",
   "execution_count": 44,
   "metadata": {},
   "outputs": [],
   "source": [
    "def sigmoid(x):\n",
    "    return 1 / (1 + math.e ** (- x))\n"
   ]
  },
  {
   "cell_type": "code",
   "execution_count": 39,
   "metadata": {},
   "outputs": [],
   "source": [
    "def logisticRegression(message, weight):\n",
    "    sum = 0\n",
    "    for i in filter(None,re.split(r'[^\\w]', message)):\n",
    "        if i.lower() in weightLabels:\n",
    "            sum += weight[weightLabels.index(i.lower())]\n",
    "    return sigmoid(sum)"
   ]
  },
  {
   "cell_type": "code",
   "execution_count": 45,
   "metadata": {},
   "outputs": [
    {
     "output_type": "stream",
     "name": "stdout",
     "text": [
      "The probability of \"Buy bicycles for free\" being spam is 0.8455347349164652\nThe probability of \"Bicycles and motorbikes for free\" being spam is 0.8581489350995123\nThe probability of \"Motorbikes rides easy and free\" being spam is 0.7858349830425586\nThe probability of \"Let's go ride bicycles\" being not-spam is 0.8807970779778823\nThe probability of \"Last week I bought motorbikes and they are cool\" being not-spam is 0.549833997312478\nThe probability of \"Some messages about bicycles and motorbikes, that are free, are spam messages\" being not-spam is 0.7685247834990175\n"
     ]
    }
   ],
   "source": [
    "for i in messages:\n",
    "    print(f'The probability of \"{i}\" being {messages[i]} is {logisticRegression(i, weights[messages[i]])}')"
   ]
  },
  {
   "source": [
    "Part 2: Calculate tf-idf table for following documents and texts\n",
    "\n",
    "[Words and documents](https://www.notion.so/4e5f8f5d64b3439380c3bd153cefe094)"
   ],
   "cell_type": "markdown",
   "metadata": {}
  },
  {
   "cell_type": "code",
   "execution_count": 16,
   "metadata": {},
   "outputs": [],
   "source": [
    "wordsAndDocuments = {\n",
    "    \"defender\": [4, 1, 0, 2, 4],\n",
    "    \"shoot\": [3, 2, 1, 3, 0],\n",
    "    \"scored\": [1, 0, 0, 1, 0],\n",
    "    \"government\": [0, 4, 0, 0, 0],\n",
    "    \"serious\": [0, 0, 3, 0, 0],\n",
    "    \"different\": [2, 1, 5, 3, 0],\n",
    "    \"president\": [0, 5, 2, 0, 1]\n",
    "}"
   ]
  },
  {
   "cell_type": "code",
   "execution_count": 17,
   "metadata": {},
   "outputs": [],
   "source": [
    "def tf(word, doc):\n",
    "    s = 0\n",
    "    for i in wordsAndDocuments:\n",
    "        s += wordsAndDocuments[i][doc]\n",
    "    return wordsAndDocuments[word][doc] / s"
   ]
  },
  {
   "cell_type": "code",
   "execution_count": 18,
   "metadata": {},
   "outputs": [],
   "source": [
    "def idf(word):\n",
    "    return len(wordsAndDocuments[word]) / len(list(filter(lambda x: x, wordsAndDocuments[word])))"
   ]
  },
  {
   "cell_type": "code",
   "execution_count": 19,
   "metadata": {},
   "outputs": [],
   "source": [
    "def tfidf(word, doc):\n",
    "    return tf(word, doc) * idf(word)"
   ]
  },
  {
   "cell_type": "code",
   "execution_count": 28,
   "metadata": {},
   "outputs": [
    {
     "output_type": "stream",
     "name": "stdout",
     "text": [
      "defender: \t0.50\t0.10\t0.00\t0.28\t1.00\t\n\nshoot: \t0.38\t0.19\t0.11\t0.42\t0.00\t\n\nscored: \t0.25\t0.00\t0.00\t0.28\t0.00\t\n\ngovernment: \t0.00\t1.54\t0.00\t0.00\t0.00\t\n\nserious: \t0.00\t0.00\t1.36\t0.00\t0.00\t\n\ndifferent: \t0.25\t0.10\t0.57\t0.42\t0.00\t\n\npresident: \t0.00\t0.64\t0.30\t0.00\t0.33\t\n\n"
     ]
    }
   ],
   "source": [
    "for i in wordsAndDocuments:\n",
    "    print(f'{i}: ', end='\\t')\n",
    "    for j in range(len(wordsAndDocuments[i])):\n",
    "        print(f'{tfidf(i, j):.2f}', end='\\t')\n",
    "    print('\\n')"
   ]
  },
  {
   "cell_type": "code",
   "execution_count": null,
   "metadata": {},
   "outputs": [],
   "source": []
  }
 ]
}