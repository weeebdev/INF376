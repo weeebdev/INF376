{
  "nbformat": 4,
  "nbformat_minor": 0,
  "metadata": {
    "colab": {
      "name": "ass8.ipynb",
      "provenance": [],
      "collapsed_sections": []
    },
    "kernelspec": {
      "name": "python3",
      "display_name": "Python 3"
    },
    "language_info": {
      "name": "python"
    }
  },
  "cells": [
    {
      "cell_type": "markdown",
      "metadata": {
        "id": "91WGurgDntYm"
      },
      "source": [
        "## Easy\n",
        "\n",
        "Calculate on paper O_1, O_2, O_3 after forward calculation in Vanilla Recurrent Neural Network\n",
        "\n",
        "![https://s3-us-west-2.amazonaws.com/secure.notion-static.com/01b4e0a0-ca5a-47fd-932a-3880bbcbf1ae/Untitled_(1).jpg](https://s3-us-west-2.amazonaws.com/secure.notion-static.com/01b4e0a0-ca5a-47fd-932a-3880bbcbf1ae/Untitled_(1).jpg)"
      ]
    },
    {
      "cell_type": "code",
      "metadata": {
        "id": "olb2OKqknma4"
      },
      "source": [
        "import numpy as np\n",
        "import pandas as pd"
      ],
      "execution_count": null,
      "outputs": []
    },
    {
      "cell_type": "code",
      "metadata": {
        "id": "sVL3qby2n9Pe"
      },
      "source": [
        "W0 = np.array([0.2,0.3])\n",
        "W1 = np.array([0.1,0.4])\n",
        "b = 0.8\n",
        "H = np.array([1,0.5])\n",
        "X = np.array([[4,1],[2,0],[3,2]])"
      ],
      "execution_count": null,
      "outputs": []
    },
    {
      "cell_type": "code",
      "metadata": {
        "colab": {
          "base_uri": "https://localhost:8080/"
        },
        "id": "vnKN9CXCpD5n",
        "outputId": "33375a83-1adf-49da-8c55-8004e858c371"
      },
      "source": [
        "for i in range(3):\n",
        "  H = np.tanh(W0*X[i]+W1*H+b)\n",
        "  print(f'O_{i} = {H}')"
      ],
      "execution_count": null,
      "outputs": [
        {
          "output_type": "stream",
          "text": [
            "O_0 = [0.93540907 0.86172316]\n",
            "O_1 = [0.86005109 0.81598709]\n",
            "O_2 = [0.90258701 0.93862845]\n"
          ],
          "name": "stdout"
        }
      ]
    },
    {
      "cell_type": "markdown",
      "metadata": {
        "id": "BneheWgsqOj7"
      },
      "source": [
        "## Medium\n",
        "\n",
        "[IMDB Dataset of 50K Movie Reviews](https://www.kaggle.com/lakshmi25npathi/imdb-dataset-of-50k-movie-reviews)\n",
        "\n",
        "IMDB Dataset with movie reviews and their sentiment\n",
        "\n",
        "Use  Keras' (or Pytorch) RNN, LSTM, GRU to classify IMDB dataset, and compare their accuracies"
      ]
    },
    {
      "cell_type": "code",
      "metadata": {
        "id": "6gYdE1MKqRD0",
        "colab": {
          "base_uri": "https://localhost:8080/"
        },
        "outputId": "e802867b-4a1e-4540-a5db-1ed1e188b109"
      },
      "source": [
        "from tensorflow.python.keras.models import Sequential\n",
        "from tensorflow.python.keras.layers import Dense, Embedding, LSTM, GRU, SimpleRNN\n",
        "from tensorflow.python.keras.preprocessing.text import Tokenizer\n",
        "from keras.optimizers import Adam\n",
        "from keras.layers import Dropout\n",
        "from tensorflow.python.keras.preprocessing.sequence import pad_sequences\n",
        "from tensorflow.python.keras.models import load_model\n",
        "from sklearn.model_selection import train_test_split\n",
        "import re\n",
        "import nltk\n",
        "nltk.download(\"stopwords\")\n",
        "nltk.download(\"punkt\")\n",
        "from nltk.corpus import stopwords\n",
        "nltk.download('punkt')"
      ],
      "execution_count": 68,
      "outputs": [
        {
          "output_type": "stream",
          "text": [
            "[nltk_data] Downloading package stopwords to /root/nltk_data...\n",
            "[nltk_data]   Package stopwords is already up-to-date!\n",
            "[nltk_data] Downloading package punkt to /root/nltk_data...\n",
            "[nltk_data]   Package punkt is already up-to-date!\n",
            "[nltk_data] Downloading package punkt to /root/nltk_data...\n",
            "[nltk_data]   Package punkt is already up-to-date!\n"
          ],
          "name": "stdout"
        },
        {
          "output_type": "execute_result",
          "data": {
            "text/plain": [
              "True"
            ]
          },
          "metadata": {
            "tags": []
          },
          "execution_count": 68
        }
      ]
    },
    {
      "cell_type": "code",
      "metadata": {
        "id": "pkPB8qfptooH"
      },
      "source": [
        "data = pd.read_csv('./drive/MyDrive/NLP/IMDB Dataset.csv',error_bad_lines=False, engine=\"python\",encoding='latin1')"
      ],
      "execution_count": 52,
      "outputs": []
    },
    {
      "cell_type": "code",
      "metadata": {
        "id": "Kou1Z7t_ym7V"
      },
      "source": [
        "WPT = nltk.WordPunctTokenizer()\n",
        "stop_word_list = nltk.corpus.stopwords.words('english')\n",
        "#stop_word_list"
      ],
      "execution_count": 53,
      "outputs": []
    },
    {
      "cell_type": "code",
      "metadata": {
        "id": "skTDAvElvGG5"
      },
      "source": [
        "data.sentiment = [ 1 if each == \"positive\" else 0 for each in data.sentiment]\n",
        "sentiment = data['sentiment'].values"
      ],
      "execution_count": 54,
      "outputs": []
    },
    {
      "cell_type": "code",
      "metadata": {
        "id": "hJODuXnIzD3t"
      },
      "source": [
        "data['review'] = data['review'].apply(lambda x: re.sub('[,\\.!?:()\"]', '', x))\n",
        "data['review'] = data['review'].apply(lambda x: re.sub('[^a-zA-Z\"]', ' ', x))\n",
        "\n",
        "data['review'] = data['review'].apply(lambda x: x.lower())\n",
        "\n",
        "data['review'] = data['review'].apply(lambda x: x.strip())\n",
        "data = data['review']"
      ],
      "execution_count": 55,
      "outputs": []
    },
    {
      "cell_type": "code",
      "metadata": {
        "id": "2log1xXizKMk"
      },
      "source": [
        "from sklearn.model_selection import train_test_split\n",
        "x_train, x_test, y_train, y_test = train_test_split(data,sentiment,test_size = 0.2, random_state = 42)"
      ],
      "execution_count": 56,
      "outputs": []
    },
    {
      "cell_type": "code",
      "metadata": {
        "id": "J2Q4Q-WFzOJk"
      },
      "source": [
        "from tensorflow.python.keras.preprocessing.text import Tokenizer\n",
        "\n",
        "tokenizer = Tokenizer(num_words = 15000)\n",
        "tokenizer.fit_on_texts(data)"
      ],
      "execution_count": 57,
      "outputs": []
    },
    {
      "cell_type": "code",
      "metadata": {
        "id": "J_P14JFZzTWI"
      },
      "source": [
        "x_train_tokens = tokenizer.texts_to_sequences(x_train)\n",
        "x_test_tokens = tokenizer.texts_to_sequences(x_test)"
      ],
      "execution_count": 58,
      "outputs": []
    },
    {
      "cell_type": "code",
      "metadata": {
        "id": "FQ1mEHWUzUFB"
      },
      "source": [
        "num_tokens = [len(tokens) for tokens in x_train_tokens + x_test_tokens]\n",
        "num_tokens = np.array(num_tokens)"
      ],
      "execution_count": 59,
      "outputs": []
    },
    {
      "cell_type": "code",
      "metadata": {
        "id": "No76ydkKzaR-"
      },
      "source": [
        "max_tokens = np.mean(num_tokens) + 2 * np.std(num_tokens)\n",
        "max_tokens = int(max_tokens)"
      ],
      "execution_count": 60,
      "outputs": []
    },
    {
      "cell_type": "code",
      "metadata": {
        "id": "IfsAK7f-2Lgq"
      },
      "source": [
        "x_train_pad = pad_sequences(x_train_tokens, maxlen=max_tokens)\n",
        "x_test_pad = pad_sequences(x_test_tokens, maxlen=max_tokens)"
      ],
      "execution_count": 65,
      "outputs": []
    },
    {
      "cell_type": "code",
      "metadata": {
        "id": "pSSpjKRWzbNY"
      },
      "source": [
        "model = Sequential()\n",
        "\n",
        "embedding_size = 50\n",
        "\n",
        "model.add(Embedding(input_dim=15000,output_dim=embedding_size,input_length=max_tokens,name='embedding_layer'))\n",
        "\n",
        "model.add(LSTM(units=16, return_sequences=True))\n",
        "model.add(Dropout(0.1))\n",
        "\n",
        "model.add(LSTM(units=8, return_sequences=True))\n",
        "model.add(Dropout(0.1))\n",
        "\n",
        "model.add(LSTM(units=4))\n",
        "model.add(Dropout(0.1))\n",
        "\n",
        "model.add(Dense(1, activation='sigmoid'))\n",
        "\n",
        "optimizer = Adam(lr=1e-3)\n",
        "\n",
        "model.compile(loss='binary_crossentropy',optimizer=optimizer,metrics=['accuracy'])"
      ],
      "execution_count": 61,
      "outputs": []
    },
    {
      "cell_type": "code",
      "metadata": {
        "colab": {
          "base_uri": "https://localhost:8080/"
        },
        "id": "loC_G8EszkM6",
        "outputId": "1f6d6920-9a98-46c8-8c2c-eab34d02364d"
      },
      "source": [
        "model.summary()"
      ],
      "execution_count": 66,
      "outputs": [
        {
          "output_type": "stream",
          "text": [
            "Model: \"sequential_1\"\n",
            "_________________________________________________________________\n",
            "Layer (type)                 Output Shape              Param #   \n",
            "=================================================================\n",
            "embedding_layer (Embedding)  (None, 567, 50)           750000    \n",
            "_________________________________________________________________\n",
            "lstm_3 (LSTM)                (None, 567, 16)           4288      \n",
            "_________________________________________________________________\n",
            "dropout_3 (Dropout)          (None, 567, 16)           0         \n",
            "_________________________________________________________________\n",
            "lstm_4 (LSTM)                (None, 567, 8)            800       \n",
            "_________________________________________________________________\n",
            "dropout_4 (Dropout)          (None, 567, 8)            0         \n",
            "_________________________________________________________________\n",
            "lstm_5 (LSTM)                (None, 4)                 208       \n",
            "_________________________________________________________________\n",
            "dropout_5 (Dropout)          (None, 4)                 0         \n",
            "_________________________________________________________________\n",
            "dense_1 (Dense)              (None, 1)                 5         \n",
            "=================================================================\n",
            "Total params: 755,301\n",
            "Trainable params: 755,301\n",
            "Non-trainable params: 0\n",
            "_________________________________________________________________\n"
          ],
          "name": "stdout"
        }
      ]
    },
    {
      "cell_type": "code",
      "metadata": {
        "colab": {
          "base_uri": "https://localhost:8080/"
        },
        "id": "ata7OAOU19eh",
        "outputId": "02c5dee0-73ff-4a89-a5df-ba4e1ea3d2f9"
      },
      "source": [
        "history = model.fit(x_train_pad, y_train, validation_split=0.3, epochs=5, batch_size=1000, shuffle=True, verbose = 1)"
      ],
      "execution_count": 67,
      "outputs": [
        {
          "output_type": "stream",
          "text": [
            "Epoch 1/5\n",
            "28/28 [==============================] - 104s 4s/step - loss: 0.6911 - accuracy: 0.5739 - val_loss: 0.6718 - val_accuracy: 0.6834\n",
            "Epoch 2/5\n",
            "28/28 [==============================] - 98s 3s/step - loss: 0.6376 - accuracy: 0.7145 - val_loss: 0.5236 - val_accuracy: 0.7682\n",
            "Epoch 3/5\n",
            "28/28 [==============================] - 98s 4s/step - loss: 0.4576 - accuracy: 0.8271 - val_loss: 0.4402 - val_accuracy: 0.8291\n",
            "Epoch 4/5\n",
            "28/28 [==============================] - 98s 4s/step - loss: 0.3723 - accuracy: 0.8795 - val_loss: 0.3916 - val_accuracy: 0.8519\n",
            "Epoch 5/5\n",
            "28/28 [==============================] - 98s 4s/step - loss: 0.3094 - accuracy: 0.9106 - val_loss: 0.3802 - val_accuracy: 0.8566\n"
          ],
          "name": "stdout"
        }
      ]
    },
    {
      "cell_type": "code",
      "metadata": {
        "colab": {
          "base_uri": "https://localhost:8080/"
        },
        "id": "TEYW0Ozj3f3C",
        "outputId": "9b9badf6-d14c-4919-f7e2-09cec1c20566"
      },
      "source": [
        "result = model.evaluate(x_test_pad, y_test)"
      ],
      "execution_count": 69,
      "outputs": [
        {
          "output_type": "stream",
          "text": [
            "313/313 [==============================] - 48s 152ms/step - loss: 0.3680 - accuracy: 0.8632\n"
          ],
          "name": "stdout"
        }
      ]
    },
    {
      "cell_type": "code",
      "metadata": {
        "id": "sKRqatdL4jSa"
      },
      "source": [
        "model = Sequential()\n",
        "\n",
        "embedding_size = 50\n",
        "\n",
        "model.add(Embedding(input_dim=15000,output_dim=embedding_size,input_length=max_tokens,name='embedding_layer'))\n",
        "\n",
        "model.add(GRU(units=16, return_sequences=True))\n",
        "model.add(Dropout(0.1))\n",
        "\n",
        "model.add(GRU(units=8, return_sequences=True))\n",
        "model.add(Dropout(0.1))\n",
        "\n",
        "model.add(GRU(units=4))\n",
        "model.add(Dropout(0.1))\n",
        "\n",
        "model.add(Dense(1, activation='sigmoid'))\n",
        "\n",
        "optimizer = Adam(lr=1e-3)\n",
        "\n",
        "model.compile(loss='binary_crossentropy',optimizer=optimizer,metrics=['accuracy'])"
      ],
      "execution_count": 70,
      "outputs": []
    },
    {
      "cell_type": "code",
      "metadata": {
        "colab": {
          "base_uri": "https://localhost:8080/"
        },
        "id": "4_b9Z_Qk4qJ6",
        "outputId": "e7e26def-7c48-424a-c26d-9cca131fc37e"
      },
      "source": [
        "model.summary()"
      ],
      "execution_count": 71,
      "outputs": [
        {
          "output_type": "stream",
          "text": [
            "Model: \"sequential_2\"\n",
            "_________________________________________________________________\n",
            "Layer (type)                 Output Shape              Param #   \n",
            "=================================================================\n",
            "embedding_layer (Embedding)  (None, 567, 50)           750000    \n",
            "_________________________________________________________________\n",
            "gru (GRU)                    (None, 567, 16)           3216      \n",
            "_________________________________________________________________\n",
            "dropout_6 (Dropout)          (None, 567, 16)           0         \n",
            "_________________________________________________________________\n",
            "gru_1 (GRU)                  (None, 567, 8)            600       \n",
            "_________________________________________________________________\n",
            "dropout_7 (Dropout)          (None, 567, 8)            0         \n",
            "_________________________________________________________________\n",
            "gru_2 (GRU)                  (None, 4)                 156       \n",
            "_________________________________________________________________\n",
            "dropout_8 (Dropout)          (None, 4)                 0         \n",
            "_________________________________________________________________\n",
            "dense_2 (Dense)              (None, 1)                 5         \n",
            "=================================================================\n",
            "Total params: 753,977\n",
            "Trainable params: 753,977\n",
            "Non-trainable params: 0\n",
            "_________________________________________________________________\n"
          ],
          "name": "stdout"
        }
      ]
    },
    {
      "cell_type": "code",
      "metadata": {
        "colab": {
          "base_uri": "https://localhost:8080/"
        },
        "id": "gR6P2Vjv44w4",
        "outputId": "86a406e8-566e-4e1c-abf9-704e68cd3f08"
      },
      "source": [
        "history = model.fit(x_train_pad, y_train, validation_split=0.3, epochs=5, batch_size=1000, shuffle=True, verbose = 1)"
      ],
      "execution_count": 72,
      "outputs": [
        {
          "output_type": "stream",
          "text": [
            "Epoch 1/5\n",
            "28/28 [==============================] - 87s 3s/step - loss: 0.6904 - accuracy: 0.5537 - val_loss: 0.6692 - val_accuracy: 0.6622\n",
            "Epoch 2/5\n",
            "28/28 [==============================] - 82s 3s/step - loss: 0.6405 - accuracy: 0.6957 - val_loss: 0.5679 - val_accuracy: 0.7088\n",
            "Epoch 3/5\n",
            "28/28 [==============================] - 80s 3s/step - loss: 0.5011 - accuracy: 0.7658 - val_loss: 0.4441 - val_accuracy: 0.8052\n",
            "Epoch 4/5\n",
            "28/28 [==============================] - 80s 3s/step - loss: 0.3414 - accuracy: 0.8687 - val_loss: 0.3607 - val_accuracy: 0.8549\n",
            "Epoch 5/5\n",
            "28/28 [==============================] - 81s 3s/step - loss: 0.2473 - accuracy: 0.9208 - val_loss: 0.3631 - val_accuracy: 0.8547\n"
          ],
          "name": "stdout"
        }
      ]
    },
    {
      "cell_type": "code",
      "metadata": {
        "colab": {
          "base_uri": "https://localhost:8080/"
        },
        "id": "hiBDYdiA6JiA",
        "outputId": "3398f36d-9b79-4d40-935a-43e8fa9380bf"
      },
      "source": [
        "result = model.evaluate(x_test_pad, y_test)"
      ],
      "execution_count": 73,
      "outputs": [
        {
          "output_type": "stream",
          "text": [
            "313/313 [==============================] - 46s 143ms/step - loss: 0.3446 - accuracy: 0.8649\n"
          ],
          "name": "stdout"
        }
      ]
    },
    {
      "cell_type": "code",
      "metadata": {
        "id": "ycYXH7uJ6oe_"
      },
      "source": [
        "model = Sequential()\n",
        "\n",
        "embedding_size = 50\n",
        "\n",
        "model.add(Embedding(input_dim=15000,output_dim=embedding_size,input_length=max_tokens,name='embedding_layer'))\n",
        "\n",
        "model.add(SimpleRNN(units=16, return_sequences=True))\n",
        "model.add(Dropout(0.1))\n",
        "\n",
        "model.add(SimpleRNN(units=8, return_sequences=True))\n",
        "model.add(Dropout(0.1))\n",
        "\n",
        "model.add(SimpleRNN(units=4))\n",
        "model.add(Dropout(0.1))\n",
        "\n",
        "model.add(Dense(1, activation='sigmoid'))\n",
        "\n",
        "optimizer = Adam(lr=1e-3)\n",
        "\n",
        "model.compile(loss='binary_crossentropy',optimizer=optimizer,metrics=['accuracy'])"
      ],
      "execution_count": 76,
      "outputs": []
    },
    {
      "cell_type": "code",
      "metadata": {
        "colab": {
          "base_uri": "https://localhost:8080/"
        },
        "id": "lUlMjnGU7buK",
        "outputId": "01c4e9a7-29aa-4992-d48d-8fcd8d4024a4"
      },
      "source": [
        "history = model.fit(x_train_pad, y_train, validation_split=0.3, epochs=5, batch_size=1000, shuffle=True, verbose = 1)"
      ],
      "execution_count": 77,
      "outputs": [
        {
          "output_type": "stream",
          "text": [
            "Epoch 1/5\n",
            "28/28 [==============================] - 36s 1s/step - loss: 0.7000 - accuracy: 0.5537 - val_loss: 0.5807 - val_accuracy: 0.7228\n",
            "Epoch 2/5\n",
            "28/28 [==============================] - 34s 1s/step - loss: 0.5318 - accuracy: 0.7669 - val_loss: 0.4569 - val_accuracy: 0.8134\n",
            "Epoch 3/5\n",
            "28/28 [==============================] - 34s 1s/step - loss: 0.4012 - accuracy: 0.8581 - val_loss: 0.4013 - val_accuracy: 0.8391\n",
            "Epoch 4/5\n",
            "28/28 [==============================] - 34s 1s/step - loss: 0.3288 - accuracy: 0.8911 - val_loss: 0.3855 - val_accuracy: 0.8492\n",
            "Epoch 5/5\n",
            "28/28 [==============================] - 34s 1s/step - loss: 0.2664 - accuracy: 0.9229 - val_loss: 0.3662 - val_accuracy: 0.8604\n"
          ],
          "name": "stdout"
        }
      ]
    },
    {
      "cell_type": "code",
      "metadata": {
        "colab": {
          "base_uri": "https://localhost:8080/"
        },
        "id": "V1PHBd7M7dYZ",
        "outputId": "4706b5a5-eb60-44c2-ec91-76823736cd42"
      },
      "source": [
        "result = model.evaluate(x_test_pad, y_test)"
      ],
      "execution_count": 78,
      "outputs": [
        {
          "output_type": "stream",
          "text": [
            "313/313 [==============================] - 17s 53ms/step - loss: 0.3563 - accuracy: 0.8656\n"
          ],
          "name": "stdout"
        }
      ]
    },
    {
      "cell_type": "markdown",
      "metadata": {
        "id": "kuidU1TZ8eQM"
      },
      "source": [
        "## Hard\n",
        "\n",
        "[How to Develop Word-Based Neural Language Models in Python with Keras - Machine Learning Mastery](https://machinelearningmastery.com/develop-word-based-neural-language-models-python-keras/)\n",
        "\n",
        "Use neural networks from this approach to generate new names from our Grant names dataset"
      ]
    },
    {
      "cell_type": "code",
      "metadata": {
        "id": "1q_dKz9ZFI7A"
      },
      "source": [
        "from tensorflow.keras.utils import to_categorical"
      ],
      "execution_count": 136,
      "outputs": []
    },
    {
      "cell_type": "code",
      "metadata": {
        "id": "YDLRX5-L8jb-"
      },
      "source": [
        "df = pd.concat(pd.read_excel('./drive/MyDrive/NLP/grants.xlsx', sheet_name=[0,1,2,3,4]), ignore_index=True)[:-3]"
      ],
      "execution_count": 125,
      "outputs": []
    },
    {
      "cell_type": "code",
      "metadata": {
        "colab": {
          "base_uri": "https://localhost:8080/",
          "height": 204
        },
        "id": "slqnwvvV969W",
        "outputId": "f3bec11c-a3eb-41cf-cb04-2f2868c07be3"
      },
      "source": [
        "df.tail()"
      ],
      "execution_count": 126,
      "outputs": [
        {
          "output_type": "execute_result",
          "data": {
            "text/html": [
              "<div>\n",
              "<style scoped>\n",
              "    .dataframe tbody tr th:only-of-type {\n",
              "        vertical-align: middle;\n",
              "    }\n",
              "\n",
              "    .dataframe tbody tr th {\n",
              "        vertical-align: top;\n",
              "    }\n",
              "\n",
              "    .dataframe thead th {\n",
              "        text-align: right;\n",
              "    }\n",
              "</style>\n",
              "<table border=\"1\" class=\"dataframe\">\n",
              "  <thead>\n",
              "    <tr style=\"text-align: right;\">\n",
              "      <th></th>\n",
              "      <th>IKT</th>\n",
              "      <th>FIO</th>\n",
              "      <th>Points</th>\n",
              "      <th>University</th>\n",
              "      <th>No</th>\n",
              "    </tr>\n",
              "  </thead>\n",
              "  <tbody>\n",
              "    <tr>\n",
              "      <th>4168</th>\n",
              "      <td>42300040.0</td>\n",
              "      <td>НҰРЛАН ЖАЙНА НҰРЛАНҚЫЗЫ</td>\n",
              "      <td>25.0</td>\n",
              "      <td>42.0</td>\n",
              "      <td>112.0</td>\n",
              "    </tr>\n",
              "    <tr>\n",
              "      <th>4169</th>\n",
              "      <td>38300434.0</td>\n",
              "      <td>ТӨКЕН ЖАРҚЫНАЙ ДЮСЕТҚЫЗЫ</td>\n",
              "      <td>25.0</td>\n",
              "      <td>38.0</td>\n",
              "      <td>113.0</td>\n",
              "    </tr>\n",
              "    <tr>\n",
              "      <th>4170</th>\n",
              "      <td>29300023.0</td>\n",
              "      <td>ЮЛДАШЕВ АЗИЗ МАСУТОВИЧ</td>\n",
              "      <td>25.0</td>\n",
              "      <td>29.0</td>\n",
              "      <td>114.0</td>\n",
              "    </tr>\n",
              "    <tr>\n",
              "      <th>4171</th>\n",
              "      <td>2300146.0</td>\n",
              "      <td>АҚЫЛБАЙ ҚҰРМЕТ ҚАНАТҰЛЫ</td>\n",
              "      <td>25.0</td>\n",
              "      <td>2.0</td>\n",
              "      <td>115.0</td>\n",
              "    </tr>\n",
              "    <tr>\n",
              "      <th>4172</th>\n",
              "      <td>48300001.0</td>\n",
              "      <td>МУХАМЕДИЕВ ТИМУР МАРАТОВИЧ</td>\n",
              "      <td>25.0</td>\n",
              "      <td>69.0</td>\n",
              "      <td>116.0</td>\n",
              "    </tr>\n",
              "  </tbody>\n",
              "</table>\n",
              "</div>"
            ],
            "text/plain": [
              "             IKT                         FIO  Points  University     No\n",
              "4168  42300040.0     НҰРЛАН ЖАЙНА НҰРЛАНҚЫЗЫ    25.0        42.0  112.0\n",
              "4169  38300434.0    ТӨКЕН ЖАРҚЫНАЙ ДЮСЕТҚЫЗЫ    25.0        38.0  113.0\n",
              "4170  29300023.0      ЮЛДАШЕВ АЗИЗ МАСУТОВИЧ    25.0        29.0  114.0\n",
              "4171   2300146.0     АҚЫЛБАЙ ҚҰРМЕТ ҚАНАТҰЛЫ    25.0         2.0  115.0\n",
              "4172  48300001.0  МУХАМЕДИЕВ ТИМУР МАРАТОВИЧ    25.0        69.0  116.0"
            ]
          },
          "metadata": {
            "tags": []
          },
          "execution_count": 126
        }
      ]
    },
    {
      "cell_type": "code",
      "metadata": {
        "colab": {
          "base_uri": "https://localhost:8080/"
        },
        "id": "DTaLCt9K-OfU",
        "outputId": "506e1f72-815e-47c5-d289-25a3c3912ff1"
      },
      "source": [
        "df['FIO'] = df['FIO'].apply(lambda fio: fio.lower())\n",
        "df['FIO']"
      ],
      "execution_count": 127,
      "outputs": [
        {
          "output_type": "execute_result",
          "data": {
            "text/plain": [
              "0                рахметулла асанәлі\n",
              "1            жамашев ержан жеңісұлы\n",
              "2        заманбек мухаммед жеңісұлы\n",
              "3          жұмажанов мирас маратұлы\n",
              "4       тлеулесов максут кайратович\n",
              "                   ...             \n",
              "4168        нұрлан жайна нұрланқызы\n",
              "4169       төкен жарқынай дюсетқызы\n",
              "4170         юлдашев азиз масутович\n",
              "4171        ақылбай құрмет қанатұлы\n",
              "4172     мухамедиев тимур маратович\n",
              "Name: FIO, Length: 4173, dtype: object"
            ]
          },
          "metadata": {
            "tags": []
          },
          "execution_count": 127
        }
      ]
    },
    {
      "cell_type": "code",
      "metadata": {
        "colab": {
          "base_uri": "https://localhost:8080/",
          "height": 120
        },
        "id": "YuVP_a_b-1Vj",
        "outputId": "66d14027-65b1-42ac-f1bf-37e9628bb805"
      },
      "source": [
        "data = '\\n'.join(df['FIO'].values)\n",
        "data "
      ],
      "execution_count": 128,
      "outputs": [
        {
          "output_type": "execute_result",
          "data": {
            "application/vnd.google.colaboratory.intrinsic+json": {
              "type": "string"
            },
            "text/plain": [
              "'рахметулла асанәлі\\nжамашев ержан жеңісұлы\\nзаманбек мухаммед жеңісұлы\\nжұмажанов мирас маратұлы\\nтлеулесов максут кайратович\\nдүйсенбек нұрдәулет жақсылықұлы\\nтөлепберген ғалымжан алтынбайұлы\\nсатыпалдиев бауыржан нұрсұлтанұлы\\nшинкарова елена юрьевна\\nдосмаханбет ербосын жанқозыбиұлы\\nбегім нұржан ғалымұлы\\nсапарқызы айзада\\nәлімхан дінмұхамед бақытжанұлы\\nикрам аружан алмасқызы\\nбиғалиев ерназар дарханұлы\\nалимсеитов олжас\\nізтілеу саят бейбітұлы\\nжетпісбай мақсат пердалыұлы\\nбекен жалгас ержанулы\\nермұхамбетова айдана алмасқызы\\nмырзабеков фархат рашитұлы\\nшадияр жансерік жораұлы\\nбайбугаметова улжан викторовна\\nсадвакасов мади курмангазыулы\\nрамазан асылхан рамазанұлы\\nқанапиянов нұржан ермекұлы\\nжақсылық әйгерім бақытжанқызы\\nамангелдинов әлем ернұрұлы\\nжумадил кенжебай палжанұлы\\nболатбекова даяна болатбекқызы\\nкудагельди сейітжаппар маратұлы\\nомарбаева диана көпболсынқызы\\nсапарханқызы аягөз\\nқалықова аяулым серікқызы\\nнуртазина эльдана талгатовна\\nайса дильназ жолдықызы\\nершенев данияр кайратович\\nәміре ельдос айдарбекұлы\\nмадиұлы елдос\\nусен ерәлі умирзакұлы\\nсерік диас дауренұлы\\nзаманбекова дария канатбековна\\nжуматова айгерім арайқызы\\nхайрулла ернар мадиарұлы\\nжұмағалиев заңғар шалқарұлы\\nөндіріс диас жанатұлы\\nалсай әсет рахатұлы\\nгалиханов диас мейрамұлы\\nженісбай сабыржан нұржанұлы\\nқұрасбек сағындық қуанышбекұлы\\nайбекқызы гүлзат\\nлесбек дәурен орынбасарұлы\\nжаксыгелдиева камила ердосқызы\\nтөлегенов мейіржан бауыржанұлы\\nесполова назерке нурлыбековна\\nқазбек мөлдір бақытжанқызы\\nермек нұрсұлтан сейтәлімұлы\\nсатаева аида серикжановна\\nмельдебек альмир нурланулы\\nтолеева махыра ерболовна\\nтурганбаева мадина жанатовна\\nхайрханова толғанай маратқызы\\nтұрар әлихан талғатұлы\\nқожан нұрасыл болатханұлы\\nканен раушан асановна\\nсерік руслан\\nтәжен жомарт жанатұлы\\nканапья ерсұлтан мұратұлы\\nисәділ нарқыз алматқызы\\nтұрар маржан қанатқызы\\nмухамеджанов ален васильевич\\nболат бақберген нұрбайұлы\\nэгамбердиев амалбек жанабекуғли\\nқайырла ранай нұрлыбекқызы\\nәсілбек ұлан нұрланұлы\\nпапнов наум викторович\\nелубай алмажан серікқызы\\nқадырбеков аслан серікұлы\\nорынғалиев алмат бағдатұлы\\nтоқтаров нұрболат баймұратұлы\\nәсентай махмуд ерұланұлы\\nбайболов темірлан әсетұлы\\nнұркелді өрен\\nберикқызы дина\\nсадыкова назерке мерхатовна\\nөміртай құралай ақанқызы\\nсүндетов дамир қобланұлы\\nқұлтан азамат қасымұлы\\nайсаев думан кенжебекұлы\\nмәкенова арайлым дулатбекқызы\\nбалғалиев азат батырғалиұлы\\nкундакбаев алмаз канышевич\\nкалмурзин бекзат алиевич\\nділмұрат таңнар\\nмуташ самат серикұлы\\nелубек дулат талгатұлы\\nүсенбай бақдәулет алмасұлы\\nтұрар досжан бақытбекұлы\\nмолдабай нұрбол қанатұлы\\nислам дархан болатұлы\\nарап әлия сабырқызы\\nәбіш мағжан бақытжанұлы\\nжұмағалиев әліби бауржанұлы\\nкулмурзаев нұрлан исаханұлы\\nбайгабеков жекебай бесебайұлы\\nбайатан әсет нұркенұлы\\nанарбаева аружан анарбекқызы\\nсүлеймен жомарт көшербайұлы\\nдаржанов нурлан бауржанулы\\nержан махамбет қанатұлы\\nхамзабек нұрсұлтан хамзабекұлы\\nфилатова юлия витальевна\\nпармаш аяулым жалғасқызы\\nжамалбекова камилла бахадировна\\nжұмамұратов самат қанатұлы\\nберікбаев қажымұрат мәдиұлы\\nныгызбаев бекарыс сайлауович\\nнұрғазы томирис нұрматқызы\\nэркинов нуржан курбонбой уғли\\nоралбаева нұрсая саятқызы\\nмаханов бексұлтан туралыұлы\\nсейткамалов азамат рахманбердіұлы\\nағыбаев қадырхан кенжебекұлы\\nжумагалиев хаким бауыржанович\\nдәулетбек арайлым бақытжанқызы\\nдүйсембай айбар ұланұлы\\nермекбай асылжан махамбетұлы\\nананьев сергей алексеевич\\nсұлтан ерген асланұлы\\nсакенов адильхан талантулы\\nкобдабаев даулет асетович\\nбегислам назекет абдығалиқызы\\nаринова ару мұратқызы\\nәбілбашар аляра ерлесқызы\\nшарипов чингиз жанатулы\\nмұқашов бақдәулет бақытбекұлы\\nсерікбай айдос ғалымжанұлы\\nболатов ерасыл болатұлы\\nжаңбырбай диас еркинбайұлы\\nорынбекова дильназ жандосқызы\\nмэлс әдина қуанышқызы\\nумирзак нурали жомартович\\nабсалим шұғыла бауыржанқызы\\nшахшанбай нұрдәулет жайықұлы\\nислямханов санжар русланович\\nалпысбай ержігіт ерсінұлы\\nнұрланов нұрмұхаммед бексұлтанұлы\\nмаксутова алия камбаровна\\nаманжол нұрсұлтан серікұлы\\nомарғазы бекзат қаисаұлы\\nорынжай бекзат маратұлы\\nжурсунов зейин сергеевич\\nрақымбек азамат бақытбекұлы\\nжакияева ақнұр жалғасқызы\\nқаратай берік нұрланұлы\\nоралбай айдос елдосұлы\\nрахметолла даниал адильулы\\nказбеков максат нуржанович\\nхайбулина дильназ ратмировна\\nжахан аружан талғатқызы\\nелубаева дильнора ертугановна\\nрысбек назерке әділханқызы\\nтұрар бекжан бақытбекұлы\\nсерік мерей әсетқызы\\nсырлыбай дарига серикқызы\\nсымбатқызы аружан\\nалтынәлі нұрлы қуанышқызы\\nшадина тоғжан амандыққызы\\nтурсынбек ерасыл\\nқойшығара қазыбек ермекұлы\\nталап азамат асхадұлы\\nүшкірбек дастан нұрқанұлы\\nсұлтанов айбек аманкосұлы\\nабуов акберен биржанович\\nжанеділов әсет серікбайұлы\\nджумадилова айсана ерланқызы\\nкуатов алихан даниярович\\nхасен бекжан бауыржанұлы\\nарзымбет жақсар ерсінбайұлы\\nкенжебаев ақарыс бекболатұлы\\nәбілжан зере нұрмухамбетқызы\\nтекебай алпамыс адинаұлы\\nқосжанова балауса жанұзаққызы\\nзайкина лаура ирлановна\\nермекова гүлдиана ермекқызы\\nтоғызбай елхан талғатұлы\\nабдуали балнур срайлқызы\\nклышев еркин амангельдинович\\nкургузов артём максимович\\nқұрақбай оразай сайранұлы\\nануарбек айжан манарбекқызы\\nықлас ахмед ерланұлы\\nжолдасбек омар әбілсейітұлы\\nрысбаев алтынбек жанузакович\\nисабеков санжар нуржанович\\nоналбаев айбек мирамханұлы\\nүштай бекзада абайқызы\\nәміржан дулат ерболатұлы\\nсмагулов данияр сайлауович\\nмуратов мади маратович\\nмаратұлы спандияр\\nзекен алма аянқызы\\nогай александр михаилович\\nтұрдалы аружан асылбекқызы\\nрайбек лия бакытжанқызы\\nколесников артем андреевич\\nхамза ерасыл қайратұлы\\nабжанов медеу ерманулы\\nдроздов артём сергеевич\\nжәнібек маржан азатқызы\\nбаба әділ ерланұлы\\nерғали ермек ерланұлы\\nбеккужин динмухамед талгатович\\nбейбіт әли бейбітұлы\\nсәкен әмір ренатұлы\\nсулейменов рамазан адилович\\nнурмухамед алтынбек амангелдіұлы\\nниязбек бекзат төреханұлы\\nибраимов ермахан алтайұлы\\nкондрашова кристина сергеевна\\nбилялова меруерт ренатовна\\nалиев дамир жанибекұлы\\nтеміртай назгүл азаматқызы\\nқанапия рауан мұратбекқызы\\nсатанова магнолия медеуовна\\nелубаев данияр ерболұлы\\nтлеуов бекзат амандыкович\\nсахова акбота толгатовна\\nрустемова аружан капаргалиевна\\nдуйсенбеков азамат камбарұлы\\nстариненко андрей андреевич\\nсанақұлы дәуірбек\\nабушахма ақтөре ақәділұлы\\nбозжігітов бағдәулет ержанұлы\\nмусина медина куламергенкызы\\nсоломахин руслан ринатович\\nәбдіхалық ұлықбек маратұлы\\nкалимжанов бекзат илиясович\\nбектурсынов алишер бахытулы\\nтөлен диас нұржанұлы\\nсерікбай нұрдәулет ғаниұлы\\nсырымбет нурай кайратқызы\\nбозшина акгуль аманжоловна\\nабдибекова дильназ ермековна\\nжұпарбек айбек қуатұлы\\nянке никита анатольевич\\nмайер виолетта владимировна\\nкелменбетов алмаз ержанович\\nсабитқызы аружан\\nжанузаков азамат жеткербаевич\\nвахабов маткарим одилжанұлы\\nкалмаханбет аяжан русланқызы\\nкалижанов галымжан сагындыкович\\nжұмабай меруерт ерланқызы\\nшайкаламова саида болатовна\\nбекен темирлан ержанұлы\\nкуттимуратова арухан абдухалик қизи\\nыдырыс мұхамеджан майханұлы\\nқамзабек біржан жәнібекұлы\\nоразалы жұлдыз нұрболатқызы\\nбайжұман әли алдабергенұлы\\nсуев абылайхан қайратұлы\\nтурашов данияр нургалиұлы\\nкасымова диана каиржановна\\nклимов никита валерьевич\\nрысалбек нұржан мұхтарұлы\\nбактыгалиева ақбота бауржанқызы\\nмолдабаев алмат бахытович\\nмуканова дана талгатовна\\nмустафанова аида болатбеккызы\\nарапова жанерке елдосқызы\\nмырзалиева жібек еруланқызы\\nжұмабек нурахмет шаяхметұлы\\nисаев эльхан фагратович\\nеркинова аксауле аманжоловна\\nмұратова назерке ерланқызы\\nкерімхан бексұлтан қуанышұлы\\nкручок марина петровна\\nсұлтан-мұрат аспарух нұржанұлы\\nкүнбергенқызы таңшолпан\\nкулманов ернар темралович\\nонболсын серік азанкүлұлы\\nадебиетов альтайр хайратулы\\nвеселов данил игоревич\\nмулдабекова диана нурлан қизи\\nполат омар бахытжанұлы\\nбейбітов әлфараби еркебұланұлы\\nсейдуали ақниет бағланқызы\\nқұрманғали нұржалғас талғатұлы\\nмұрат ләззат ғаниқызы\\nсабурова несибели бектемиркызы\\nкадырбек темірлан тиллабекұлы\\nмухамадиева камила жаскайратовна\\nбаймұхан қарақат маратқызы\\nтиссен мария андреевна\\nсулейман олжас ильясұлы\\nбазарбаев бекзат болатбайұлы\\nчкалов жангир ерланович\\nкүлеш жұлдызай жанарысқызы\\nжасаров али мұратұлы\\nқалмағанбет айым қайратқызы\\nтлеубеков диас анварович\\nбулегенов абдугали сакенович\\nжолдас иманғали салтанатұлы\\nнакубов бахтыгерей нұрланұлы\\nеркін сұлтан алтайұлы\\nтөкен малика\\nсайлау бексұлтан миятбекұлы\\nдүйсенәлі қалима бектөреқызы\\nқазақ эсма накыбуллахқызы\\nбегимкулова шұғыла өсімкүлқызы\\nәсіл ақтолқын мұхитқызы\\nандас арслан жарқынұлы\\nамангельдинов даулет ержанович\\nнарынхан ержігіт бақытбекұлы\\nкадырханов еркебұлан мамбетұлы\\nжұмаш ақжол сәрсенұлы\\nалиев султан жаматович\\nбергенбаев олжас бауыржанұлы\\nшаймуратов ансар жанатович\\nқалжанов нұрлыхан ерланұлы\\nмаратов медет азаматович\\nасқаров бектұр асқарұлы\\nсүйеуғалиева гүлнұр айдарқызы\\nшахидани інжу ерланқызы\\nкемал азамат батырұлы\\nленгард святослав сергеевич\\nчакмак нұрбек эрдоганұлы\\nтілек ермұхамед ерлікұлы\\nғайни әлихан саятұлы\\nджантасова малика мадиярқызы\\nелдесов ерлан адилбек улы\\nсадырбаев адиль талгатович\\nгауһар ордабек бақытұлы\\nзайнолда мейір құрмашұлы\\nазарканов рахат алтымбаевич\\nабдихалилов мурат нурмахаматуғли\\nкөлбай тоғжан дарханқызы\\nәбдіхалық жәнібек әбдімуслимұлы\\nдаулетбаева айгерім досболқызы\\nташпулатов нематжан худайберганұлы\\nжакенгер әділет каштаспұлы\\nайбат нұрай айбатқызы\\nкурбанбаева улдана мергенбайқызы\\nуристемов мейиржан темирханович\\nқонысбек айдарбек бақытұлы\\nбелгибаева зарина даулетовна\\nқабылжан аружан жоражанқызы\\nтолеуханов батырбек каирканұлы\\nталғатқызы ақниет\\nзебрев никита амангельдыевич\\nбатырбек ғалымбек қазыбекұлы\\nкүмісбай ерғали жұбанұлы\\nмирзабай данияр қанатбайұлы\\nкасымова жанерке талгатовна\\nмолдашбек сұлтанқұл мақсатұлы\\nмадияр ернар саттарұлы\\nдовлетов адилхан абдымаликович\\nсыдықәлі ернар\\nтоктархан алишер біржанұлы\\nәмірхан досжан дәуренұлы\\nазреталы тарази ғалыммұратұлы\\nшалабай демберген арайұлы\\nажигалиев дамир русланұлы\\nсадық дастан тұрлыбекұлы\\nчубукин андрей михайлович\\nшермағанбет іңкәр сұлтанәліқызы\\nмырзабек бүрлен\\nмаратұлы алпамыс\\nбөрібай әліби сакенұлы\\nсеркетаева айжан азаматқызы\\nсманқұл айбол алиұлы\\nакрамова камола мухаммадқызы\\nжанысбаева нұрай асхатқызы\\nибрагим сымбат даниярқызы\\nтемирхан азизқожа қайратұлы\\nбекмұрат асыларай тамдыбекқызы\\nесенболатов арсен жоламанович\\nорынбасар рауан нұрланұлы\\nқуанышбай тілеулес бахытұлы\\nалтаева камила даирқызы\\nмұқан адай әлиұлы\\nасқанбек алихан ерғанұлы\\nджаханов султанбек сейджанович\\nдүйсемұратова мария сабитқызы\\nсериккалиева аружан канатовна\\nсағындық қыдырәлі серікұлы\\nқалиев бексұлтан серікұлы\\nорақбаев азамат талғатұлы\\nтурар амир қанатұлы\\nтулешев арыстан габитович\\nзакария хақназар бауыржанұлы\\nбұланбаева әйгерім дәуренбекқызы\\nасан тобылбек оразұлы\\nрахметулла али мұханбетиярұлы\\nесенхан таирхан болатұлы\\nмендикулов худайберген ерланович\\nбикбулатова микаэлла микаиловна\\nабдыкадырова аружан адилбекқызы\\nзияда диас араратұлы\\nмырзахмет маулен ерболулы\\nсалжан нұрдәулет нұржанұлы\\nдаулетбаев рахат абаевич\\nануар аяулым қанатқызы\\nқонысбаева майя теміржанқызы\\nжексембек ансар ақылұлы\\nнурбек еркетан\\nмақсатов диас мәжитұлы\\nдүйсенбиева саягүл нұрлыбайқызы\\nкенес алмас бекболұлы\\nмажит жаннұр фархадқызы\\nжакип сейдана мухаммедхалиқызы\\nғалымжанова назерке қайырбекқызы\\nсенбек жанна мұхтарқызы\\nтимурұлы әділхан\\nсатанов асаин жанатович\\nбазарбаева лейля көбейқызы\\nнәсіп ерқанат ермекұлы\\nартықбай сәуірбек әліұлы\\nабдрашитова инкар ардаковна\\nқұдабаев аршат сырымұлы\\nақбердиев қадіржан ерболатұлы\\nелемесова аружан ержігітқызы\\nжамбылбаев азамат абылайұлы\\nтлеуаканов жалгас тлеуаканулы\\nесимов олжас алмасұлы\\nрайман евгений сергеевич\\nкайдина диана нуржановна\\nабишов олжас ерғалиұлы\\nкуватов алиаскар аспандиярович\\nкоркач богдан александрович\\nанық ақтілек жетербайұлы\\nпушпаков адиль рустемович\\nтемиргалиева дидара асылхановна\\nғинаят нұрсәт нұрболатұлы\\nлесханов дамир едгарұлы\\nконников владислав александрович\\nарабов бауржан бакиржонович\\nвалиева сайора анваровна\\nжолдыбекұлы әли\\nкенескул аружан дауренкызы\\nерболат думан оразұлы\\nапрел арман болатұлы\\nшакенова даяна маратовна\\nутеш аман исатайұлы\\nсембай айнұр ринатқызы\\nалшынбай айдос мұхтарұлы\\nискак мағжан ғабитұлы\\nқайыржанова аружан нұржанқызы\\nшінәлі бауыржан айдосұлы\\nалтынбаев санжар сакенулы\\nберилов никита васильевич\\nқаракесов бекжан адилбекұлы\\nсалиев адилет галымжанович\\nхалилов данил мавланжанович\\nолжатай іңкәр асқарқызы\\nторахмет аяжан ғалымжанқызы\\nсұлтанхан мерей болатқызы\\nеркінқызы ғалия\\nнуржау дінмұхаммед бегалыұлы\\nмұрат азамат мукиятұлы\\nкалиахметов иманғали құрманбекұлы\\nжұмабек дильназ ғаниқызы\\nәжімбетова мадина қайратқызы\\nмұратбекқызы лейла\\nсабетбекова ақбота қуанғанқызы\\nахметкерей әлжан дарханұлы\\nдосов спандияр наваиұлы\\nрахметова жанар ерболатқызы\\nтунгышбаева алуа маратқызы\\nджаксылык марлен муратұлы\\nамангелдиева аида ерболқызы\\nқұдрет әмина жалғасқызы\\nтилавбердиев эркин улуғбекуғли\\nтолысбаев жангир орынбасарұлы\\nерғалиұлы ерасыл\\nэльбрус ерасыл эльбрусұлы\\nалимбекеров әмір ерболұлы\\nбектұрсын гүлназ алькуатқызы\\nкубейсинов абдисалам сабитулы\\nмералиев қайырболат есболұлы\\nтоқтасынұлы азамат\\nәбдісадық аружан азаматқызы\\nшамшадин ернұр амандықұлы\\nпогорелов владимир сергеевич\\nмалошев рамазан мурадымович\\nайманов нурмухан алмасулы\\nоразбаева оркен айдаровна\\nкайдаров нуртлек кумарович\\nбағдатқызы жұлдыз\\nтурашбаева аружан ерболатовна\\nсулейменов султан ермекулы\\nжақсылық әдина жарасқызы\\nарапова асылжан тулюгуновна\\nқосжанова камшат өмірзаққызы\\nбақытұлы дамир\\nқоныржан мадина даниярқызы\\nабатов кабылбек арыстанбекович\\nқадырбаев нұрбақыт мұратұлы\\nеркін самғар\\nхон никита эрикович\\nкосаева улжан ерболовна\\nсагындыкова айнур куанышевна\\nмахаш дастан битемірұлы\\nелубаева сымбат әлібиқызы\\nбақберген бауыржан жеңісбекұлы\\nжұмәділ бағдат теңізбайұлы\\nдәулеткерім назерке ғайниқызы\\nжайбергенов ғани әлібекұлы\\nускенбаева дильназ оралбековна\\nқойшиев еділ ғаниұлы\\nәбенов аслан ғалымжанұлы\\nаден нұрсұлтан азаматұлы\\nрзағали әсел қойшыбайқызы\\nсергеев дәулет сарсенғалыұлы\\nбатырхан гаухар батырханқызы\\nмусина айдана канатовна\\nкаиржан ринат серикулы\\nхмелевский руслан игоревич\\nжақұпов диас асқарұлы\\nшоканбаев болатбек сабитулы\\nахметшариф сати санатович\\nмеңдіғара нұртуған мейрамбекұлы\\nсапарғали айнэль даниярқызы\\nкожабаев дастан болатович\\nболат тілеужан бақытжанұлы\\nорынтай абылай бимаханбетұлы\\nумарали динмухаммед нуржанұлы\\nагубаев алишер нургазыевич\\nновиков данил дмитриевич\\nөмірбай ілияс қайсарұлы\\nбекбулат асанәлі құралбекұлы\\nсейдін мағжан\\nарыстанбекова жамиля маратовна\\nрысдәулетқызы ай\\nасылова алина илшатовна\\nжақсылық құдайберген женісұлы\\nусипбек дулат маратұлы\\nсатыпалды айғаным асланқызы\\nорысхан сая мұхитқызы\\nсайлаубеков әлішер архатұлы\\nсабит ақнұр сабитқызы\\nқұдайбергенова мәлике арсенқызы\\nпак юлия руслановна\\nбейсенова дильназ дауреновна\\nтуганбай нурила куандыкқызы\\nтурганбеков мерей кенесулы\\nтастанбек орынбек жамбулұлы\\nданиял еркеш құрметқызы\\nхабсихова дильназ жансихқызы\\nабдишарапова сапаргул абдуталабовна\\nосинина ксения сергеевна\\nтолеугали римма базарбеккызы\\nхасен дінмұхамбет нұрмұхамбетұлы\\nберниязов нұрсұлтан жамбулұлы\\nмұғау жібек мұратқызы\\nуалиев алтынбек маратұлы\\nмарченко марина андреевна\\nжамбыл дінмұхамед агабекұлы\\nбағдәулетов нұрдәулет арыстанбекұлы\\nесмолдин ерлан айдынович\\nабдралы багдат аширалыулы\\nдосан айнұр сапаралықызы\\nжақсылықова аяулым рүстембекқызы\\nжолдасбаев ерсултан бакытжанович\\nсерікбай берік арманұлы\\nергешбаев шерзод хасанұлы\\nөміртай жасұлан үсенұлы\\nералы әділет қайратұлы\\nбазарова данагуль данияровна\\nфрицлер никита юрьевич\\nцой милена владимировна\\nтұрсынбек қайнар\\nсолтангелдінов нұрғали жұмағалиұлы\\nдүйсенбай ермұрат ақылұлы\\nақнұрыш нұраддин нұрланұлы\\nмықтыбек дәулет жақыпбекұлы\\nблизнюк сергей андреевич\\nжалмуханов әділбек алтынбекұлы\\nмадалиева сымбат ергалиқызы\\nкобков артур денисович\\nқасымбаев әділет талғатұлы\\nамантай ерасыл нұрланұлы\\nамангелды мухамеджан сабржанұлы\\nшәріп шерхан бақытұлы\\nжақас бекжан манасұлы\\nхамидулла гүлшат абатқызы\\nабдрахманов ахат нурланович\\nшестакевич даниил александрович\\nтоқтасын аслан дәулетұлы\\nәміржан ақерке серікқызы\\nамангелдин рамазан сайлаубайұлы\\nозат ерлан\\nбасхан ақторғын дәулетханқызы\\nжақсылықова назерке саражадинқызы\\nмырзағалиева қымбат дидарқызы\\nбектурганов меирлан жеңісбекұлы\\nтлеугажиев дамир берикович\\nрахимова нұрханым серғалиқызы\\nқабылбай азамат жетібайұлы\\nхан соломон вячеславович\\nоспанова ұлжан мусақызы\\nнұрсұлтан ақбота ержанқызы\\nким александр владимирович\\nбақтияр шерхан даниярұлы\\nбахтияров фозилхон хайруллаевич\\nречкина карина рашидовна\\nадетова айна канатовна\\nбабахан фатима абытханқызы\\nмиянова динара абдыжалилқызы\\nсаттар бекнұр бекжанұлы\\nсағат диас ержанұлы\\nеркін еламан\\nқалмұрзаев қыдырәлі талғатұлы\\nмуратов руслан бахтиярулы\\nтұйақ батырхан мұратұлы\\nэргешбаев алижон учкунұлы\\nжұмаш есімхан\\nголубник илья иванович\\nсултанбеков еркебұлан султанбекұлы\\nшиндаулет мәди рахимхожаұлы\\nсерікбай әділет жасұланұлы\\nказакбаев ақылбек шырақбайұлы\\nторабеков нодирбек зафарбекович\\nмағау алмат бауыржанұлы\\nтоқтарбаев елжас ерлатұлы\\nермекбай мағжан қанатұлы\\nаяш іңкәр ерланқызы\\nмырзахмет әділжан сәбитұлы\\nюнусов бағдат қалниязұлы\\nнысаналин елдос қажымұлы\\nжайлыбаева айгерим қуанышбайқызы\\nбауыржанова мақпал бауыржанқызы\\nсапабек ернар елдосұлы\\nасылбек аружан арыстанбекқызы\\nорынбек мұқағали қарабекұлы\\nбаяхметов раимбек серикович\\nтимощук даниил евгеньевич\\nнасип нұрмұхан абайұлы\\nжолдыбай эльдар асқарұлы\\nкоммунар қуанышбек арыстанбекұлы\\nданебек тоғжан жандосқызы\\nсансызбай ғайникамал исатайқызы\\nонайбек аңсарым пернебекқызы\\nташпулат жасур акмалұлы\\nболатов алихан бауыржанұлы\\nомирзах бекжан нұрланұлы\\nжакулла ернұр дулатұлы\\nжаукимбеков алишер акбергенович\\nқұлахмет азат райсбекұлы\\nрежабова айдана нуралиевна\\nмұрат тұмар\\nнаржан мардан ғабитұлы\\nтанбаева гулнара хожакелдикызы\\nадилбай бақытжан кайсарұлы\\nсаят санжарық санатұлы\\nкүмісбек сымбат нұрланқызы\\nнұржан мұрагер\\nсимбек мират жарасұлы\\nизмаилов али алиевич\\nжеңісхан ақбөпе сәкенқызы\\nтолеуов азамат\\nаблай бағдат жандллаұлы\\nнурсултан курмет рустемулы\\nмукатов абзал тыныштыбаевич\\nтурсынбоев бексултан досанулы\\nқарсыбай нұржан амангелдіұлы\\nсагденов самат ерланович\\nсмагулова алия аскаровна\\nжұмабайқызы дилназ\\nқұрманғалиев жігер асқарұлы\\nтұрсынтай қымбат жанболатқызы\\nатыгай олжас ахатулы\\nсамет айбек бекзатұлы\\nқұрманәлі ерсайын қайратұлы\\nолжабай әлишер\\nжанатханұлы қайрат\\nмурат омар асетұлы\\nсайбыр айерке қожахметқызы\\nдүйсенғали арайлым болатқызы\\nнақберген нұрхан бауырбекұлы\\nсаятов аңсар санатұлы\\nәлімқұл ерасыл мирасұлы\\nбармаков тимур тлеугалиевич\\nхамит рауан қайратқызы\\nгажданбек нұрсұлтан бақытжанұлы\\nбекмагамбетова диана дюсенбаевна\\nбақтығалиев әлішер бейімбетұлы\\nбайгобеков ислам айдосович\\nнұрасыл нұркен мусабекұлы\\nпротасов андрей алексеевич\\nсүйеубай гүлсезім аралбайқызы\\nәзіхан аружан даниярқызы\\nмахмутова айжан жұмағазықызы\\nабдрахман әлібек болатұлы\\nауеш нұргүл сапарбекқызы\\nқайырлы алихан нұрлыбекұлы\\nсапар мейірман арманұлы\\nнұркей малика саятқызы\\nмолдаш бекзат ержігітұлы\\nнұрдәулет тәңірберген мұратұлы\\nдаулетова майра акылбаевна\\nсайфуллин бексұлтан бақтыгерейұлы\\nгомонова дарья сергеевна\\nбимжанов тамерлан темирбулатович\\nнашкенова іңкәр нұрлубекқызы\\nбақытұлы азат\\nмайдан дильяс асылбекұлы\\nбастеми мадияр маратұлы\\nалпысбаев жандос серғазыұлы\\nалирақым алишер нұрғалымұлы\\nатыгаев оразалы талгатович\\nсундетов алихан алтынбекович\\nесенбаева назгүл қуанышқызы\\nахматов нұрдаулет ғабитұлы\\nтагайбек аяулым агабекқызы\\nниязов есет рахметұлы\\nхусан сауран нұрланұлы\\nсәрсенбек гулжазира даниярқызы\\nбахыт аяжан жеңісқызы\\nсейілханова әдемі болатбекқызы\\nабдошева нәйла асқарқызы\\nдүсіпова шахмарал бақбергенқызы\\nқожақұлы дарын\\nгабдулкалиев нуржан серикович\\nдиярова аружан болатқызы\\nқадырбеков бекжан жанатбекұлы\\nадилжанов нурсайд абдишукурұлы\\nартықбай азамат нысанбайұлы\\nтәшім дархан маратұлы\\nсерыкбаев бауыржан багдатұлы\\nпискарева маргарита евгеньевна\\nсерік зеңгір\\nжамбулов султанбек жанибекулы\\nбейсенбек қаныш қанатұлы\\nибраимкулова ләйла ерханқызы\\nутегенова мадия бауыржанқызы\\nесмугамбетова аида сулейменовна\\nжолдыбаева әсел нұрланқызы\\nнурмаханов куат кайратович\\nшахали айша ильгамгызы\\nсығайбаев бекболат серікұлы\\nкожабергенов таиржан адилжанович\\nнурпеисова зарина ришатовна\\nжүсіп нығметолла нартайұлы\\nнияз әкежан мұхамедшарипұлы\\nсадык мирас даулетұлы\\nнаурызбаев абзал есенбетұлы\\nасан рамазан омарқұлұлы\\nвалихан ердәулет мамырханұлы\\nнсанбаев дінмұхаммедрахмани сүлейменұлы\\nдосанов ілияс қайрласұлы\\nгазимов диас рашидұлы\\nшаймерденов серік ерлікұлы\\nли анна сергеевна\\nайткен алишер балташулы\\nмормуленко никита викторович\\nяворский вячеслав николаевич\\nкәрімжан жанболат майрамбекұлы\\nжупаркожаев арман ерланович\\nжақсылыкова жайнагүл жақсымұратқызы\\nсайлаугазинова гульжан даулетқызы\\nмұқатаева аружан айтбайқызы\\nсалман аружан бауыржанқызы\\nжани адиля қанатқызы\\nтұрсынбек жансерік жанібекұлы\\nермекбай арман серікбайұлы\\nсарсекенова амина ерланқызы\\nпіләлова сандуғаш әбсаматқызы\\nбисенғалиев темірлан барлықұлы\\nжилов артур владимирович\\nнегутаров александр михайлович\\nжәнібек ерқанат әлібекұлы\\nжумагул нұрайым кайратқызы\\nмұсаев айтық махсұтұлы\\nбалтабай аружан канатбекқызы\\nреметулла нұрбол талғатбекұлы\\nабсалимов абдуали рамазанулы\\nсерікбай әділет дәулетұлы\\nжарылғапова элеонора мұратқалиқызы\\nрахымбаева жания серғалиқызы\\nбақытжан жанбота бақытжанқызы\\nбекайдар нұрқожа асқарұлы\\nәлижан меруерт меирбекқызы\\nнурмухамедова диана талгатовна\\nавдеенко максим витальевич\\nсарсенбаева альфия амангельдиевна\\nпішенбай асылбек мұхтарұлы\\nтөлеген жұлдыз есетқызы\\nөмірзақ дінмұхаммед ерболұлы\\nкурмангалиев олжас амангельдиевич\\nкульжанисов алихан бахытжанович\\nисаев исламдин садырдинович\\nнасырова наргиза куатовна\\nорынбасар аяжан орынбасарқызы\\nбескен нұртай еркегалиұлы\\nглинский иван николаевич\\nжарлығасын ерасыл амангелдіұлы\\nбахитжанова дильназ набиевна\\nдаулетов досхан дауренович\\nадил бексұлтан батырбекұлы\\nталдыбек қайнар\\nырсымбет меруерт нұржанқызы\\nтоғамысов әбілқайыр оңалбекұлы\\nканал жанна ерханқызы\\nакмырза рахат бердібекұлы\\nайсултанов ғалымжан казбекұлы\\nсмагулова айжан кайратовна\\nнұрланғазықызы бағнұр\\nнамурадин тоғжан мұратқызы\\nқыдырбай мереке айдосқызы\\nайтбай арыслан калмаганбетұлы\\nбейсембеков алишер жомартович\\nнусуп дамир саматұлы\\nомаров асылжан болатбекұлы\\nайбарұлы ғазиз\\nмусирманкул еркебулан талғатұлы\\nсұлтанұлы диас\\nрсымбетов мақсат бахтиярұлы\\nтастанбек кеңес болатұлы\\nқоблан ерасыл талғатұлы\\nжүнісов жансерік ермуратұлы\\nбисембаева ару арманқызы\\nқайнаров нұрсұлтан нұрманұлы\\nермуханбетов ербол нурасылулы\\nмұхан інжу ермекқызы\\nбердібек ертарғын ерікұлы\\nәкімбек мерей бауыржанұлы\\nсағидолла аягөз қанатқызы\\nсагалов жандос талгатулы\\nсатылған естай асқарұлы\\nсеитов данияр сабиржанович\\nкириенко иван максимович\\nбазаркулов дастан аскарулы\\nсултанбеков рамазан муратович\\nрысқалиев жасұлан алтынғалиұлы\\nалимбеков бакдаулет дастанович\\nмақбаева айару айбарқызы\\nабдоллаев әділет қанатұлы\\nсадықов бақдаулет ерланұлы\\nшертай дамира қанатқызы\\nнурлыбай нурбақыт азилханұлы\\nамирзадина мерей ержанқызы\\nбейбітхан жадыра\\nжумагалиев диас муратович\\nисмағанбетова томирис арыстанбекқызы\\nтлепберген абдусамад болатбекұлы\\nжунуспеков алихан кенесулы\\nжумыгалиев ернар каирбекович\\nабуева әсем джамбулқызы\\nтөкен бауыржан мейірғазыұлы\\nдюсембаева сауле абайқызы\\nөмірзақов ерсұлтан маратұлы\\nраимбек мухамед-али нұржанұлы\\nқалиасқарова аружан жеңісқызы\\nадамова аида женисовна\\nфайзулла мұрат саттарқазыұлы\\nгизатов арнур гамзатович\\nжақсылық аяужан талғатқызы\\nтангирбердиева асемай серик қизи\\nян валентин алексеевич\\nклимакова софья николаевна\\nтатенов азизбек аскарович\\nнурдыбек әділбек\\nмажитова аяжан исаханқызы\\nшуақбаев олжас дарханұлы\\nсағынбек бегарыс нұрлыбекұлы\\nсагалиев ануар тимурұлы\\nулыкбеков талант маратович\\nсимембаев тамерлан ержанович\\nмирасов дамир русланұлы\\nслямғазин айдос серікұлы\\nтореев елшод хамидуллаұлы\\nсарқытбаев диас жомартұлы\\nмороз владислав владимирович\\nебраш нариманбек орынбайұлы\\nкалиева кәмшат елтайқызы\\nтаубеков султан нурланович\\nхарченко анатолий сергеевич\\nдаутов арман маратович\\nпузач александр васильевич\\nбонк даниил михайлович\\nабикеев алан рустамович\\nлепесов даулет русланұлы\\nкайржан иассауи ахметжанұлы\\nбелоусов алексей сергеевич\\nмеербекова мерей маратовна\\nмырзахмет абзал алмасбекұлы\\nнуракын бексултан серикулы\\nсайнулдинова ботагоз бакытжановна\\nтемирбаев жаксылык даулетханович\\nасқарова шынар асқарқызы\\nтайрова назымгүл ризабекқызы\\nапетова дилназ қанатқызы\\nамандық шерхан мейрханұлы\\nмұхаметқали ертөре ерболұлы\\nкамелов нұрлыбек наурызбайұлы\\nрахымжанова дильназ қуанышқызы\\nзейлбек бек абайұлы\\nонғар әділет жарилқасынұлы\\nотарова мадина қадырбекқызы\\nабдикулов асилхан абдихашимович\\nжумагалиев амир ерланович\\nаяш тамерлан асылұлы\\nабдурахман райхан мейрамбекқызы\\nуспанов асанали амангельдыевич\\nсучилов сергей валерьевич\\nсандыбай рауан сәкенұлы\\nхабиболлина бекзат бағдарқызы\\nшалкен алишер ерланұлы\\nоразгелді сұлтан даниярұлы\\nпрядко дмитрий сергеевич\\nқарсыбек аделия ғалиқызы\\nқұсайнова еркежан ризабекқызы\\nпиннекер иван иванович\\nқұмарғазы мәдина қанатқызы\\nахметқалиева дильназ ерболқызы\\nтоқтарбаева дана ақанқызы\\nмик яна владимировна\\nсоветбеков ерасыл асылбекұлы\\nгайтпаева көркем арманбекқызы\\nбилалов баходир бобирович\\nсаттаров ахметжан мусабекович\\nайнабеков ерасыл қайратұлы\\nислам расул мубаракұлы\\nмухайулы ерасыл\\nбақтыбай аманбек мырзағалиұлы\\nталғатов бауыржан дарханұлы\\nабад батырхан асылханұлы\\nфайзулла нұрсая жеңісғалиқызы\\nабылхатов адиль ануарович\\nжайлауов данияр толқынұлы\\nпак руслан вадимович\\nсатпеков ерасыл ербуланұлы\\nартыкбаев даниярбек жандарбекович\\nхалтөре меруерт бақытжанқызы\\nаманов ербол мукатаевич\\nрахманберді еркебұлан жақсыбекұлы\\nбатыров айболат абайұлы\\nсалогубова анастасия павловна\\nқожамұратов мадияр маратұлы\\nнұрғали асылай ерболатқызы\\nсабыр ақбота сәтқызы\\nнуржауганов анварбек кайыржанович\\nдасаева дана жеңісқызы\\nжанатбеков жанкелді қанатбекұлы\\nкушер жанерке құрманбекқызы\\nтабылдиев рауан булатович\\nсозыкин игорь борисович\\nким владимир вячеславович\\nтоқсын арсен ғазизұлы\\nшаймерденов нариман бауржанович\\nәбдіраман әсел маратқызы\\nжұмаханбет ақбота ерболқызы\\nахметов нурали боранказыұлы\\nжұмакелдіұлы бекжан\\nдостанов ақан алматұлы\\nумирали карина санзарқызы\\nсартаева жібек қуанышбайқызы\\nбахтияр бақдаулет нұрдаулетұлы\\nахымбек әли ерқанатұлы\\nкалышев диас азаматұлы\\nжуманов рамазан маратұлы\\nахметқазы нұрдәулет болатұлы\\nсаматов нұрбол есенғалыұлы\\nсапарбай бексұлтан сейткерімұлы\\nисадық айгерім дидарқызы\\nнуркеримов алихан мускартович\\nакшева майра төлегенқызы\\nабдукарим нұржігіт қанатбекұлы\\nбулатов максат азаматович\\nмухтарбеков бекжан фархатович\\nжумажанов амирхан серикович\\nахмеджанова айман магпурқызы\\nли владислав андреевич\\nабишев даулет ғалымжанұлы\\nнұрланбек қарлығаш\\nшәріпов жасұлан қошқарұлы\\nқуандық бексұлтан мухамеджанұлы\\nәскербек саян маратұлы\\nдүйсенбай нұрдәулет нұрбақытұлы\\nмалик камил талгатович\\nсероид денис александрович\\nболатбек айдын\\nтөреғалиев нұрдәулет сапарғалиұлы\\nсейлханов темерлан сакенұлы\\nхалелова елдана серікқызы\\nсағитжанова гүлсезім аманжолқызы\\nоразбаев феликс владиславович\\nбайжанов искандер ерболович\\nкөшербаев абылайхан бауржанұлы\\nабдикаримов ануар ахатович\\nесенбаева гүлназ қуанышқызы\\nжунусов алдияр тугузбаевич\\nмұхтар фараби сәкенұлы\\nмырзағұлов нұрсұлтан әкімгерейұлы\\nнұрсұлтан ақнұр ерланқызы\\nсорокопудов никита александрович\\nсапарбаев жандос ержанұлы\\nмустафина дилназ асетовна\\nмукашев султан ельжанович\\nабзелбекова айзере жалғасбекқызы\\nсағынбаев нұрхан қуанышұлы\\nиса нұрбақ досболатұлы\\nджубаев умид айбол уғли\\nтатаев әлімжан нұркенұлы\\nкаирханова шынар канатпековна\\nбекмухамет ақпейіл даулеткелдіқызы\\nбутабаева дарига армановна\\nсоветбекова асель аслоновна\\nқамысбай балауса мұхтарқызы\\nтоқанова шұғыла маратқызы\\nелеусізова асылнұр ертайбекқызы\\nпәсілтай балерке әмірбайқызы\\nмолдахметова нұрай берікқызы\\nалмат бақдәулет адылбекұлы\\nтелемисов мадияр куанышевич\\nуакова айгерим медетовна\\nзейнуллаев рамазан мұратұлы\\nхалыкова арайлым есенбулатқызы\\nшыназбаева айшагүл саматқызы\\nсағынтайқызы аяулым\\nхумарсерік шерияздан\\nсмағила жадыра адилбекқызы\\nсыдиықова гүлнара рақымжанқызы\\nтурсынгалиева альмира нурбековна\\nтәжікен шыңғыс қанатұлы\\nмырзағозы абылайхан алмасбекұлы\\nпан дмитрий станиславович\\nаскербек бақытжан нұрсеитұлы\\nмиршанов даниил ильдарович\\nкажмуратов куандык тулеугалиевич\\nбайнбет бахтияр саятұлы\\nнургумаров дастан асхатович\\nнұрмахамбет нұрдәулет ерғалиұлы\\nберденов аңсар дулатұлы\\nнуруллаев илья эльдарович\\nкудайберген назгуль акназарқызы\\nанварханов қуат саматұлы\\nқыстаубай бағдат мұхатайұлы\\nхафиз аблайхан агзамұлы\\nидрисов чингис нурланович\\nмэлс анел алмабекқызы\\nнұрболатұлы мағжан\\nқуанышқызы диана\\nесболов ғалымжан айқынұлы\\nақжол айғаным ермекқызы\\nсерік әділет ескендірұлы\\nпискунова анастасия андреевна\\nболатқызы айсұлу\\nамангелді диана даниельқызы\\nатай баян берікболқызы\\nтілегенов мирас берікұлы\\nорынбасар дана саматқызы\\nаманжолова әсел алматқызы\\nкибасов олжас салауатұлы\\nсағындықова аида әлиқызы\\nкенжебек ақнұр маратқызы\\nзекенова альбина альбертқызы\\nостапенко александр дмитриевич\\nомарова арайлым бердібекқызы\\nжұмажан мадина ғаниқызы\\nмұқанбетбаева інжу мұқанбетбайқызы\\nсайран жігер шыңғысұлы\\nмирзалимова алия вахитовна\\nзайтенов санжар мухтарұлы\\nомаров батырхан муратович\\nшамсудин дархан маратұлы\\nқұлан нұрасыл мұстафаұлы\\nмырзағазы рауан аянұлы\\nкуанышева назира куанышевна\\nжүрсін диас тұрарұлы\\nмахмут санжар\\nқазыбек диас батырханұлы\\nаман әсем дәулетқызы\\nкалмахамбет нұрдәулет ерғазыұлы\\nхабибуллаев нұркен сәкенұлы\\nбузинов даниил николаевич\\nаманбаева жансая бауыржанқызы\\nтөлеген бағыжан\\nтоқтасын бекарыс нұртайұлы\\nсатыбалдин ұлан бейбітұлы\\nелесов абылкайыр абылкасымович\\nфедяшин владимир михайлович\\nалдаберген таңат қалдыбайұлы\\nнақабіл дәуір дәуренұлы\\nдүйсенбек мәдина бақтыбайқызы\\nсұлтанхан әзіретсұлтан исабекұлы\\nорынбасар ерасыл таңатұлы\\nбейсенғалиұлы ансар\\nжеңіс айсерік айбатұлы\\nқосмағанбет азамат мұратұлы\\nкайрат диас даулетұлы\\nабешов ален ержанович\\nамангелді нұрхан рыскелдіұлы\\nтулеуов тимур маратович\\nесмаханов алтынбек дамирулы\\nмұхатұлы алпамыс\\nөскентай саян саматұлы\\nбиназар әділ еркебұланұлы\\nтажимбетова жаннур полатовна\\nсеилханов даурен муратулы\\nтемиржанова дильназ болатовна\\nсейфулла айбек сейфуллаұлы\\nбегалыұлы бекұлан\\nсағынбаева самал сәбитқызы\\nсағатжанова сабина сабырқызы\\nдаткин махамбет қойшыбайұлы\\nеламанқызы еркежан\\nаюпова аэлита жанасқызы\\nмарат мөлдір еркінқызы\\nарслан әсем ерғазықызы\\nабилкаир данагүл беккалиқызы\\nкикбай бибіфатима есболатқызы\\nқұсайынова аружан асхатқызы\\nәсафи нұрбибі балтабайқызы\\nсовет мөлдір серікқызы\\nсексенова жұлдыз мұратқызы\\nқаржаубай алтынай айтқалиқызы\\nнесіпбай алтынай айдосқызы\\nбахтияров диас қайратұлы\\nбаймағамбет дариға ержанқызы\\nгабдолов мирас мендегалиевич\\nманатова лунара жомартқызы\\nахметова салтанат амангельдықызы\\nшуланбай дархан ержанұлы\\nалимбетов даулет болатович\\nжанибеков амирхан даниярович\\nсәпін ақжол қуанышбекұлы\\nүсенов дінмұхаммед нұрғалиұлы\\nбақытжанқызы майра\\nмейрамхан нұртілеу нұржанұлы\\nсәрсенкұл тамерлан асанұлы\\nкәдірбек санжар еділұлы\\nтулигенов азамат русланович\\nкалибеков санжар кайратович\\nайтбек нұрбол ерболұлы\\nмалгаждар әлижан айдарұлы\\nжолдыбаев диас серикович\\nайдарханов анвар арыстанбекович\\nдробинская маргарита сергеевна\\nмагура вадим александрович\\nжубаниязов сагиден сахиулы\\nсаиткулов жавохир турсункулович\\nондаш азамат салиұлы\\nқұмаролла ерікбол\\nсләмханова айсұлу әділетқызы\\nсактаганов эрик калелович\\nмұратбеков ернар ниязбекұлы\\nсәрсенбек әлібек абзалұлы\\nтабельдинов наиль искакович\\nтур андрей сергеевич\\nкарамышев антон дмитриевич\\nжақсыбаев айдын жақсыбайұлы\\nерназар ескендір ердаулетұлы\\nнұрбаулина айсәнім қанатқызы\\nганибаева несибели даулетбайкызы\\nрахымбек камилла қайратқызы\\nкенжеханов қамбар қайратұлы\\nсайлаубай ұлан ералханұлы\\nсоветханов азамат мейрашевич\\nтешебаев ералы мұратбекұлы\\nоспанова жания ерболқызы\\nандрейқызы ханзада\\nбекходжаев диас алибиұлы\\nголовко максим олегович\\nтөлеу фатима нұрланқызы\\nсембаева айнур сембайқызы\\nмықтыбай бақытжамал дарханқызы\\nкемелбекова динара турғынбекқызы\\nсұлтан аружан қылышбекқызы\\nидрисова алима бауыржановна\\nдосмұрза нұрсаддам нұрланұлы\\nвалл ирина николаевна\\nбайбекова ахмаржан курмангазықызы\\nбилялов арсен евгеньевич\\nасылхан назар асылханұлы\\nизбасқанов қанат нуралийұлы\\nаширалиева гулноз алғабекқизи\\nумбетов расул оралханұлы\\nмұхтар перизат нұргелдіқызы\\nқайратбек дамир қайратбекұлы\\nсейдалхан хаким фазылханұлы\\nхасангалиев бекзат беркайрұлы\\nбайболов данияр аликұлы\\nжұмағазин әлинұр жұмағазыұлы\\nпростин руслан романович\\nсейтжан назар қуанышұлы\\nәмір бақдәулет акимбекұлы\\nзакрашова айгерім русланқызы\\nзаикина анастасия андреевна\\nасхат аль-азиз асхатұлы\\nесжанов нурадил алжанович\\nөсерұлы тимур\\nсергазин әділ мақсатұлы\\nоманов дамир ержанұлы\\nхан вячеслав михайлович\\nмедеубеков серғазы ерболұлы\\nрезуанов алмас саматович\\nболат әль-арафат мусалиұлы\\nерланұлы жарас\\nсолодовников иван сергеевич\\nгоряев алмат жангирович\\nканафин темірлан еркебұланұлы\\nқұмар нұрлыжан қуанышұлы\\nкелеманов сапармурат мухамбетович\\nнурмолдақызы данель\\nмұратова алтынай бауыржанқызы\\nшерубаева дина руслановна\\nсерикболқызы раушан\\nсаумен мәдина шоқанқызы\\nбазарбаева айкоз муратовна\\nахмет әлішер асылбекұлы\\nсағиталина дильназ батырханқызы\\nасқар рүстем асқарұлы\\nмарат иманжүсіп муратбекұлы\\nамангельдин ерасыл айдынұлы\\nсегизбаева анера болатқызы\\nешенкул камилла ерханқызы\\nәмірбек дарын қайрбекұлы\\nзакарин бекзат серікқалиұлы\\nбегжанова асия казыбаевна\\nоралов мерей нұржанұлы\\nеркін аяулым орынбетқызы\\nбегимова адина ансаровна\\nрамазан әли асыланұлы\\nшәріпкан маржан мәуленқызы\\nбағыт айда бағытқызы\\nжоламан марал қурбанбайқызы\\nмаулетов алишер медетулы\\nомарова сымбат нұрғалиқызы\\nжунусова меруерт каирбековна\\nсейтмұхамед бекарыс берікұлы\\nкаримов амир ерланович\\nрахмед едіге хайруллаұлы\\nжумадилаев айдархан ибадуллаулы\\nомаров ернар ерболұлы\\nаманкелдиев бағдат маратұлы\\nдинмухаметов шынгысхан динмухаметович\\nкараманов кеменгир собит уғли\\nкаримжан жалғас досұлы\\nсарсен арсен сабитович\\nбайжанов алишер куатұлы\\nасан шыңғыс асқарұлы\\nәбдуайт жанар нұрдәулетқызы\\nюсуп аида ахметжанқызы\\nкургунбаев рауан саветович\\nқойшықұл абдислан талғатұлы\\nтөлеубаева дильназ асхатқызы\\nқұнанбеков айбек аманбекұлы\\nабдисалалов шерзод шавкатович\\nәуесбек алуа берікқызы\\nбакиров абзал тулегенович\\nныгмет лейла нурланкызы\\nбайзен зарина тулигеновна\\nмуханов нұрдаулет файзоллаұлы\\nкозерук александр александрович\\nшотаев асылхан муратович\\nерғалым ерсанат\\nәбу әлихан серікұлы\\nахмет рамазан мұхтарұлы\\nәкім әбубәкір ғалымжанұлы\\nтемирханов темирлан муратханович\\nабдрахман назым дарханқызы\\nбахрам бексұлтан нұржанұлы\\nдосымбеков нұрдос сабырбекұлы\\nсерікқызы нұрдана\\nраматов ильяс манибекугли\\nдастан санжар абдиғалиұлы\\nпак виталий юрьевич\\nрыспаев мадияр галиханович\\nшакиров темирлан серикбайулы\\nәділханов мардан серікбайұлы\\nтұрымбетова гүлнұр жалғасбекқызы\\nбауыржанова мерей бауыржановна\\nорынбайұлы темірлан\\nалтайұлы айзат\\nарыстанбек мұхаммед байтемірұлы\\nтолкинова саёра фархадқызы\\nәбішбек бану әбішбекқызы\\nибрагим данияр азизұлы\\nорынғалиева нұрай асқарқызы\\nроман асылжан жамбулұлы\\nтурысбекова алуа нүркенқызы\\nқуанышбеков азамат маратұлы\\nкадирбеков ержан еркінұлы\\nберникова айнелла сергеевна\\nерланұлы темірлан\\nткач александр викторович\\nсаржанқызы жұлдызай\\nплаценко алёна леонидовна\\nбегибаева аяжан ерденовна\\nбалтабай думан мұханұлы\\nбайжанова мөлдір салаватқызы\\nканапия аружан даурамбекқызы\\nжұбатқан айдана маралқызы\\nмухтарқызы жанель\\nнұрмұханбет ерұлан даниярұлы\\nсапаев тамерлан аликович\\nнусупеков арнибек нурланович\\nаққали айтөре қайрбекқызы\\nтумарбаев адай өмірұзақұлы\\nләтіш әбілпәсім әбделпәттеұлы\\nшопалов ислам асқарбекұлы\\nжумагалиев дастан аскарович\\nизбасов ғабит құттыбайұлы\\nиващенко геннадий владимирович\\nшәріп рахимжан қайратұлы\\nсуиндиков мерей дидарович\\nқуаныш ерасыл қайратұлы\\nгайсиева марал ербулатқызы\\nсулейменов санат бауыржанович\\nаймағамбет әлихан нұрбекұлы\\nсинельников максим александрович\\nракимов ернұр махамбетұлы\\nжанадль бақытжан абайұлы\\nильясов темірлан ғалымжанұлы\\nбекен ақсәуле ермекқызы\\nуасбеков дарын қанатұлы\\nасан нұрбол шалқарұлы\\nәділ ұлдана асхатқызы\\nжұмағалиев ерсін серікұлы\\nалиаскарова алтынай ержанқызы\\nбейсенбай мағжан қазыбекұлы\\nелмар зарина ерланқызы\\nайткалиева дана абзаловна\\nдуйсенбеков бақдәулет сағидуллаұлы\\nексанов мерей қадыржанұлы\\nумутқанов нұркелді нұрдаулетұлы\\nжеткерген бауыржан нұржанұлы\\nмаксимова асель ардаккызы\\nданабек данеш дауленұлы\\nтапен нұрай олжасқызы\\nшаймерденов рустем айдынович\\nкаимова луиза иссаевна\\nстатенин георгий дмитриевич\\nдариссалам нұргүл ерболқызы\\nтолепбекова дина ерболатқызы\\nкамбаров дильшат закирович\\nегінбаев ақжол қуанышкерейұлы\\nонлан данияр дулатұлы\\nжұматай сауле бақтыбекқызы\\nанетова анель алишерқызы\\nержанқызы лаура\\nәуез аймира болатқызы\\nтоленгутов расул рустемұлы\\nізғали нұрберген тлегенұлы\\nбатыргалиева жұлдыз мерекеқызы\\nабдукалыков рахат болатович\\nжумадил біржан айдосұлы\\nсысоев александр константинович\\nайжарыков диас аскарович\\nқибатбек ақжол\\nбейназарова ойпопук тургалий кизи\\nшукиров бекхан сайедханулы\\nжамағатов нұрқанат насихатұлы\\nесен дінмұхамед ерғабылұлы\\nоспанова меруерт жанатовна\\nдаулетбайқызы махаббат\\nтоқшылықов мұхаммеджан абзалұлы\\nбейсембай жандәулет бақытұлы\\nбекназаров кайрат ермуханбетович\\nмұсақанов бексұлтан ерланұлы\\nжаксебергенова зухра урымбасаровна\\nшульженко родион валерьевич\\nтолстов вадим юрьевич\\nқыдырәлі жанболат қыдырбайұлы\\nсағынғалиев бексұлтан дәулетжанұлы\\nхан денис андреевич\\nшегебай жасұлан төребайұлы\\nсейдахметов абылайхан олжасұлы\\nкайрулинов нурбек жанайдарұлы\\nтөлеу аружан жанатқызы\\nтлеужан әмір талғатұлы\\nбекмурзин алимжан нуржанович\\nмейрам алдияр ермекұлы\\nәліпбай мағжан жаңбырбайұлы\\nсапарбаева сания жақсылыққызы\\nкеңесов нұртуған жантемірұлы\\nдуйсен бек мусабекович\\nжақияұлы жантөре\\nқойлыбай шынасыл серікұлы\\nеркебулан алан арманұлы\\nсерік мейіржан асылұлы\\nкунходжаев мұхаммедәлі джунисханұлы\\nуәлихан ғабит кеңесұлы\\nнұралхан мұхамедин хожаахмедұлы\\nражан қуаныш дәуренұлы\\nсұрағанов абай қайратұлы\\nихсанов ахас сабиржанович\\nканиев жангирхан айбекулы\\nбаймұрат жандос жалғасұлы\\nнығмет рүстем ақатайұлы\\nәбдіхамитова оңалай қайратқызы\\nтөлеген ерасыл жанатұлы\\nнургисаева улпан максатовна\\nмақсұтбек азат бақытбекұлы\\nелеукен бибінұр кенжебекқызы\\nілияс мерей жұмагелдіұлы\\nмихайлов ердаулет ерланович\\nелеубаева гүлханым берікқызы\\nкеңес жансая маратқызы\\nазаматұлы әділ\\nкульсариева диана тимуровна\\nхудобина анастасия евгеньевна\\nсеилханова гулшод мурзабаевна\\nсұлтанбек дамира қанатқызы\\nбатырбаева алуа саятовна\\nоткир медина бекжанқызы\\nмухамбеткереев асқар кенжебекұлы\\nаманәлі ақжан фарабиқызы\\nканибеков айбол алибаевич\\nкусаинова адина жумажановна\\nжакан жан серикович\\nкасымбеков арман орынбасарулы\\nкушекова аксулу ербулатовна\\nасанов канат абдукодир угли\\nмұхаметқалиева еркежан ерланқызы\\nсерікбай нұрғиса сабитұлы\\nмустафин жаншуак қайратұлы\\nбеков исмаил багаудинович\\nшопашева сауле тельманкызы\\nаманбек тасхын\\nбердібек дана бауржанқызы\\nмусурманова нурсулу орынбосарқизи\\nоналбаева айдана кунтуганқызы\\nсағатбек абылай айбекұлы\\nқуанышбеков абылай нұржанұлы\\nәбен дарын дәулетұлы\\nмықтыбай бексұлтан маратұлы\\nжұмажан диас русланұлы\\nорманов аленжан нуридинұлы\\nдастанқызы айнур\\nшабдаров исатай серикұлы\\nтулебаева саида ракымжановна\\nвалиев данияр талпырганович\\nниязбекова айдана медеубекқызы\\nуалихан ерасыл амангелдіұлы\\nасылбай елнұр қанатұлы\\nтасболат заңғар нұрболатұлы\\nкайыпов елдар абаевич\\nбекбауов азат русланулы\\nчучман артем сергеевич\\nурузбаев ерсен серикович\\nқырғызбай әлнұр бауыржанұлы\\nпопов илья сергеевич\\nбалтабай ерік талгатұлы\\nбахридинов жарқынбек маратұлы\\nжумаев бейбарыс мухтарұлы\\nсұлтанов нұрбек атымтайұлы\\nкалиева гульназ сагынтаевна\\nбисейтова диана асылхановна\\nстамшал маржан нурболқызы\\nтешебай мұхтар рахатұлы\\nержан сая\\nқыстаубай арғын орынбасарұлы\\nамандолла нәйла байтаққызы\\nаталин султан нурланович\\nрсалин каирбек сабитович\\nжұматай бекжан тойшыбекұлы\\nнурпеис асаби\\nсаутов султан серикович\\nсапашев бектас кайратович\\nбазарбеков санджар қайратұлы\\nжелеу олжас баяндыұлы\\nалтай ернар еркебұланұлы\\nкушеков алмаз талгатович\\nрысқұл рыскелді есболұлы\\nсейсенбек дәуірбек\\nбезверхова екатерина станиславовна\\nикрамжан ғани мұратұлы\\nазанбекова гүлдана қазбекқызы\\nқалдыбеков әбілқайыр ғалымбекұлы\\nсатпеков бауыржан болатұлы\\nабдиев бекбол камолбойұлы\\nажимбетов сұлтан канатұлы\\nәбжаппар бердібек сәрсенұлы\\nмазан ернар асылбекұлы\\nсолянин вячеслав николаевич\\nербол қуаныш нұрланұлы\\nкаримбердиев нурсаид сакенович\\nмінайдаров бақдаулет ақылбекұлы\\nкалдыбай қуаныш ринатұлы\\nермухамедулы абдурахман\\nәділхан арайлым бақтиярқызы\\nуәли арайлым сәбитқызы\\nбакесова айжан алмазовна\\nасылбек сағындық сәкенұлы\\nдасаева дина жеңісқызы\\nадилова жанар бауржановна\\nазамат назерке азаматқызы\\nторехан балжан сүндетуллақызы\\nжелдібаева маржан бақытбекқызы\\nхожамберди бибимариям муминжанқызы\\nнұрмұханбет арман талантұлы\\nдүзелбай жаннұр нұржанқызы\\nдьяченко валентина юрьевна\\nлес жанна шакенқызы\\nсейтжанова ұлжан қайратқызы\\nсмаилов ильшат дильшатович\\nолжабай елдана олжасқызы\\nмақсетов абылай сабитұлы\\nқалиева сабина айдарқызы\\nкабул әсел досумбекқызы\\nмухамедьярова назерке ершаткызы\\nлягина виктория витальевна\\nкозлова юлия сергеевна\\nахметжан қадірәлі төлеубайұлы\\nратников кирилл васильевич\\nмейрамбеков мәди бауыржанұлы\\nсейткамалова алина аликовна\\nоралова аина ерсінқызы\\nқанатова эльмира ғамзатқызы\\nбайсарина аружан рүстемқызы\\nхамити малика руслановна\\nбиекеев тұрсынбек ғалымжанұлы\\nжұмаберген алтынбек асқарұлы\\nотарбаев нұрислам дарханұлы\\nмақаш мұрат ерікұлы\\nсерік қуандық сымбатұлы\\nгаджиев рафик рауфоглы\\nбекбау жансая болатқызы\\nабуұлы жомарт\\nасхатова назлы асхатқызы\\nқонақбаев қайыржан\\nкошыбаев нуржан бауржанович\\nсалканов әділет максутұлы\\nайболатов әли айболатұлы\\nтурсынәлі самал нуржанқызы\\nкондратков кирилл андреевич\\nибрагимова ханифа бахтияровна\\nсамарин александр денисович\\nсарсембаев нұралы аманжолұлы\\nрүстем ескендір рүстемұлы\\nреймбаев қажымұханбет махмутұлы\\nсексимбаев наиль бауржанович\\nгомар мади бауыржанұлы\\nтәжібай дарын ғазизұлы\\nтоғай нұрайна қазанбайқызы\\nашигалиев жандос тимурович\\nмиратов темірлан ерболұлы\\nсерікбай бекарыс қанатұлы\\nкәдір рамазан баширұлы\\nрахметов мурод эркинович\\nрахимов мансур рашидович\\nтаңатарұлы жеңіс\\nохан индира ерқанатқызы\\nжаппар малика тұрманбекқызы\\nберг владислав сергеевич\\nневедомский никита борисович\\nкатеков еркебұлан мұратбекұлы\\nилимхан аманай\\nрамазанов нуржан амангельдыевич\\nартыкова наргиза алиевна\\nшидербаев тамирлан еркинович\\nданый серікбол нұрланұлы\\nкаримова мөлдір кабдынманатқызы\\nтеплов юрий сергеевич\\nумаров арсен иразханович\\nануарбек ықылас айдынұлы\\nбабаджанов самад муратович\\nнесіпқұлов ырысбек молжігітұлы\\nсатыбалдиев нұрсерік ерболатұлы\\nжокенов елжан осиетұлы\\nмендигалиев нурлыбек бауржанович\\nтоқанова ақжүніс ерланқызы\\nнұрланұлы мерей\\nмахамбет аружан жанболатқызы\\nмергенов аслан тимурович\\nтлек еркеназ тлекқызы\\nесбергенова дильназ елдосқызы\\nмендибай султан құрманұлы\\nтайпақова аружан әміржанқызы\\nәлібек жанерке мухиддинқызы\\nтәубақабыл нұрлыбек мұратбекұлы\\nшабалин артур сергеевич\\nимангалиева алина олеговна\\nабдукадиров фарход абдусалиевич\\nелтаева аяулым елтаевна\\nкаракулев константин николаевич\\nбайгузиев ильяс кайратулы\\nмамаджан асадбек мұхаметжанұлы\\nжетписова айдана талгатовна\\nақылбек әли сәрсенғалиұлы\\nадилханов руслан куатович\\nесбол сена абдурахманқызы\\nжайыков рустам кайратович\\nмубаракова аружан ерболқызы\\nжарылқасын қуаныш ерланұлы\\nякубова гульниса акимжановна\\nрахат алтынай даниярқызы\\nқахан ақжол ержанұлы\\nсәндіғали бекарыс қайырбекұлы\\nқойшығара мадияр нұрланұлы\\nсүрбаев темірлан бақытжанұлы\\nзахарченко гайджулиан себастиан джианлуиджи негрони\\nқабдыжан жайна жұмабекқызы\\nабдіманат мирас сакенұлы\\nтажиметов шохрух мирахматович\\nқадір сәтжан сисенбайұлы\\nкарнаков айсултан русланович\\nкапаева мадина ериковна\\nтоксаба сагина алимжанқызы\\nжұмағазы алема бағдатқызы\\nапкаримова дарина рашидовна\\nабубакиров даниэль русланович\\nжәнібекқызы назерке\\nжұмағұл нарынбек жұмағұлұлы\\nсагимбай ганихан ерболулы\\nорал назерке қанатқызы\\nомарова алима ернаровна\\nкәти жанерке байұзаққызы\\nсеріков нұрдәулет айсұлтанұлы\\nқуатбекова ақерке мұратқызы\\nмирзахожаев рустам эркинұлы\\nтемиртасов руслан аблайханович\\nалиясқар нұрасбол сапарұлы\\nкурметова камила кайсаровна\\nермекова айнель мағжанқызы\\nахметов азрет муратович\\nамурзаков динмухамед ерболатович\\nкуванишов шухрат алижанұлы\\nкажимулин дияс ермамбетович\\nжурсинбек мухаммедали аптихалиұлы\\nидрисов аймұрат нұрланұлы\\nжанузакова сабира нурлановна\\nәбдіқалық мирас ермекұлы\\nрашатова акнур багдаулетовна\\nкривцов кирилл денисович\\nутепбергенова тамилла максаткызы\\nжумадилла марат жомартұлы\\nунгефуг александр дмитриевич\\nдәруіш санат ғабитұлы\\nтоқтамыс шыңғыс аянұлы\\nсагнаев ильяс хамидуллаұлы\\nнартайқызы сағыныш\\nцхай андрей дмитриевич\\nқұмаров айкен жасұланұлы\\nахмет сұлтанбек қалдыбекұлы\\nеленич владислав александрович\\nхалецкий семён иванович\\nаспандиярұлы ахмет\\nберик бақжол\\nбексұлтан әлішер талғатұлы\\nарғынғазы батыр меирманұлы\\nтурсынмурат гулназ битөреқызы\\nжақсылық асхат бекжігітұлы\\nтоқбураұлы марғулан\\nсальменов шерхан утегенович\\nалтайбаев даниэль мадиярович\\nмұздыев мейірман сайранұлы\\nмәлен есқат\\nтулеу әділет мейрамбекұлы\\nкалинова зейнеп шалхарқызы\\nшүленбай дана серікқызы\\nайтбек бақдәулет көпжасарұлы\\nжанбырбай нұрайлым ерболқызы\\nмамыралы лаззат есқалиқызы\\nрымбекова нұрайым айтболатқызы\\nхайрулла айша ғабитқызы\\nнаяшова аяла исатаевна\\nисатай нұрбол жарқынбекұлы\\nмұханова арайлым асқарқызы\\nхалилулла нурислам бигелдиулы\\nсалжанова сәния бағланқызы\\nшалаева айжан габидуллаевна\\nнадырханова надира нурлановна\\nсқақ аружан самұратқызы\\nғабитова айкен нұрланқызы\\nканаев бауржан сапарбекович\\nтөлеубаев ұлан қуанышұлы\\nкадыралиева дильназ жасулановна\\nбақыт дулатхан тілектесұлы\\nуябаева ұлбосын абдумуталқызы\\nсартаева камила нуртайқызы\\nжанбек әділ тұрсынбайұлы\\nнуримбетов арсен иванович\\nкөмекова жұлдыз асылбекқызы\\nсайрамбай шерхан куанышбекұлы\\nниеталин нұрдәулет жұмажанұлы\\nкузиев данил сергеевич\\nқадыр жасұлан нұрланұлы\\nбаянова айдана ждагатқызы\\nермекбай мұхаммеджан ержанұлы\\nкапаров шокан маратович\\nшардарбек роза бауыржанқызы\\nоралханова диана ришатовна\\nсайділда нұркен талғатұлы\\nмаксутов тахир русланович\\nмирамбекова аида мирамбекқызы\\nурусбекова назифа камалкизи\\nжандилдина айдана нуржанқызы\\nболатбек аягерим\\nасылбекова айымгүл асылбекқызы\\nтастемір эльнура жангалиқызы\\nкөмек аида ғалымжанқызы\\nшажли әліби боранбайұлы\\nнагашыбай асылжан\\nбазаров аслан мұхамбетжанұлы\\nқұлжанова гүлнәз маратқызы\\nтанкиманова джамиля асылбековна\\nестай назым\\nкувандык аяжан сүндетбайқызы\\nакбар әділет насрединұлы\\nеслям қамбар рүстемұлы\\nержанов бексұлтан бейбитұлы\\nомар демеу өскенбайұлы\\nтаалайбек нұрлыбек таалайбекұлы\\nпрасолова ирина витальевна\\nсандибек нұрхадис рустембекұлы\\nмарченко данил олегович\\nдастан азат айболұлы\\nювашев рафхат рафаилович\\nаскер қыдырбек нұрдаулетұлы\\nоспан дастан еркинұлы\\nталасбек әділ жомартұлы\\nүсен бексұлтан өтепбергенұлы\\nсұлтанәли нұрдияр бақтиярұлы\\nмуратов алмас кайратович\\nкаримов руслан жасиинович\\nкамаладинова мөлдір данарқызы\\nжұмағалым бауыржан жақсыбекұлы\\nмайданов нұрмұхаммед мұратұлы\\nқорғанбек әлібек жалғасбекұлы\\nсисенбекұлы өрен\\nкаширов александр павлович\\nтұрымбек ақмейір\\nжақсылық диас рахматуллаұлы\\nтилегенов жанказы жанадилулы\\nжандолла жаслан канатулы\\nтұрыскелдинова меруерт рыскелдіқызы\\nжұмаділ перизат\\nмусаева насиба бекболатқизи\\nәшім іңкәр саятқызы\\nсадық сағыныш ағбайқызы\\nмұхамедиярова аяжан дарханқызы\\nжасқайратов айдынбек екпінұлы\\nқанат нұрлыбай қанатұлы\\nхангельді алихан алиасқарұлы\\nмұхтар мейірім өмірсерікқызы\\nнаралы жарқын ильясқызы\\nнурпейисова айганым\\nкасымов ербол ерланович\\nәшібекова дильназ айдосқызы\\nсламбек алтыншаш байазитқызы\\nжанай тоғжан жанайқызы\\nкерімхан асылжан серікұлы\\nермағамбетов ержан жандосұлы\\nигенбердыева сағыныш муратбекқызы\\nасылбек диас орынбекұлы\\nзиятбаев бекзат асанулы\\nхабибуллов дидар серикович\\nсабырұлы ақан\\nджумадилов елдос арманулы\\nасабай бағира исатайқызы\\nнаурызғалиұлы мәди\\nмырзабек олжас ғаниұлы\\nусенова эльдана шерипжановна\\nшералиева мерей мұханқызы\\nқуаныш айсана қуанышқызы\\nкасимов сайдар саидұлы\\nқалдыбай балауса әбубәкірқызы\\nбақшабай нурай ришадқызы\\nәбдірахман сұлтанбек қазыбекұлы\\nқайыржанова ару құрманғазықызы\\nтеміртай аружан жомартқызы\\nбайсеркеш аруза жасқайратқызы\\nдүйсенбай мадияр есболұлы\\nсабитов алихан маратұлы\\nбалтахан бекзат қалдарбекұлы\\nқосжанов құрманғали жарасұлы\\nбақыт азамат ержанұлы\\nадылханов олжас кенжиболатұлы\\nжайжанов берик алпысбайулы\\nмұхадас телжан серікұлы\\nаман әлима берікқызы\\nабухан олжас нұрғалиұлы\\nерболат айбахыт\\nесенкулов жарас утегенулы\\nмусаханов мухаммедқанапия бақибайуғли\\nайтжан серік нуриахметұлы\\nасабай сағира исатайқызы\\nмұқанбет дәулет алтайұлы\\nалмабек сержан еркінұлы\\nқұбашева гүлнәзік темірболатқызы\\nбекенова асылай манарбекқызы\\nабдыхай бекжан талғатұлы\\nқұдияр рахат темурұлы\\nамангелдиева мадина рашидкызы\\nамангельдинов султан ерикович\\nрәсілжан мөлдір бердіқұлқызы\\nетекбаева алина талғатқызы\\nбахбергенов нұрдәулет даниярұлы\\nкалиновский александр викторович\\nералхан бексұлтан бекжанұлы\\nмырзағали ырысбек батырбекұлы\\nплял хамит оралханұлы\\nұйқасбек нұрдос айбекұлы\\nалымжанова ақгүлжан нурлановна\\nкәкімбай мұхтар жамбылұлы\\nбаймусаев абылхайыр садуақасұлы\\nорынбаев наурызбек мылтыкбаевич\\nбекбаулов ақарыс копжасарұлы\\nсерікбай асфендияр бауыржанұлы\\nдаулеткулов халит ибрагимович\\nокубаев байбол ерсайынович\\nболатхан мирель бауржанович\\nшарапов асанжан нұржанұлы\\nуалхан аяжан маратқызы\\nмазулина жанбота саламатқызы\\nазереталы ділназ алмұратқызы\\nәлмақын назгул серікқызы\\nбөрібек аида пернебекқызы\\nкожукаева салидат канатовна\\nсафарбай сауле жантасқызы\\nдауренбекова балжан қайратқызы\\nбайдильдин нурсултан айтбайұлы\\nмажихан мерей сайранұлы\\nесір бейбіт еркеғалиұлы\\nермахан бекнұр оразбекұлы\\nкурмашева мадира серікқызы\\nкүдербек ардақтым елубекқызы\\nхайрулла асылхан жәнібекұлы\\nөтегенова жазира қанатқызы\\nтажекенов әлішер нұршатұлы\\nрымғалиев әлішер ержанұлы\\nотегенова маржан қосимбекқызы\\nтәжибаева аружан бекмұратқызы\\nекпін балауса\\nпазылбек жанерке серікқызы\\nәбдірасул айжан асқарқызы\\nсадвакасов марат махсатович\\nакимниязова айна максеткызы\\nзұлқарнаев рахат ерболатұлы\\nергалиев ерасыл алпысбаевич\\nбоқай ақжол дахтарханұлы\\nмамбетов бекжигит аликулулы\\nсәдуақас заңғар бауыржанұлы\\nнартаев талғат мұхтарұлы\\nбайтөре самат сейткеримұлы\\nдәуренұлы мансұр\\nаубекеров мейірбек әлібекұлы\\nбулатбекулы ринатбек\\nтөлепбек абылай муратұлы\\nсейлхан сұлтан қайратұлы\\nқайролданов ясин асқарұлы\\nтәліп жанерке қайыржанқызы\\nталғат жансая аймаханқызы\\nбариев абылайхан асқарбекұлы\\nсаятұлы бекзат\\nкумискали нұрдәулет серикұлы\\nнуржанова карима жігерқызы\\nорынбасар азамат қалдыбекұлы\\nсағынбазарова дана сағынғанқызы\\nқұрбанқұл ақбота абайқызы\\nанарматов эъзозбек азизбекович\\nторекул динара намазбайқызы\\nмельник данил александрович\\nголобородькин руслан анатольевич\\nсыдыканов мейрамбек алмасович\\nтөрегелді нұртілеу ерболатұлы\\nкуралбай қайрат есболұлы\\nқалымғазы сая\\nуразбек арсен талапбекұлы\\nқайролла аяулым боранбайқызы\\nадасхан сымбат айтмаханқызы\\nшарапиев эльдар аскарулы\\nжолтай ақнұр құсайынқызы\\nдостанбекова дарига канатовна\\nеликбай айдина жамбылқызы\\nмурхамит сымбат муратжанқызы\\nшаншаров нұрғали сабыралыұлы\\nсейтботал алтынай мелисқызы\\nтурсатаева балжан саржановна\\nусенов арслан нурланугли\\nқаирбаева дильназ амантайқызы\\nборанбаева мадина максатовна\\nшашубай ғайни жұмаханқызы\\nсайлявбек арсен маралұлы\\nжапар азат рахатұлы\\nбаязит әлишер ибрахимұлы\\nшаңытбаева ақнұр қайратқызы\\nберік дәриға айбекқызы\\nтасбулатова дана талгатовна\\nегемберді ботабек шалхарұлы\\nтұрсынхан нұрбақ ырысбекұлы\\nқалмаханбет бекмахан оразымбетұлы\\nжуматов алдияр қуанышұлы\\nтұрсын жеңіс айдосұлы\\nжолдыханов ұлан ғалымханұлы\\nжандарбек бекболсын мұхитұлы\\nсатыбалдиев бексултан нұрбекұлы\\nхалықов асхат құралбайұлы\\nсағатхан заңғар\\nермаков илья олегович\\nжамебаева актенге сагынбековна\\nеркін рамазан мұратұлы\\nауталі мурат байболұлы\\nбекбау азиз даулетұлы\\nсадыкова гүлнәз мухтарқызы\\nәбжаппар әсия манасқызы\\nальжанова динара серікқызы\\nаскаров еркебулан шадибекович\\nқырғызбай марал нұрланқызы\\nеменов анвар сабирович\\nкенжебаев асылжан жаппарұлы\\nсермағамбет арайлым\\nамиркулова марина кайратовна\\nмырзасейт фариза нарынбайқызы\\nқыдыр нұрай алиакбарқызы\\nкөшімбек динара хақназарқызы\\nоралбайқызы мөлдір\\nкәрібаева жібек тұрмағамбетқызы\\nнурахамбаев асланбек оразбекұлы\\nарыстанбек қарлығаш\\nерденов нұрбол берибайұлы\\nержігіт абылай дәулетбайұлы\\nпірімбет мәдина маратқызы\\nәбілқасым нурболат бекжанұлы\\nсахташов ерхат асхатович\\nмұрат алпысбай бақыткелдіұлы\\nкүнбол өрен\\nандрей назерке мейрамқызы\\nергеш мерей асқарқызы\\nтәліпжан алихан нурланұлы\\nрахимов уалихан нурланович\\nжанаш перизат бағытжанқызы\\nмадуова назира нызамеддиновна\\nнұридин нұрсерік бауыржанұлы\\nәшкенова іңкәр мәутқанқызы\\nешкенов асханбай айдосович\\nерсоветов азамат ерсоветұлы\\nқалдыкөз самал ерболатқызы\\nкарлаш евгений сергеевич\\nкарамурзаев асланбек ермекұлы\\nпутишев семён алексеевич\\nайтбай темірлан ерболатұлы\\nпавлович юрий андреевич\\nабзал ердәулет қамбарбекұлы\\nиса манас жұмашұлы\\nәбдукәрім жаннэла нұранқызы\\nбайдау әсем байұзаққызы\\nдулат жансая убайдуллақызы\\nзиинула марлен болатұлы\\nдостореев мейірбек толегенұлы\\nоразалиев нұрмухамед алдабергенұлы\\nмажитова құндыз бауыржанқызы\\nсагимбек құралай нургалиқызы\\nқабыл аружан әбілқызы\\nпайыз үміт жанәділқызы\\nқұмарбекова аяужан қазбекқызы\\nтлепбаева жанар амангали қызы\\nорынбасаров нуркен саттарулы\\nназаргелді индира қуандыққызы\\nшакимурат марал темиргаликызы\\nасқарұлы қасымжомарт\\nтөрешов нұртөре нұрлыбекұлы\\nсайлауов бахтияр бауыржанович\\nжеңіс есбол\\nсъезбай мирас адилетович\\nтұрсынов нұрдәулет мадиярұлы\\nмұрат гүлжан жанатқызы\\nшәкірт асылжан дәуренұлы\\nгалиев гани мусаұлы\\nгаврильцов максим владимирович\\nмухитдинова насиба абдукахарқызы\\nдилмурат мұхамедқадыр қанатұлы\\nкустаева айжан жанибеккызы\\nтөлеу алтынай берікболқызы\\nжарылғапова саягүл қалдыбекқызы\\nжартыбай төлеген қуандықұлы\\nаралбаева лола куатбайқызы\\nсарсенова нагыма джанабайкызы\\nсамет рауан маратқызы\\nесмұрат даналы дәулетқызы\\nсолтанай аружан берікқызы\\nбаймолда назерке тлеужанқызы\\nмұқаш аяжан еркінқызы\\nертай динара абзалқызы\\nайбек мадияр маратұлы\\nсолопеко анна юрьевна\\nставская елизавета анатольевна\\nанарбаи жадра ғалымжанқызы\\nақылбек есдәулет талғатбекұлы\\nерсайынова назым ғалымжанқызы\\nзарлық алуа сабырқызы\\nпочекаев евгений владиславович\\nляшенко данил георгиевич\\nқалидолла нұрдәулет талғатұлы\\nсерікұлы ақжол\\nерли айтұлек\\nсәулетхан ердала\\nмадияр ақерке талғатқызы\\nғалымов дінмұхаммед ахметұлы\\nжаксыбаев ербол орынбасарулы\\nаманбекұлы елжас\\nжәміл дидарбек жандарбекұлы\\nдоскавулов алихан аскарович\\nсағынтай айша байғалиқызы\\nоразбаев азамат бегендикович\\nчереданова ксения алексеевна\\nбақытұлы нұрберген\\nкеңесқанова аяулым сержанқызы\\nсексенгазиев амир ергазиевич\\nкеңес лиза мусақызы\\nталғатбек толқын амирханқызы\\nбаешова дильназ ержановна\\nашим дариға ырысбайқызы\\nасылхан аида елдосқызы\\nкененбай елдос сарсенұлы\\nнұрболат жарыс\\nхудайбергенова райхон мирзабойкызы\\nкожахметов диас айдарович\\nжанысбаева жанел бахытқызы\\nнұрқуатов бекнұр берікұлы\\nерлан айшат ерланқызы\\nжанибекова алма марэнқызы\\nдүйсен анель талгатқызы\\nукенов ильяс айдынұлы\\nгерманов роман олегович\\nсерікбай муқағали рашидұлы\\nмәтібай асылай аханқызы\\nбулычов руслан жалхасулы\\nкөпен самат нұрланұлы\\nтұрсынбай нұргелді сардарұлы\\nиса ақарыс арысбайұлы\\nкемельбек дияс арманұлы\\nесқазиев аян ерболатұлы\\nсәрсенбай мерейлім айжарыққызы\\nтөлеубай бекболат мейрамұлы\\nсерикбай аңсар амангелдіұлы\\nасанова камиля адилжановна\\nжалғасов айдар қайсарұлы\\nкалижан алихан кайратұлы\\nкаримбеков мирас маратұлы\\nсандыбай жазира сәрсенбекқызы\\nбаймолда аружан ермекқызы\\nжолдас назерке еркінқызы\\nтурсынбаев ерасыл баймұратұлы\\nзаманбекова аққу еркебұланқызы\\nәскербек серікхан нұрмулдаұлы\\nайтбай еркінбек нәліханұлы\\nқоштай арайлым нұрсұлтанқызы\\nсерік олжас талғатұлы\\nасқарұлы мадияр\\nабдуллаев наиль ибрагимович\\nтарғын әлішер мұхтарұлы\\nқұлқайыр ағатай құлқайырұлы\\nжеңіс дінмұхаммед рүстемұлы\\nраимбек жанерке пернебекқызы\\nбахытжанов ерлан серікжанұлы\\nарепбай жанерке сабитқызы\\nабдімәлік дидар болатұлы\\nесиркепов нурлан асылбекулы\\nтұрсынбек бекұлан қайратұлы\\nсерікбай жәниет сәкенұлы\\nтөлеп шадияр ержігітұлы\\nумарова алина руслановна\\nәубәкір жәния өтжанқызы\\nсайпутулина руфина махпировна\\nмаратқызы еменай\\nдаркан арман дарканұлы\\nәділетхан дильназ айдынқызы\\nоразова фатима берікқызы\\nорын дәмира қыдыралықызы\\nабаева замира алмасовна\\nтоқберген медеу медетұлы\\nсалимова жанерке бердыбековна\\nнұралы манас аллақұлбекұлы\\nамангелдиева гүлрайхан бекжанқызы\\nжұмабеков әлислам шоқанұлы\\nқайдар әділет асқарұлы\\nаманова ұлболсын бисенбеқызы\\nхамзаева азиза нурланкызы\\nсалимова бота болатқызы\\nіскендір перизат дарханқызы\\nкемпірәлі ердәулет қанатәліұлы\\nғаниқызы аружан\\nмұратжан назерке медетханқызы\\nергенбай еркегүл ергенбайқызы\\nнұрмат мағжан оразбайұлы\\nәлібеков әділет нурланұлы\\nвалиахмет нұрбол қайратұлы\\nабсамат оразбек ергешбайұлы\\nхуанган жанылсын\\nалибекқызы қарлығаш\\nинаят ерген бауржанұлы\\nбекенова дильназ байгалиевна\\nкәдіров ернар батырұлы\\nоралбаев бағдәулет мұратұлы\\nаралбаев бекболат махмудұлы\\nисмаилов багдат нурлибайугли\\nмұса әділ абдуллаұлы\\nхужакелдиева мадина абдуманнопкизи\\nәбдіқаш мықтыбек өскенбайұлы\\nсайпырханов өркен дүйсенбекұлы\\nесеналы аида ерболқызы\\nахметов бейбарыс қасымжанұлы\\nқазбеков мейірбек жандарбекұлы\\nмұхтар нұркелді манарбекұлы\\nаңсат амандық ерболұлы\\nалибек темірлан алибекұлы\\nбахытжанова балнұр нұрмұханқызы\\nжандарбек баубек турсынғазыұлы\\nүсен аружан бақытқызы\\nдзюбина кристина олеговна\\nрозахунова гулстан бахтияровна\\nәділбекқызы балжан\\nнұртаза елдар абайұлы\\nамантаев мади талгатович\\nибрагим ақнұр қырқынбайқызы\\nбағдатқызы аққанат\\nмахмудова зилола мухаммад кизи\\nахметбай дина маликқызы\\nерлепесов ильяс данабекулы\\nаманжол жолдас саруарұлы\\nалданберді бота ермұратқызы\\nдаулетхан асемгул\\nсағынаева ақсамал еркінқызы\\nтастан нұрдидар жомартұлы\\nбашенов дидар болатович\\nшмаков виктор игоревич\\nжеткіншекқызы диляра\\nусен маржан маратқызы\\nқарасай рауан нұрбекұлы\\nөмірбек қарлығаш серікбекқызы\\nвасильев артём юрьевич\\nқалыбеков ануар қалыбекұлы\\nтұрарбек ерсін нұрғалиұлы\\nузакбаев канат сабитулы\\nгалиев тілек ришатұлы\\nтансыкбаева карина нурболатовна\\nәлдекей құндыз беркінқызы\\nтемирбек самал куандыкқызы\\nнұртан назым сержанқызы\\nкутликадамова диана абайкызы\\nмалдыбай таңсұлу сабитқызы\\nкушбасова айнара маркленқызы\\nаманжол талшын шынболатқызы\\nнұрханова нұршекер нұрланқызы\\nжалал жанболат нүркенұлы\\nаманбекова жибек азаматовна\\nасан оразәлі абайұлы\\nкәдірақұн үмітгүл\\nесентемиров куаныш асетулы\\nоразова самал алмасқызы\\nкәрім сырым уалиханұлы\\nбегильда айерке сейдиллаевна\\nәбікен дана мейранбекқызы\\nтемирболатов темирлан сарсенович\\nсерік шуақ\\nахметова кенжекул алтайқызы\\nсаттар уалихан болатұлы\\nтазебаева марал шәріпқызы\\nабдуәлі дана алтынбекқызы\\nаблай қуанышбек анаркулұлы\\nстецуренко дмитрий александрович\\nголоватенко алексей александрович\\nкамилханов сардор абдурахмонулы\\nбектасов рауан зилкараевич\\nмухаметкаримова мөлдір серікқызы\\nшараванов кенан вахидович\\nильясова гулдана полаткызы\\nөзбек айжан төлекқожақызы\\nжайымқұл ерлан әлібекұлы\\nильичбай ерсайын ғалымжанұлы\\nпрмағамбетов темірлан бақытқалиұлы\\nкасебұлатова айдана мұратқызы\\nшомшек диана нұрланқызы\\nөтенбай рамазан қайсарбекұлы\\nтулеген әділхан жусипұлы\\nережепбай аяулым рахманбердіқызы\\nшаниязов сұңқар серікбайұлы\\nабильда альбина баянбайқызы\\nтоқтан мирасбек ақанұлы\\nқайратқызы дилназ\\nсіләм ержанат\\nбиғозы гулмерей еркінбекқызы\\nасылбаев ислам талгатулы\\nамангелдиев адилхан зейнетуллаулы\\nбарат нұрсұлтан толепбайұлы\\nдуман венера\\nғани данияр ғаниұлы\\nәбдікәрім ердәулет турдалыұлы\\nқошқарбай гаухар ғабитқызы\\nандриевский александр владимирович\\nтолебай ақнұр\\nқарабекқызы гулнұр\\nтұңғатар мұхит сәбитұлы\\nболатхан сейітжан алтынбекұлы\\nзаирова лейла муратжановна\\nсапарбай балауса қуанышқызы\\nумурзакова саманта еделханқызы\\nмихельсон даниил георгиевич\\nтурганова аидам арменовна\\nтөлегенова аружан төлегенқызы\\nсарбасова арухан әкімжанқызы\\nрахимжонов отабек сунатуллаұлы\\nасамадин мөлдір құдайбергенқызы\\nнұргужа әмина нұргужақызы\\nқашқынбай назерке есімбекқызы\\nзакир арайлым батырбайқызы\\nмулдашева динара мұратқызы\\nсарсанбай чукерхан\\nтұрғынбек жібек абайқызы\\nмирзабаев бакдаулет абилбекугли\\nнагимов әділет қуанбайұлы\\nибраимов руслан джорабойуғли\\nталғатқызы айкүн\\nбағда шолпан\\nқабылда әли нұрланұлы\\nмұратов темірлан айдынұлы\\nсалям диас жанайдарұлы\\nбаум андрей александрович\\nбердалы асұлан пердебайұлы\\nқыдыр ғайни есболұлы\\nжеңіснұр нәзира\\nмикаэлян дэвид артакович\\nсафархан медет ардақұлы\\nджалгасова нуржамал талгатқызы\\nрахметов шынболат рахметұлы\\nғалымов нұрдәулет асхадұлы\\nабдукадыр айбек нұрланұлы\\nнұрахмет асқар барлыбайұлы\\nабдуманап жанерке мұратқызы\\nнұрмағамбет заңғар есенжолұлы\\nсафонов антон алексеевич\\nғалымжанұлы мағжан\\nерлан үрістем\\nкеңес бақдәулет маратұлы\\nабдраманов сабыржан талғатұлы\\nқұрманғали өрік ғабитқызы\\nбайзақ бекзат сейтжанұлы\\nсалыкова жанна сериковна\\nтургун жаксылык серикпайулы\\nнышан қуанышбек қанатұлы\\nавазхонов махмуджан мамуржанұлы\\nсайфудинов нұрдәулет замаддинұлы\\nескермес әсілхан рахымбердіұлы\\nтлеуова әсия абайқызы\\nабибулла арайлым асқарқызы\\nкумисбек дулатбек имаммадеұлы\\nқыдырбай аяжан сәкенқызы\\nнайзабек саян жанболатұлы\\nдосан әли\\nмейірбек самғар\\nестаев бақдәулет канайұлы\\nволошко кирилл алексеевич\\nөмірсерік аяулым мәндіханқызы\\nсеиткулова дильназ муслимовна\\nмухсумбаев дониёр толкунович\\nмахан сулеймен мадиұлы\\nкалибек арзыгул\\nабдумутал жаннұр абдумуталқызы\\nмусина аяулым сагинтаевна\\nтөлеутай амандық төлеутайұлы\\nмеңдіханова ақерке абатқызы\\nбесбай диана абибилақызы\\nдейнеко радмир александрович\\nкөмеков әділхан ерболұлы\\nмұрат бексұлтан маратұлы\\nзейнолла асылбек арманұлы\\nақберді нұрбақ бахытжанұлы\\nалпысбай нұрсүндет қанатұлы\\nбектурганова сандугаш талгаткызы\\nжабақ ұлжан ержанқызы\\nнасейова айна асхатқызы\\nзинолла данагүл жасұланқызы\\nнургалиев дидар тлеукенович\\nжумагельдинова эльнара аскарбековна\\nтоқтаған бекзат маратұлы\\nқанибеков нұртілеу ғабитұлы\\nкурбанжанов камал кудретжанович\\nасанбай аяжан суннатуллақызы\\nбайдрахманов беймбет бакитжанович\\nшерикбай ербол мэнепұлы\\nсмурыгин валентин вадимович\\nқожамұрат сәтінса бегмаханұлы\\nтилеукеев арнур батырұлы\\nхурсанбеков алибек алмасович\\nамантаев ақжол жансерікұлы\\nкадырбай мира ергаликызы\\nкубаева гулназ талгатқызы\\nқонысбек аийда оразбекқызы\\nнаурызбаева дария қанатқызы\\nамантай жансая нурғалиқызы\\nқуандық жібек тастемірқызы\\nкамерцель иван евгеньевич\\nзулпыхарова жанна айдаровна\\nмаратова наргиз маратовна\\nалтынбек әсем нұржанқызы\\nжамалова нилуфар робертқызы\\nджилкибаев азизбек джанибекулы\\nтүлемісова дильнара айтбекқызы\\nсалман жәнібек үсенұлы\\nәміржан еламан нұрболұлы\\nжылқыайдаров ислам мерекеұлы\\nсмагулов нурсултан сапаргельдыевич\\nнұғыманова назира жарқынбекқызы\\nқапан мақсат мұратұлы\\nдүкенбай ақерке байғалиқызы\\nтұрды гүлдана есханқызы\\nзекен әлихан мұратбекұлы\\nбердимбетова арай омаровна\\nтренкина александра викторовна\\nықылас асылзат берікбайқызы\\nдынник илья вадимович\\nжаксыбай жандаулет женисұлы\\nаманкелді бауыржан ардагерұлы\\nамандық силыхан самарханұлы\\nәлжан ершат\\nтепляков дмитрий александрович\\nталипов бекұлан жасұланұлы\\nәскер әрсен дауренұлы\\nомарғазы гулзат кенжеғалиқызы\\nқалабай шакизада асылбекқызы\\nашкен диас куантұлы\\nмакатова каракоз болатовна\\nесенғазы пәкиза мұратбекқызы\\nәбітхан айсана рахымтайқызы\\nқошқар ақерке рахимқызы\\nжаксибекова алина ержанқызы\\nысқақова гүлсезім\\nсарсенбаева гүлдана нұратдинқызы\\nайбалта айгерім нұрланқызы\\nайтқазы каусар айтқазықызы\\nгабитов темирлан рустемович\\nтөлеген жансүйген жумаханқызы\\nабсадыкова аружан оралханқызы\\nораз ұлжалғас болатханқызы\\nкалбаев талгат сабитулы\\nәзімханова арай мейрамханқызы\\nсейдулла абылайхан бахтиярұлы\\nраева данагүл саламатқызы\\nасилов азамат нурланұлы\\nқасымжанова аяжан бауржанқызы\\nәшім бекзат әшімұлы\\nзаттыбек нұрзада зұлхайдарқызы\\nтаттыбай үлжан әлиқызы\\nасқар бауыржан рустамұлы\\nкамел ботагөз\\nрысбек еркежан мәуленқызы\\nбілісбек көркем еркеғалиқызы\\nжолбарысов нурислам маратулы\\nқуан диас әділбекұлы\\nукасов ахат еркингалиевич\\nсерікбаев айдос жандосұлы\\nнабиева динара белгибаевна\\nдаршт екатерина александровна\\nкарпенко данил александрович\\nклиметов мұрабек нұрлығайынұлы\\nбекташов атабек камилханович\\nшекербекова айгерім алмасқызы\\nомарбек шыңғысхан нуржанұлы\\nасанова айгерім асанқызы\\nраханов азат оразалыұлы\\nжамбыл бақдәулет мұстаханұлы\\nжарқын риза\\nамангелдиева жансая абатбайкызы\\nнұрланұлы саят\\nқайрат алихан сағынұлы\\nгонтарь кирилл александрович\\nәлібек бақыт егембердіұлы\\nтыныштыков қуандық аханұлы\\nесенов әділшын расулұлы\\nузбекбаев нуриддин жомбулулы\\nабсат балжан сайфуллақызы\\nамзе нурқабыл ерланұлы\\nизатуллаев меирхан алихонуғли\\nитеш елен серікұлы\\nамандықұлы абылайхан\\nжақсылық досымжан талғатұлы\\nрамазанова назерке талғатқызы\\nакаш акерке нурбекқызы\\nперистова алина александровна\\nандрейченко анастасия сергеевна\\nаббас сая абдуахапқызы\\nисхожина айсұлу нариманқызы\\nайдарова акерке айдаровна\\nқали набат жолбарысқызы\\nыдырыс шәмшәт әділханқызы\\nжаңбырбай бибінұр шымырқызы\\nчыгырбаева улболсин куванчбековна\\nжуратбек нұрдәулет айдосұлы\\nәлібек мұхаммеджан тоқтарбекұлы\\nспанов рамазан әділетұлы\\nналібай бақдаулет дарханұлы\\nсайлаубаева нұршат жанабайқызы\\nқалниязов өмірбек оңталапұлы\\nсерікұлы алпамыс\\nбаяділ нұршат касымханқызы\\nжұмаділла гүлнұр бақтиярқызы\\nсайынова динара жандосқызы\\nоразбаева жаркынай муратовна\\nкудяров шерзод шухратұлы\\nкантаева милана абелиевна\\nжолболдинова гүлнәз бекболатқызы\\nеділов ақылбек тоқтарұлы\\nбердалиев армат\\nмырзатай ермек сакенұлы\\nамандыков мейрбек ертайулы\\nзамотаева ксения валерьевна\\nмарат аяжан абатқызы\\nамантаев райымбек қажимуханұлы\\nмымрик ярослав юрьевич\\nқажығұмар ринат шалқарұлы\\nнұранбек ерқанат тағабайұлы\\nермекұлы еркемұрат\\nсүинғали айару аймұратқызы\\nназарбай аяулым ақмырзақызы\\nабзалқызы сымбат\\nсегізбай диана елдосқызы\\nсайлау нүртілеу әсетұлы\\nасаналы альмерей ардагерұлы\\nтуралиев байкен маратуғли\\nбайдюсенова алина жанаевна\\nсалибек аружан маликқызы\\nқалдыбек айида жасұланқызы\\nермеш айтолқын мухамеджанқызы\\nсулеева айна сапарбайқызы\\nаманжол жұлдыз алжанқызы\\nтулеп аяулым жәнібекқызы\\nканылбай ерқанат оразбекұлы\\nбаймухаммедов шыңғыс жолдасұлы\\nәбдірахманқызы ақжүніс\\nкәрімова шынар әлиқызы\\nомирқұл радмира байболқызы\\nсерікбаева әсел жомартқызы\\nсултан элмира лесханқызы\\nаймаханова жадыра\\nнүрдібек балжан\\nәбдімәлік роза өсерқызы\\nсейітхан дамир балсейітұлы\\nнұрлаұлы серік\\nбекенбаев мұхтархан рахматуллаұлы\\nбисеналиева гүлшат түлкібайқызы\\nбирюков иван алексеевич\\nахметов жасұлан қанатұлы\\nтөлеуова гүлпара аленқызы\\nабай диас ренатұлы\\nартикова асел есеновна\\nсеріков эльдар ерікұлы\\nерікбай құндыз\\nұлықпанов нұрбек марғұланұлы\\nіңкар еділ\\nжақсылық дархан нуралыұлы\\nсултанкул бекзат абдурахимұлы\\nнази жұлдыз әкімқызы\\nназаров асхат алмазұлы\\nқартбаева аружан аманғосқызы\\nэргешов шохзод абдуллаұлы\\nсабыр арнагүл боранбайқызы\\nқұдайбергенова аяулым жандосқызы\\nқыдырбай олжас болатұлы\\nеланова гулмира махмудкызы\\nче никита олегович\\nсапарәлі бернар нариманұлы\\nмагден камилла мұратқызы\\nносков никита антонович\\nайталиев нұржан нұрланұлы\\nжангелді руфия сәкенқызы\\nешим алуа сакенқызы\\nсабыр шынғыс баязитұлы\\nахметов алишер ерболович\\nкасиенов бексултан маратович\\nуалиханұлы санжар\\nбайбатшаев арыстан даниярович\\nбектанов айтуар кайратулы\\nбисенова анара мырзакановна\\nнурлигенов темирлан булатович\\nтуманова злата сергеевна\\nвалиева нурай кайратқызы\\nасанқұл ескендір серікұлы\\nабдрахманова жанна канаткызы\\nасылхан айдана асанқызы\\nсерікбай айгерім серғалиқызы\\nаким алишер айнидинович\\nдинмухамед даяна азатовна\\nшайхисламова алина ринатовна\\nелеукина зарина жанболатовна\\nсаулен арайлым нұрбекқызы\\nуразов диас акбулатович\\nабсатов данияр ганиулы\\nшәкім інкәр ералықызы\\nборашев мәди мауленұлы\\nоразғали әмина ерболатқызы\\nазирахмет үміт сулейменқызы\\nкадырова анель бекбулатовна\\nғалымжанқызы әнел\\nеркин ернар\\nбакубаева дана габитовна\\nбалтабаева елдана нұрланқызы\\nбақыт ернат бақытұлы\\nманатов турлан кайратұлы\\nтажиева ақмарал ғабитқызы\\nкадиралиева мадина аскаровна\\nмусекенова асем талаптасқызы\\nиманбай амина асетқызы\\nдамир данияр\\nжаманхан алихан жасболатович\\nерланова дана ерланқызы\\nералы құндыз ералықызы\\nнағиева гүлзат базарғалиқызы\\nсапы бақытжан қалдарбекұлы\\nсулейменова аружан асканбековна\\nмухамбетов данияр куанышевич\\nшаңбай ұлжан ермағанбетқызы\\nсалиева асем ерлановна\\nмадениет райхан адлетовна\\nсулейменов санжар аскарулы\\nжұмабекова ақерке дәулетқызы\\nраимбаева асель сериковна\\nбакизова жәния біржанқызы\\nжетписбаева асимгуль кайратовна\\nмайрамбаева динара асылбекқызы\\nахмет азат нұрланұлы\\nдаутова айша мергаязовна\\nхамитова халида кайрбайқызы\\nкубаева аружан нурланқызы\\nбақтыбаев райымбек еркешұлы\\nрайымбеков данияр әкімжанұлы\\nәкімбай мухаммад сафа дарынұлы\\nхлопунова кристина алексеевна\\nисеноманов санжар ерланович\\nқарамергенова жібек маратқызы\\nжумадилова ардак дуйсеновна\\nнурсултанова дария омирхановна\\nкудайбергенов хаби елнурович\\nсерик дана\\nқанатбеков ілияс алмазұлы\\nермек алишер арманұлы\\nсулейменова диана ауельбековна\\nелемесов алинур рустемұлы\\nхамиев асылжан орынбасарұлы\\nмедеубаева алия абаевна\\nомарбек дәулет ғаниұлы\\nрымбаева анеля алуадиновна\\nзейнадил мирас бауыржанұлы\\nтастыбай ерасыл таласұлы\\nмусаханов арсен талгатұлы\\nшафигуллин тамирлан ердосович\\nәбдікәрімова айдана тасболатқызы\\nибрагим дана русланқызы\\nжумабеков мағжан нурболұлы\\nқалдыбек дінмұхамед ғалымжанұлы\\nрашитов ильяс канатович\\nтолымбеков ермек бейсенұлы\\nнурекенова софья алексеевна\\nболдачёв марат олегович\\nнурахун аяжан қайратқызы\\nматова амина марленқызы\\nсаимжан әлиақбар айбарұлы\\nкаиржанова аина бауржановна\\nбейсенова фариза мұратқызы\\nисакова камилла муратовна\\nаюпов жандос кожагулұлы\\nнұратаев қолқанат нұратайұлы\\nорақбай қасым полатұлы\\nнұран жанғазы маратұлы\\nалдияров нұрсәлім нұрланұлы\\nжұмаш иманғали мақсотұлы\\nкенен рауан айдарұлы\\nашим жақсылық алмасбекұлы\\nахметова мөлдір нұрланқызы\\nтоқмұқамет баяшат\\nсарвардин арман қанатұлы\\nкенжахмет темірлан хамитұлы\\nисаева ботагоз джанабильевна\\nаманбек мейіржан алтынбекұлы\\nжұмажанова әмина жұмажанқызы\\nдурсунов рамазан ибрагимович\\nмұратов дамир мұратұлы\\nкенесбеков абдурахим дос-мухасанулы\\nаубакиров шакарим ерикұлы\\nтлеужанұлы динмухаммед\\nтұрдалин нұрасыл мейрамбекұлы\\nахметқан темірлан болатұлы\\nқабыл қанат сапаралыұлы\\nқойшыбай аружан әміржанқызы\\nболат ақназар маратұлы\\nбахрамов серік жамалұлы\\nшәріпханұлы абылай\\nкеңесова аружан ержанқызы\\nкуангалиева назерке мурзабекқызы\\nкан владимир александрович\\nжанайдар айым серікқызы\\nбекова жасмина биржанқызы\\nжекебаев шыңғыс таиржанұлы\\nахмуллаев султан азаматович\\nалиева инкара канышовна\\nбекмағанбет нұрхат маратұлы\\nсамғат бақнұр самғатұлы\\nсәуірбаев әкежан серікұлы\\nкеулимжанов мағжан бекболатұлы\\nжылқыбай айсен қазбекұлы\\nалибаев ельнур сакенулы\\nамангазиева айдана амангельдиевна\\nбактибаев дәулет еркебуланұлы\\nдаруш өмірзақ асқарұлы\\nоспанова ақмарал валиханқызы\\nсабыр дәулет есетұлы\\nбижанов амиржан бакбергенұлы\\nжаксылыков нурсултан еркинович\\nсаудабеков алан мұратбекұлы\\nнурбеков амир эрнарович\\nрысмамбетов нуртуған мансурұлы\\nжапар әділ ермекұлы\\nкинесова айдана мансуровна\\nболатова мадина сәбитқызы\\nнасыров мұхит кеңесбайұлы\\nасан елнұр пайзиұлы\\nмаксат уалихан\\nермырзаев алмас кайратулы\\nтілеужанова назым қайратқызы\\nбалгазиев бауыржан еркинович\\nсейтимбетов адиль бакытжанович\\nержан диас мақсатұлы\\nерхан нағи сержанұлы\\nкалиев алихан бекжанұлы\\nкушниязова мария саматкызы\\nжүсіпхан бейбіт бисембайұлы\\nбаймагамбетов дастан онгарович\\nбахытова әдемі канатқызы\\nжақыш дариға махамбетқызы\\nжексенгалиев адиль жанабаевич\\nұзақбаев рауан маратұлы\\nкалашникова виктория павловна\\nсерікқали динара жолдасқалиқызы\\nбазарәліұлы әзілхан\\nпирниязов мирас жандосович\\nбайгараев алдияр нурмухаметович\\nфазылова аружан асхатқызы\\nканатова алуа аралбековна\\nұзақбай диас рахманбердіұлы\\nбегайдаров алмат кайдарович\\nжетпісбай нұрбол нұрғалиұлы\\nаширбекова малика саяновна\\nдүйсек бағлан мақсатұлы\\nженисова малика муратовна\\nкалиева алима жанатовна\\nхалитова альмира шавкатовна\\nахметжанова мадина кайратовна\\nабдреш тамерлан нұрланұлы\\nсәтбеков расул даниярұлы\\nабдыканов темирлан ерланович\\nкасеинов руслан жаканович\\nамандықұлы арман\\nбектеміров айдос қайратұлы\\nмасақбай ділназ бағыбергенқызы\\nқантбек шыңғысхан мақсатұлы\\nшарлис мұхамед жұматайұлы\\nқырбасов бекнұр жандосұлы\\nрузи диана қанатқызы\\nтөрехан азиза мұратқызы\\nәбубәкір айжан әділбекқызы\\nаймагамбетова аяулым амірханқызы\\nайт айша муктарбекқызы\\nлесбек баймырза маратұлы\\nкудеринов мадияр муратович\\nтурарбек қанат рысбайұлы\\nнағыметқызы мәншүк\\nоразмолдаев нұрбол қайратұлы\\nмолутов бекзат баратович\\nөтелбай дана бақытжанқызы\\nержігітов дамир нұржанұлы\\nқасымбек бұлбұл ерғалиқызы\\nжансеитов альтаир акылбаевич\\nтемірхан ақжүніс муратбекқызы\\nсеит мұхамедияр жұматханұлы\\nәміре аружан бабаханқызы\\nбазарбай аружан ғалымжанқызы\\nкүмісбек ақарыс әбдімұтәліпұлы\\nким александр борисович\\nабдипаттаев азимбек абдурасулович\\nқұрбаниязов адилбек муханұлы\\nмұратбеков дәрмен қайсарұлы\\nдурмахан бағдат бексейтұлы\\nқадырғали данагүл асхатқызы\\nәзтай шалқар мұхтарұлы\\nхайранова даяна сырымовна\\nбөкейхан қазыбек құлажанұлы\\nсапарбай бейбарыс оразалыұлы\\nрашидова аяулым жомартқызы\\nисаев жасұлан нұрланұлы\\nнурланқызы нурила\\nрамазанов бексултан валериевич\\nнурмаханбет нурдаулет ерғалиұлы\\nрыбалов александр витальевич\\nқуаныш аяжан бауыржанқызы\\nпак александр львович\\nтурысбекова дана аскарқызы\\nнарышов ернар жуматұлы\\nсаяхат назым ардаққызы\\nжолдасқалиев нұртай жасенұлы\\nсәлім биназир мәулетқызы\\nаймұхамет ислам азатұлы\\nбейсембек гүлсім асқарқызы\\nамирханова карина кайратовна\\nтелман аслан айбекұлы\\nаккас айбат\\nнағашыбайұлы қожахмет\\nконысбаева эльвира конысбайкызы\\nжумагереева гульзада нурлановна\\nтоқтарбай динара ерзатқызы\\nступченко валентина игоревна\\nмаратқызы айжан\\nшакирбек медея ерқабылқызы\\nмуратбек дәулет\\nкоробейникова александра викторовна\\nиргалиева аружан есболсыновна\\nсулиева тамила ниязовна\\nмаган валерий юрьевич\\nақылбек айдана асқарқызы\\nертаева айым куанышкызы\\nәбдыкерім әкежан гельманұлы\\nқараш дариға жұманқызы\\nнұрғали санжар мухитұлы\\nмұратов әділхан қанатұлы\\nжетписбеков жомарт кайратович\\nтұрдыақын тайқожа нұрбекұлы\\nескен олжас болатбекұлы\\nмергембаева айдана алибекқызы\\nданиярұлы даниал\\nнурбайқызы ақбота\\nқұралхан бағдана\\nтүлкібаев нұрасыл өмірбайұлы\\nсадықов аян тастанбайұлы\\nпазылхан айдана берікқызы\\nнурланұлы әли\\nмэлс равиль мэлсович\\nуайс дамир рахымбердіұлы\\nордалы мейірбек қуанышбекұлы\\nәлекбар тоғжан асқарқызы\\nтынысбек нұрсейіт мырзабекұлы\\nалтаев асанали дамирович\\nтлеуғабыл ерсін ерасылұлы\\nжиентаева акбота\\nтулепбергенов айдын муратбаевич\\nабылай аян азаматұлы\\nнесіпбай тахмина ерболқызы\\nосманов дильшат рустамович\\nбекболат санжар нұржанұлы\\nсаябаева алуа жомартқызы\\nбакиров мурат расимович\\nмақсұт асұлан мақсатұлы\\nмелисов фаррух бахритдинович\\nсаукен жасмин асланқызы\\nмедведев владимир витальевич\\nстародубцев эрик ренатович\\nбауыржан алмат нұрболұлы\\nнұрлан аружан абайбекқызы\\nоразалы данияр талантұлы\\nаширбекова айжан нұржанқызы\\nюгай владислав никитович\\nабдрахман дияр нұрболатұлы\\nшәріпұлы әкімжан\\nсавутбек даяна амалбекқызы\\nтұрсымбаева аружан ардаққызы\\nмусаев алишер саматович\\nсембай назерке ғалымқызы\\nсабитов алмаз олимович\\nесенқұл дархан нұрдаулетұлы\\nлогвиненко роман петрович\\nаманхан жәннат қанатқызы\\nнұртай елібай еламанұлы\\nтылеубай жасулан уланұлы\\nнұрмұханбет сержан ержанұлы\\nмүталі дастан маратұлы\\nжәрдембаев бекзат боранбайұлы\\nжанұзақ қуаныш асқарбекұлы\\nжұмаш таңшолпан берікқызы\\nконопьянов манап маратұлы\\nасылбек жәнібек қанатханұлы\\nбауыржанова дина магжановна\\nсабырғали бекарыс махамбетұлы\\nзейнебек марлен мирланулы\\nрахманбек бауыржан мухтарұлы\\nізбасхан салтанат бөлегенқызы\\nсаркулов айдын аханұлы\\nкөбей бекзат тасболатұлы\\nалданышева аружан кәдірбекқызы\\nбасарова аружан мәлікқызы\\nөтеғалиев ислам тілектесұлы\\nнохатов алихан тулеугалиевич\\nкаранов рауан серікұлы\\nжәйшылық самғат қанатұлы\\nким андрей сергеевич\\nалтынбеков батырхан бауржанұлы\\nмаилханова алтын нурланкызы\\nджайкина ирана талгатовна\\nмустафин ярослав русланович\\nмаратова ақбота маратқызы\\nбауыржан диас бауыржанұлы\\nаскербай арман тугелбайулы\\nмамаразаков бакдаулет абдикадирович\\nқамзабек нархан барханұлы\\nдавлетяров нурболат нурсултанович\\nдилдахан арайлым алимжанқызы\\nдәулетқан мерей бейқұтұлы\\nумурзаков аян достаевич\\nмахатов бекзат махатұлы\\nжұмабаева аягүл тұржанқызы\\nгабдыкаликов адилет арболұлы\\nнургалыков арман булатбекулы\\nеркіман лазер\\nеркін ербосын\\nсайбосын ізім болатбекұлы\\nоркушпаев динмухаммед евгениулы\\nжумагазинов жанас арсенович\\nтурсунбаев ерасыл ерболович\\nжолдас ерасыл маратұлы\\nмейманхан ильяс нұрланұлы\\nсейтказинов жалғас алмасұлы\\nқызырбек жасар\\nгабдуллина альбина талаповна\\nмазыло дмитрий андреевич\\nжапсар диас айдарұлы\\nартельбеков елжан нұрханұлы\\nбақытжанұлы айсұлтан\\nқайратұлы жанібек\\nескермес аман есжанұлы\\nмахмуд рамазан нажиматдиинұлы\\nмирсакиев тимур фархадович\\nахметов равиль шавкетович\\nбаден медина уласбекқызы\\nабдрахман тоқтар абдрахманұлы\\nбазарбай айғаным бақтиярқызы\\nриттер александр евгениевич\\nкайм асхат мухитұлы\\nабсаттар жібек маратқызы\\nрахымбекова рахымбүбі кадирбекқызы\\nбайбахтиев санжар кайратович\\nманлаев мерхат мақсатұлы\\nтебериков нұрасыл маратұлы\\nюн андрей юрьевич\\nжазыкбек айбек ануарұлы\\nберік айболат бүркітұлы\\nчайа ихсан еролұлы\\nамангелді аңсар сайлауұлы\\nкалимбетов дулат асылбекұлы\\nананко даниил владимирович\\nабдижапар аскар алматұлы\\nсабиров расул рустамович\\nқұлымжанов нұрсәт тұрланұлы\\nтөлегенов ерасыл алмасұлы\\nмухамеджанов ноэль евгеньевич\\nуразалиев еркебулан муратулы\\nамангелді альбина айдынқызы\\nбахбергенова айдана бахбергенқызы\\nюсупова софия рафаиловна\\nсапарали мұхамедәлі өскенбайұлы\\nтольтай ануар ерболулы\\nким камилла евгеньевна\\nимашев алихан абдувалиулы\\nдаулетова айнур айтбеккызы\\nдаулетханов темирлан асхатович\\nхудайбергенқызы нұрайлым\\nмухамет динара мухамирқызы\\nбисалиева әсима есмуратқызы\\nжалғасова анар бақытжанқызы\\nсерік айбын\\nоразалы асылхан маратұлы\\nдәулетқалиева аяжан серікбайқызы\\nназаров нурлыбек нургазыулы\\nжұмабек алмасбек мұхтарұлы\\nсултангазиева аружан ерлановна\\nрысбек назерке сакенқызы\\nахметкалиев рауан саматович\\nзадагерей жанарыс жарасұлы\\nбейсен бекболат илесбайұлы\\nтурганкул қасымбек нұрболатұлы\\nнуранов атажан талгатулы\\nкарташов илья дмитриевич\\nисаев рахат жомартович\\nтемірболат нұржан дәуренұлы\\nсадвокасова фракия тимуровна\\nбикбаев бақтамыс ғаниұлы\\nжұмағали қанат еркінұлы\\nқадырхан алуа русланқызы\\nберстем мадияр ғабитұлы\\nайдархан жарас нурдангалиулы\\nкумарханова аяжан талгатовна\\nсултанова аружан саматқызы\\nшахуали әлия жақсылыққызы\\nбидайбаева альзина сакенқызы\\nғабдуали назар акилбекұлы\\nхисамутдинов вильдан ильясович\\nоралғазин ерасыл сабыржанұлы\\nкожаков нурдаулет шаяхметұлы\\nсмиркин алексей сергеевич\\nахулбай шыңғыс талғатұлы\\nтоқан дәулет қалқаманұлы\\nкочисов алексей сергеевич\\nахметияр темирлан арманұлы\\nлесбек ақниет арманқызы\\nабубакирова маншук багдатовна\\nегембердиев тамерлан нурланович\\nслан мәжит оралбекұлы\\nнұрмұханов мұхаммед бердіғұлұлы\\nсулеев тимур андреевич\\nоналбай дастан канатұлы\\nсеменов павел евгеньевич\\nкурпеева нурсия еламановна\\nташимов алмаз арыстанович\\nрысқұлбек сұлтан ермұханұлы\\nиголинский давид сергеевич\\nджумагалиева сара бахытқызы\\nтойбазаров әмірсана жұбаназарұлы\\nсәрсенбек асылмурат бақтиярұлы\\nовчаров владимир валентинович\\nдосжанұлы елнур\\nутегенов жаркен маратович\\nнаурызбаев ермухаммед асланұлы\\nахметов рахат ермекович\\nмұрат иманғали бектауұлы\\nбуркутбаева альмира мараткановна\\nвилемсон ульяна викторовна\\nабсамат ақбота абдразаққызы\\nрүстембек әлішер азатұлы\\nажибай әйгерім акимбекқызы\\nорынбай ғани ғабиденұлы\\nергеш ақмарал мадиярқызы\\nжанназар жанна жәнібекқызы\\nшаймушреп әлима нұрланқызы\\nтұрғанәлі саят нұржанұлы\\nрашид карина артурқызы\\nтеміров дәуір дәулетұлы\\nақылбеков елнұр бауыржанұлы\\nабдраманов қуаныш алтынбекұлы\\nайтбай әлішер талғатұлы\\nжанысбай бауыржан бақытжанұлы\\nоганесянц орнелла робертовна\\nжолдасбек аяна\\nмырзатаев самат муратович\\nмұқышов мәди мейрамбекұлы\\nрашид жәнібек мирбулатұлы\\nабдукаликов абдразак ермекулы\\nғалымбекұлы дінмұхаммед\\nсагинбаева дина женисбековна\\nшәкуәлі жансая дәулетқызы\\nөтелхан бақытжан бегимханұлы\\nсапа айдар батырханұлы\\nқазбек құлмухаммед мухаммедалиұлы\\nсулейменов дамир русланович\\nқуат қуандық орынбайұлы\\nәбілақын бекзат сержанұлы\\nслам олжас маратұлы\\nөмірбек сымбат серікқызы\\nсансызбаева дильназ руслановна\\nутепов алмас айбынұлы\\nдосмағамбетова анель талғатқызы\\nсержан бақдәулет\\nтөлеген алибек рустемұлы\\nибрагим еңлік алданқызы\\nрусланова диана руслановна\\nтурганов рустамбек барахунович\\nисамидинова дианна данияровна\\nесенбай әсел таирқызы\\nканшора әсет сабитұлы\\nманаков ростислав федорович\\nәміржанов бекнар сұлтанайұлы\\nшаяхмет жасұлан ерғалиұлы\\nізімов алихан серікұлы\\nділмахамбетұлы жанарыс\\nестеуханова жұлдызай дәуренқызы\\nмұхаметқали аяжан нұрболатқызы\\nтолеубай әлібек саматұлы\\nқалдыбек бейбіт қанатұлы\\nташибаева гаухар тилеужанкызы\\nтурдыханова салтанат асқарқызы\\nабжами қуатжан нұртасұлы\\nбайдосов данияр талгатович\\nәмірхан рамазан еркінұлы\\nалдашов бекжан талғатұлы\\nқожабай мирас абайұлы\\nсухомлинов никита михайлович\\nкушенов арнұр ғабитұлы\\nуәтаев таңнұр ғизатұлы\\nжайсанов темирлан талгатулы\\nмулдагалиева дарина ерлановна\\nданиярбеков даурен нурболович\\nкәкен айгерим елдосқызы\\nбекмухаметов жаркын кайргалиевич\\nбазарбай көркемай сұлтанқызы\\nалтаева аружан мейржанқызы\\nкаукенова карина жанатқызы\\nтәңірберген қайсар әсетұлы\\nаширбек ақжүніс лесбекқызы\\nгасанов сиабанд тельманович\\nабибуллаев нұрдәулет бақытжанұлы\\nтурысбек қайсар ералыұлы\\nгасанов саидхан тельманович\\nасенов нуртас нургазиевич\\nкәрібоз елдос нүркенұлы\\nжасқайратова аяулым дарханқызы\\nахатай бекжан жанболатұлы\\nтлегенов мейірбек қайырбекұлы\\nданике мырза қуанышұлы\\nәшімов ержан маратұлы\\nболат арнур алматұлы\\nжанен абду-али ғалымжанұлы\\nалтынбек назерке кеңесбекқызы\\nқайдар олжас қуанышұлы\\nкожабеков улан даулетұлы\\nермаханов дархан муратұлы\\nесенов нұрдәулет дулатұлы\\nбадамбаев диас даниярович\\nмырзажан айжан бекмуратқызы\\nалғашбекова назерке алғашбекқызы\\nбекболат әділхан жәнібекұлы\\nкызырканов парасат ермекбайұлы\\nалиев имран мухидинович\\nжеткербаева назерке рахатовна\\nшарапатдинов жанибек мажитулы\\nамырханова жанель кадылбековна\\nбердібай біржан ержанұлы\\nсарман көпжан абдуамадұлы\\nадилбаева меруерт адилбаевна\\nнұрбек әліхан русланұлы\\nаменов ернар ержанович\\nқалабай рамазан бауыржанұлы\\nбисенов данияр мақсотұлы\\nфайзулин ринат нуретдинович\\nбердығұл әмір нұрдәулетұлы\\nмусаев эллиас ришатович\\nәділбай нұрасыл ермаханбетұлы\\nишан ибраим каримұлы\\nутегенов асылжан арманович\\nорысбаев ернар кемалұлы\\nнұрқабыл мағжан мұратұлы\\nасылбекова талшын болатбекқызы\\nмерекебаев жарас муратович\\nданьшин дмитрий павлович\\nалиева айгерим талгатқызы\\nтұрарова әсемай дарханқызы\\nнышанбек аида батырханқызы\\nсейітмағамбет оразбай маралұлы\\nкеримбекова аяжан маратқызы\\nдінислам мирас билалұлы\\nжаханшаев жігер жанарбекұлы\\nесниязова сабина аймуратовна\\nдуйсенбай асар акылжанұлы\\nкеримжанқызы әния\\nджуматаева алина дастановна\\nесенгазиев жандос миятбекович\\nборанбаев бекбол кенжеғалиұлы\\nсоветханова аида талғатқызы\\nқайыпқали ақтолқын лутқызы\\nбалатұрсынов темірлан нұрланұлы\\nрымбай мұхамедияр аманғалиұлы\\nмустафин дамир асылжанұлы\\nолжабаев батыр жалгасулы\\nжарылхасын қуат әлібекұлы\\nергали олжас\\nәліпбай дамир ринатұлы\\nжаксиликов нурдаулет сапаргалиулы\\nбаяхмет зулейха каирбекқызы\\nюгай станислав никитович\\nтуғанбаева дариға қуанқызы\\nтаймас нұрсейіт жандосұлы\\nшарипов карим рашидович\\nкаратаев атабек бахадырулы\\nкульбаева жансая танирбергеновна\\nжумадуллаев шахрух давронұлы\\nсарсенбаев дамирбек ильяс угли\\nжолдыбай сұлтанби жолдыбайұлы\\nтұрдыш нұрислам мейрбекұлы\\nхәкімжан умман болатқызы\\nкарибаев нурсултан темирович\\nеркін нұрдос арманұлы\\nапсалямов нурбек ардакулы\\nсақтағанов нұржан нұрболатұлы\\nәскербек бауыржан болатұлы\\nбогданов даниил александрович\\nмосхондопуло елизавета георгиевна\\nаққазинов бекзат мауленұлы\\nумирбек нұрбек умирбекұлы\\nкараманов элдар куандык уғли\\nнурахан жахангир айдарұлы\\nсейднурова анель қуандыққызы\\nжебегенова медина руслановна\\nнәлтай нұрдәулет ғалымжанұлы\\nқуанышбек мағжан әбдімүбаракұлы\\nболатбек ануар ұланұлы\\nтунгышбек едіге ерланұлы\\nсаламат айша саламатқызы\\nсолтангазиева адина болатжановна\\nжапбарбек диас дәулетұлы\\nасканбаев данияр нурзатұлы\\nпрохоренко данил михаилович\\nсапарғали санат жанибекұлы\\nназарбекұлы бауыржан\\nмырзагалиева айданақ қайратқызы\\nерғали досжан жандосұлы\\nринатова мадина айбековна\\nтулебай назгул рахимжанқызы\\nермекбаева еркежан талгатовна\\nамалбек аида әділқызы\\nеркін инара еркінқызы\\nмусабеков нурлыбек оразбекулы\\nабдиади розалина мирдосқызы\\nжақсылық дәулет алматұлы\\nермекұлы дидар\\nордабаев мейіржан жанабайұлы\\nтөкенов асанәлі кеңесбайұлы\\nабаскан айбек рысбекулы\\nмұқанбай ердана\\nсабритдинов асадбек мирсаидұлы\\nтубанов бейбит ирзалиевич\\nутебасов даулет мухаммедиярович\\nтулегенова бибихан албиқызы\\nмырзагалиев рустем ануарбекович\\nитемген нұрдәулет ерманұлы\\nжексенкадыр елара\\nсапаралиев бегжан мукашевич\\nшакиртова медина ержанқызы\\nнестеренко алина владимировна\\nкеңесбек салтанат берікқызы\\nбағдат азамат қайратұлы\\nорынғалиев ернұр еркінұлы\\nдүйсенбай әсем қайратқызы\\nмаркез темірлан талғатұлы\\nбазарбаева жазира бигелдинқызы\\nкасенова анель аргынкызы\\nмейрамбек аян нурсерикұлы\\nнұрбергенов сәт абзалұлы\\nкаирланов бексұлтан алымұлы\\nбекбосын нұртілек болатбекұлы\\nкадиров бақберген ғабитұлы\\nбаядилова аяулым саматовна\\nасылбек абасшах ғалымжанұлы\\nқосман ғазиз саматұлы\\nсапар диас молдиярұлы\\nбахытбек санжар бауыржанұлы\\nумирбекова гульден ораловна\\nомирбек арсен нұрдиллаұлы\\nимашев арнат нұржанұлы\\nшариф жанел махмутқызы\\nкуцаенко таира александровна\\nбазилов батыржан бауржанович\\nмустафин мухаммад токтарович\\nжумабеков диас жұмабекұлы\\nшәкірбаева ділназ оңдасынқызы\\nраймкулова аружан ержановна\\nкасенов диас нұржанұлы\\nомеркулова лия еділбекқызы\\nанарбек жаңыл нұрланқызы\\nбуашева айша муратхановна\\nкөшкімбай әділет асқамбайұлы\\nалтынбеков дархан саятұлы\\nчоканов алишер максатұлы\\nтлеужанов елшат манасұлы\\nқұсаинова назерке болатқызы\\nнуртасова адема насихатовна\\nтимурбеков айдар еркінұлы\\nсоветов ғалым қазизұлы\\nсамат шахмардан нұрлыбекұлы\\nәбдіғапбар асылзат бағланқызы\\nкайгородов андрей александрович\\nбайбалаева ақбаян еркінқызы\\nисабеков диас қуанышұлы\\nеламанов азат азаматұлы\\nжеңіс тахмина дәулетқызы\\nжумабаев ербол муратбайулы\\nеркембеков нұржан амангелдіұлы\\nқосалы фариза бақытқызы\\nөмірәлі бауыржан мұратұлы\\nсерджанов мусатай турсынбайулы\\nкалдибаев азатбек бахитжанулы\\nсерік даулет ермухамбетұлы\\nтолеутай бекзат ерболулы\\nкалиев касымжомарт нуртуганулы\\nшаяхметқызы шұғыла\\nкенжебай меруерт болатқызы\\nжоламан мәди маратұлы\\nмамирханов рамазан шаукатұлы\\nорынтаев мерей болатханұлы\\nәділ аман абатұлы\\nкемали рахат қайратұлы\\nмұқас сұлушаш айдосқызы\\nабылханов мади мамбетұлы\\nленхан алішер ғалымұлы\\nмахамбет меруерт маратқызы\\nжанабаева жасмин сымбатовна\\nмахтабек ерлан кумисбекұлы\\nирмука олжас талғатұлы\\nмухамбетов данияр нариманович\\nаққұлы саят қанатұлы\\nтагаева гулиза садибекқизи\\nалмасұлы елназ\\nқайыржанұлы райымбек\\nеркінбек асылбек бақытұлы\\nрахимов елдос серікұлы\\nзаинов қайрат елюбекұлы\\nоралқанов диас дауренұлы\\nтөреханұлы шоқан\\nбөрібек мухамеджан муратұлы\\nтемір ескендір төлегенұлы\\nқаипберген бекасыл бауыржанұлы\\nакжолтаева аружан маденкызы\\nәкім айғаным бақытқызы\\nабдрашова салима азаматовна\\nәлімханов бекасыл тойбекұлы\\nманас улзат мақсетқызы\\nтулегенов куат кайратович\\nалиев дархан асқаруғли\\nрахман диас жомартұлы\\nшамшитдинова феруза дильшадқызы\\nкабиева мөлдир нурланқызы\\nәбіқұл фариза айдосқызы\\nбайбосын дарын бейсенғалиұлы\\nкошеков ерлан махмутулы\\nабзалов алишер русланович\\nесенқұлов әділет асанұлы\\nеркебұланқызы ақберен\\nқуанышбай қымбат қанатқызы\\nбаймурза нұрлыхан еркенбекұлы\\nәзімхан темірлан талғатұлы\\nкзайбаева аяулым қайрбекқызы\\nкомаров николай александрович\\nмұқият аякөз\\nтұрғанбай торғын балқанқызы\\nкөжекбаев эльдар ахметқазыұлы\\nнұрсапа заңғар ақжарқынұлы\\nсәлім азамат бахжанұлы\\nаканова жансая шалқарқызы\\nбалабеков ернар батырбекұлы\\nкөшен мирас бақытжанұлы\\nолжасов ахмедияр русланович\\nсексенбекқызы салтанат\\nберкинбаев сабит махсетбаевич\\nқоныс бақжан әсілбекұлы\\nжүнісбек ескендір бахытұлы\\nмахатжан бексұлтан досболатұлы\\nхайдаров амирбек абай уғли\\nсаматова назерке қуанғалиқызы\\nсейдахметов самат муханұлы\\nкабиев диас куандыкұлы\\nжумабек меиірхан мұхамеджанұлы\\nқұрманали құралай қуатқызы\\nтиштық исламбек тиштықұлы\\nсаматұлы ануар\\nқаржав ербол дусмуканбетұлы\\nалдаберген нұрислам русланұлы\\nсатбаев авраам едигеевич\\nатаханов данияр уалиханұлы\\nбайзақ бағлан нурланұлы\\nұзақбаева ақжүніс талғатқызы\\nкарл бағжан саматұлы\\nбақытұлы наурызбай\\nжакенов алишер бауыржанұлы\\nәлжан бекарыс жарқынбекұлы\\nперманов асхат абдыдалилулы\\nтұрғамбек асанәлі маратбекұлы\\nболатхан әлімжан рыспекұлы\\nбөкенбай бекасыл нурасылұлы\\nбахытов нурсултан муратулы\\nқахарманов мадияр оңғарұлы\\nдайыр жания\\nжолдасбеков бексұлтан жаксыбекұлы\\nоралбек жансая алтынбекқызы\\nкусембай шырын нұржанқызы\\nажибай нұр-мұқасан алмасұлы\\nчижик руслан дмитриевич\\nоспанбеков жандос кайратулы\\nәбдікерім бұлбұл\\nдаулетбай рамберды муратұлы\\nибадиллаев иманғали әсетұлы\\nабдибали ерасыл нұрланұлы\\nальмахан диас бакытжанұлы\\nабляжанов саят маликулы\\nжумағали әмір жупарбекұлы\\nсламбеков уалихан нұраханұлы\\nнурлыбекова амина азатовна\\nқасым аружан еркінбекқызы\\nкоролёва ирина алексеевна\\nкиргизбаев искандер рахатович\\nлоенко вероника вадимовна\\nбатырбеков руслан мейржанұлы\\nисақов ілияс асқарұлы\\nоралбек абылайхан әбілхайырұлы\\nқазенов қайсар қуанышұлы\\nчванов андрей михайлович\\nкочербаева шарафат\\nутебалиев бекзат едгеевич\\nбеген раймбек ержанұлы\\nмухамади назерке қанатқызы\\nсаламатқызы маржан\\nабдусаламова анеля откировна\\nсейсенғожа заңғар қайратұлы\\nнурымбеков бибарыс бақытұлы\\nдади сұңғыла\\nормашов марат алтынбекұлы\\nтөлеубекова дина қуатқызы\\nаманжол нұртілеу серікұлы\\nкусыманов расул бақытбекұлы\\nнемудров александр сергеевич\\nлесбек алтынай берікқызы\\nрысқұлбек нұрсат сабитұлы\\nпак артем алексеевич\\nтангирбергенов темур бахадырұлы\\nонашқұл батыр ғазизұлы\\nтокен әділ тұрарұлы\\nраимқулова таслима маратқызы\\nғазиз мирас нұрланұлы\\nқантай жұлдыз\\nуразаев алишер ерманович\\nгабдулахмет ерқанат асетұлы\\nмолдахметова аяулым маликқызы\\nтуран дәурен байқадырұлы\\nбауыржанқызы дана\\nрзабек арғын асхадұлы\\nмақсотов жанболат тасбулатұлы\\nноғай ислам амангельдіұлы\\nорынбасар мырзабек абдумажидұлы\\nмасимов ильхам муратович\\nкөшерхан сырым сымбатұлы\\nтұрғанбай балтабек жұмағұлұлы\\nабдуап айдос бауыржанұлы\\nабилов азамат оразханович\\nералиев ағаби абатұлы\\nизенова амина тореханқызы\\nтөрехан бақдәулет ерланұлы\\nнұрланұлы бибарыс\\nтулеу арсен қанатұлы\\nжусупова адина маратовна\\nкемелжан дәулет сәветқанұлы\\nтлеуханова аружан асқарқызы\\nқалдыбай ерғанат ерболұлы\\nбұғыбаева нұрзат қанатқызы\\nкараматдин альбина куатбайқызы\\nалимжанов адиль асхатович\\nабдрахманов диас бауыржанұлы\\nзайнулин максим сергеевич\\nоразбай еңілік медетқызы\\nайтжан ілесбек ермекұлы\\nкалиева айдана айдарқызы\\nбогембаева айнур мажитовна\\nқияс лаура берікқызы\\nсадықова альмира мырзағұлқызы\\nғабиденұлы нұрлан\\nөмірзахова нұрай дидарбекқызы\\nтоқтар шырын қанатқызы\\nнұрғазы асан бақытұлы\\nельбаев үсен уразбойұлы\\nабенова жазира маратқызы\\nайболатқызы асемай\\nқұлбай ырысты қасымбекқызы\\nәмірқұл ақжүніс әбдуалықызы\\nордабеков бексұлтан серікұлы\\nдаулет алия\\nкайржанова айлина русланқызы\\nжұматаев біржан болатұлы\\nрахымова нұрдана нұрдаулетқызы\\nкалмаханов арыстан ардакович\\nтажиев дамир сабитұлы\\nбекжігіт сымбат амангелдіқызы\\nбекбаев бағдат оңгарбайұлы\\nәуесхан ернар дәуренұлы\\nгималай ибрагим жасұланұлы\\nтұрарова жансая әділбекқызы\\nнұрғали елнұр нұрқанатұлы\\nтұратбек ерлан семетейұлы\\nумбетова алия суюнбекқызы\\nәбілмәжінова томирис мұхтарқызы\\nбеспаев мадениет жанатович\\nниязова гульбахрам абдуганиевна\\nмұстафин қуанышбек ринатұлы\\nнуржанов ержан бекболатович\\nқуанышқалиев бекслан рамазанұлы\\nоруджова эльмира гамзаевна\\nкарымсаков камиль ермекович\\nвихорев тимур александрович\\nқұбайдолла аман асылбекұлы\\nагадилова каламкас сайрановна\\nмейрамбекұлы ерзат\\nайтқожа әлия нұрланқызы\\nмырзатаев ерасыл айдынович\\nшутенов батырхан тлекұлы\\nманакаева аделия канатовна\\nлескен асылнұр\\nмағаданов бекдәулет елемесұлы\\nбердимұрат аигерім бекболқызы\\nсыдык арна айдарулы\\nталгатов даур аскарович\\nсейдахмет әсет дәулетұлы\\nалимбай алем алимбайұлы\\nшалғынбай рахат бағдатұлы\\nшукаева құндыз исатайқызы\\nмәліков алан жантореұлы\\nсағындық нұрдәулет нұрланұлы\\nрашит әлішер қанышұлы\\nкаирбек нурбай талгатулы\\nаман айнұр еркінқызы\\nазаматов динмухаммед муратович\\nәбдірешов жандос ерланұлы\\nкопжасарова дана багытпековна\\nсмагулов арлен махмудович\\nкисиков чингиз арманович\\nайтпаев арлан талгатович\\nкенжебаева фарида дауренбеккызы\\nамангелді камила рустамқызы\\nэдгенова еркежан наурзбаевна\\nамильбек нұрболат дюсембекұлы\\nескенов ильяс канатович\\nсейітжан марлен нұржанұлы\\nалиев алишер еркеболатұлы\\nбаринова сабина дулатхановна\\nқоныс сымбат оңғарбекқызы\\nборашева данна бауыржановна\\nмақсұт дана мұратқызы\\nбекенов ерасыл мейрамович\\nнәсір азамат құралбайұлы\\nнайман нұрбек бахытұлы\\nпулат мұхаммедәлі қанатұлы\\nбалтабаев марғұлан серікпайұлы\\nсансызбай жалғас қадырұлы\\nжаңабай рахат ержанұлы\\nасқарұлы алмас\\nасайын еркегүл жеңісқызы\\nмирас гаухар дарханқызы\\nшыныбаева адиля амангельдиевна\\nсағындық асылхан ғабитұлы\\nқуаныш мақсат жанатұлы\\nелтаева анеля ерболовна\\nбаймурзин рафаэль тахирович\\nөтеген айтулы бақытқызы\\nжигербаев еркебулан нурлыбайұлы\\nсыдық аяжан сансызбайқызы\\nутемурат алишер рахметуллаулы\\nқындыбайұлы ерқуат\\nтлеужанов сырым нұрланұлы\\nтөлегенов мұхамбет ибрайымбекұлы\\nаскарбеков асет булатович\\nдүйсенов аян ерғалиұлы\\nамангельдиев абылайхан жангельдиевич\\nметерова акпанай махсетовна\\nахмет ілияс асқарұлы\\nбекмулдин едилбек ерсинбекович\\nтлеуғалиева ақбала жанботақызы\\nманап елдос дулатбекұлы\\nжоламанова сабрина куандыковна\\nаханов асқар махсатұлы\\nсейтқан әнуар жақанұлы\\nбаянов жангир маратович\\nберкин кайнар айтжанович\\nисенов данияр маратұлы\\nбекмұратов әділет байғалиұлы\\nәбдірахманов бекарыс махмұдұлы\\nамангельдинова камила темирболатовна\\nкаратокачева асемай жанибековна\\nтумабекова аружан сабыровна\\nрәпілбеков олжас ақәділұлы\\nнауанова аида ерлановна\\nбақыткерейұлы батырбек\\nсамархан әлішер болатбекұлы\\nахмедиев алдияр ардакович\\nигенов темірлан ескендірұлы\\nкопжанова дамиля маратқызы\\nдалабеков алмат кұрманбекұлы\\nжардемов айбат нуртаевич\\nенсебаева салтанат муратовна\\nабай рахман абайұлы\\nамангелді арыстан талғатұлы\\nмастикбаев амир муратович\\nермек санжар асқарбекұлы\\nжурунов габиден маратович\\nтергембаева аяжан ержанқызы\\nмуратбеков мирас турсынбекович\\nимангалиева айсара эргашевна\\nболатов бекзат талғатұлы\\nұйқас олжас дарханұлы\\nермуханбетов жақсылық алтынбекұлы\\nболатов ерасыл талгатович\\nотарбаев думан муратұлы\\nтурсынбек айгерім алматқызы\\nалкенова альдина садыровна\\nсапарбек ерасыл қайсарұлы\\nтахырова сымбат азаматқызы\\nнауқанова нұрсәуле исламқызы\\nмырзакасымов бекзат такенұлы\\nмарат айсая\\nлұқпанов аслан серікұлы\\nтәңірберген ерғали рахатұлы\\nаппазов ержан әуезханұлы\\nмейрамбайұлы әділ\\nануарова аружан арыстенбековна\\nжәліш жасұлан убайдуллаұлы\\nертаев ансар куандыкович\\nдомолакова толкын абаевна\\nкемелхан әділет болатұлы\\nтұрсынхан алуа асқарқызы\\nтусупов альтаир мажитович\\nболатбеков мейрбек мейрамбекұлы\\nайдарханов алихан ерқанатұлы\\nмамеков элнур асанұлы\\nсапарбекқызы оралай\\nибрагимова айгерім мұхтарқызы\\nесіркепов дәулет асқарұлы\\nдүйсен нұржігіт үсенұлы\\nахмет махамбет ахметұлы\\nсейдемет алуа сакенқызы\\nпак владислав евгеньевич\\nамангелді мағжан айтмұратұлы\\nмұханов диас мұханұлы\\nжұбанова илана нұрланқызы\\nалимжанов альтаир бауыржанович\\nтоғай әмина берекеқызы\\nеркинбаев нурполат махсетулы\\nдемеш әділет маратұлы\\nзатов дарын даулатович\\nмурзалин тамерлан адилович\\nбактыгалиев дамир алтынбекұлы\\nиманғали мұратбек қайырбекұлы\\nкуаныш аймира азаматкызы\\nермахан ильяс хамзатұлы\\nжошин абылай нурланович\\nжолдасбек шамшырақ нуркенұлы\\nшайзолла нұртілеу қайратұлы\\nтөлеубаев әлішер өнербекұлы\\nқажымұрат асанәлі шораұлы\\nжұмаш дамир нұрланұлы\\nянфуев рият ринатович\\nпак вячеслав владимирович\\nкадрешев туремурат маратович\\nайсагалиев султан муратович\\nмамраев али булатбекович\\nжумажанова дильназ маулетовна\\nсерғазы әділет дәулетұлы\\nсовет санжар нуркенович\\nдутбаева айсана мұратқызы\\nсерікбаев азат кенжетайұлы\\nданияров саукен талгатович\\nболганбаев айғұн артыкбекұлы\\nбакенова арайлым аскаровна\\nмурат дінмухамет болатұлы\\nсапарғали абдулла асқарұлы\\nқосыбай алихан біржанұлы\\nнұрмағанбет нұрасыл асхатұлы\\nабилбекова амина абайаддиновна\\nмекеш сағымбай айдынұлы\\nбақытниязов махмут төреғалиұлы\\nканатов асет тимурович\\nдүзелбай әлишер ерлікұлы\\nбертебаева камила жанатовна\\nкадыркулова шолпан бекбулатқызы\\nнагиев мариф эльханоглы\\nрафаил асқар талғатұлы\\nожогов владислав владимирович\\nқабдоллаева аида азаматқызы\\nевстигнеев владислав иванович\\nәбубәкір дана қанжарбекқызы\\nабриков дәурбек қуатұлы\\nізтұрған нұрғиса бердәулетұлы\\nаманбекова әнел еркінбекқызы\\nякий ерасыл хайратұлы\\nмақұлбай азамат талғатұлы\\nумаров диас хакимжанович\\nермаханқызы дариға\\nорынбаев қанат қайратұлы\\nқуанышбай әлішер жанатайұлы\\nсултанмуратов шохзод элмуратович\\nжарденбай қуаныш жанболұлы\\nтөлебай арсен нурланұлы\\nмұратбек аружан\\nкабенова айым руслановна\\nнұртазина лаура бауыржанқызы\\nануарбеков адилет даниярбекович\\nамангельдиева жұлдыз қайратқызы\\nмагавин арыстан габитович\\nкасимгазинов астам асетович\\nгеройғазы нұрасыл ерболұлы\\nисақожа дария ерланқызы\\nсауленова аружан саматқызы\\nайтқазинов аябек аяжанұлы\\nәлмахан ырысбек әуезханұлы\\nсапенова аида сериковна\\nшакиева алима рүстемқызы\\nорумбай айгерім искандерқызы\\nабзалбеков нурлан багдатович\\nуалиева айым жайыкқызы\\nболат дамир ерланулы\\nсерік санжар ғалымжанұлы\\nкуандыков алихан ануарбекович\\nмурзагалиев алихан жасуланович\\nтаңатар нұрсұлтан ас-саладинұлы\\nманов батырхан мұратұлы\\nжахангер диас ғабитұлы\\nтуменов бауыржан жомартович\\nқалыбаев шыңғысхан батыржанұлы\\nжерносек даниял нурланович\\nумбетов елжан бауржанұлы\\nнұғметұллина назгүл жандосқызы\\nтаганов нуркен пернебекулы\\nқажыкәрім ажар бахтиярқызы\\nайдарқызы айдана\\nтлеубергенова диана женисқызы\\nмақыжан дархан ержанұлы\\nнұржанов нұрболат шыныбекұлы\\nәзімбай асылжан сәбитұлы\\nтемиргалиев дамир арманович\\nқайырболды мағжан ерболатұлы\\nсаух владислав владимирович\\nәлімбеков мағжан бақытбекұлы\\nбекетаев мирас нурболатұлы\\nджолдыбаев әлібек русланұлы\\nтанкеев самат имангалейулы\\nкуатұлы жан\\nахметов аблай қайратұлы\\nнурдаулетов исламбек нурдаулетулы\\nонаева алуа ерланқызы\\nнусупов мирас ерниязұлы\\nтөлеген ақниет бауыржанұлы\\nғалымов махамбет серікұлы\\nкөшер сұлтанбек сейтжаппарұлы\\nдемина рената геннадьевна\\nтулеп зарина болатқызы\\nсарсенов дамир сунгатович\\nумурзаков тимур тургунович\\nкурматов канатбай хамидуллаевич\\nмолдашев алихан аскарұлы\\nсадуов амир госманұлы\\nжақсылық бекжан үсенұлы\\nсабыров ерхан касымбекович\\nабдрахманова нургуль айдархановна\\nмаратов мақсат мейржанұлы\\nмұхамадиева әйгерім мұхаметқызы\\nбаблышова ақнұр әлібекқызы\\nқадырбергенова нұрайым берікқызы\\nқуанышова зейнеп махсатқызы\\nәділхан әлихан ғалымжанұлы\\nабдыхалық самат нұрланұлы\\nакбаров дамир рустамович\\nайту шыңғыс жақсылықұлы\\nабенова бұлбұл нұрдәулетқызы\\nмаксатова асыл оралбековна\\nниязбеков айбек муратулы\\nидрис алихан серикулы\\nілияс дархан қайратұлы\\nутебаев диас дамирович\\nнұрболатқызы мерей\\nоразбаев даниал ниязбекович\\nрасулұлы ұлан\\nкабжекенов айбар русланович\\nоразбай мұхтар нұрболұлы\\nбазылжанова айша кайратовна\\nкенжетаева аяулым ерболовна\\nрахимбаев темирлан сембекович\\nбайменов жангир бауржанович\\nкуатбеков жумахан чингизович\\nнәсір ақжол\\nдәулетхан нұрай ерланқызы\\nзейнешев адиль ерикович\\nсайлаубек санжар дарханұлы\\nджуманиязова әдемі райымбекқызы\\nайтжан нурлыхан меирбекулы\\nрысханова еркежан назбекқызы\\nасанұлы алихан\\nнұрғалиев алмас мухтарұлы\\nсейтбаев райымбек абилкаирұлы\\nали диас ғалымжанұлы\\nбауыржан дастан\\nдәуренұлы дінмұхамед\\nнұрмұхан нұрлыбек жасқайратұлы\\nапешова аяжан бақытжанқызы\\nжуманалин ерлан бекмуратович\\nайткулов аян анарбекович\\nсерікбаев шыңғысхан жамалидинұлы\\nәбдіқали елжас нұрланұлы\\nеркінбек нұржан оралбекұлы\\nбекназаров дәуренбек серікұлы\\nбалтабай султан куанышбекұлы\\nамантай нұр ерболұлы\\nкиюбаева камила азатовна\\nмирам әділхан мәуленұлы\\nсүйерқұл нұрмұхаммед смайлұлы\\nдуйсенов алдияр ардакович\\nаманов нұрлан орынұлы\\nнұрдылда расул әділханұлы\\nқажмұрат қадырәли дәулетұлы\\nхамитов санжар арманұлы\\nкарибаев диас бейбитұлы\\nтойшибаев мурат бакытулы\\nмаликайдар нұрсаид амантайұлы\\nтабиб жансерік\\nхибадат назерке амандыққызы\\nқадырбек дәурен әділбекұлы\\nлысечко руслан евгеньевич\\nжуматаев елхан куанышевич\\nуртакова балжан багадатовна\\nтасжан алуа бейбітханқызы\\nмырзақасым айдана мақсұтқызы\\nнұртаза асем сакенқызы\\nибрагимов нұрәлі әбдікәрімұлы\\nсадық аружан қайратқызы\\nсадр ғаламат еренұлы\\nруппель артем валентинович\\nкурбаналиев омар абдирашитұлы\\nгосман елнура думановна\\nумбетов қазыбек тореханұлы\\nәбуов мейрамбек жұмабекұлы\\nқуандықов айсұлтан қуандықұлы\\nаманбек садықбек жеңісбекұлы\\nихсанов нұрсұлтан арманұлы\\nәубәкір бекзат ерғанатұлы\\nаманбай еркебулан\\nумиржанов алиби ерканатович\\nбахттыева альбина саматовна\\nаманова аружан серікқызы\\nасыланова құндыз асыланқызы\\nтасқынбаева меруерт қасымқызы\\nмагауия бекарыс темірланұлы\\nжамбыл дарын максатулы\\nалимбаева амина қайратқызы\\nискандеров манас марякович\\nжакашов мухамедали бакытбекулы\\nтурсунбек ақжан даулеталықызы\\nарас алихан сагатулы\\nкурбанова медина маулетовна\\nбиязбаев дамир аккуанович\\nсәрсенбаева динара жақсығалиқызы\\nшахимова рената муратовна\\nтулегенова дильназ даулеткалиевна\\nутемисова амина булатовна\\nбалабаев жанибек ескабылович\\nтағаева фарида бахтбекқызы\\nбайсаков олжас маратұлы\\nсултанов асланбек улугбекович\\nбакибаева жанель маратқызы\\nорынбасар мерей нұрланқызы\\nнұрғали ерасыл қанышұлы\\nмадиарова рауана ануаровна\\nқажмұханбет бағлан ерболатұлы\\nмақаш кәрім келденұлы\\nсамарханов тамерлан қанатұлы\\nходжабеков жәнібек бахытжанұлы\\nмұрат назерке нұрболатқызы\\nоразалы мерей жанаткызы\\nманап еркебулан ерланулы\\nондасын аружан еркінқызы\\nмендіғали темір қайратұлы\\nоразқан жанна мұратқызы\\nманап айдос темірланұлы\\nнурмуллаева дильназ ардаковна\\nазангалиев арнур аскатович\\nскаков тарлан абылкаирович\\nжанібек өміржан мұратұлы\\nмахмутов эльдар асхатович\\nқарлыбай ердәулет маратұлы\\nсейтхан жарасхан бауыржанұлы\\nорынбаев нұрсерік ерболұлы\\nкисметов алиғазы алпамысұлы\\nмырзасары данияр тимурұлы\\nкакенова гаухар турсунбековна\\nкенжебаев алдияр қанатұлы\\nелемесов айбар русланович\\nнигметов амир сунгатұлы\\nабдиев адилет жандосович\\nбауыржанова жұлдыз мұратқызы\\nдыбысбай думан дулатжанұлы\\nбимуратов абай серикович\\nяцкевич артём сергеевич\\nабдуманап бексұлтан оңалбайұлы\\nғұбайдулла айжан ғалымжанқызы\\nчиндалиев искандер бахытбекович\\nтургинбеков алмаз еркебуланович\\nфедоренко ратмир владимирович\\nтынымбай дильназ дауренкызы\\nмаратбеков айдар айдынулы\\nамангельдиев мирас мерекеұлы\\nермеков темірлан болатұлы\\nахмадиев куаныш бакытбекулы\\nертаев нурхан аскарбекулы\\nнурсултан манат серикулы\\nсақтапова аружан наурызбекқызы\\nхабиев жангирхан кайратович\\nмурзашев эрнест арманович\\nайбекқызы айболсын\\nбақтыбай ақжүніс әлімжанқызы\\nалибеков алишер абзалович\\nсекербек дария қайратқызы\\nмунбаева іңкәр сарсенбайқызы\\nсамаликов фараби абзал-сенбіұлы\\nомарова аружан сеилбековна\\nсаркытбаев ерасыл болатович\\nгазиз аида абылкайырқызы\\nқадырова назира қанатқызы\\nмұхиденов дияр қуандықұлы\\nзинешева софия махамбетовна\\nлесбек бекжан қуатұлы\\nқалибаев абзал бауржанұлы\\nалдиярбеков азиз нурланович\\nкалиев заманбек куралбайұлы\\nқайдар әлиқан асқанұлы\\nжолдықараева еркеайым бағланқызы\\nабуова изель тимурқызы\\nбекжанова жанна алибекқызы\\nмекенбай нұрислам шадиярұлы\\nджаксылыков ескендір бахтұлы\\nкенже данияр талғатұлы\\nкайрула мәдина серікқызы\\nтемиргалиев дамир русланович\\nдюсембаев ильяс муратович\\nкеримкулов думан батырбекұлы\\nамиргалиев арман сымбатович\\nөндіріс бибісара сәбитқызы\\nқошкарбаев санжар сеилбекұлы\\nабенова ясмина баглановна\\nбайсакалова назия абдуалиевна\\nдалелханов бекжан нұрланұлы\\nесилбаева улана атимбековна\\nакмалиев бахытбек бактиярулы\\nөтеп олжас есенейұлы\\nтемиржанов мейрам сопы\\nжанатов жандос нурланұлы\\nмустафина амина манарденқызы\\nбегасилов нұрсұлтан шыңғысұлы\\nискакова карина сырымовна\\nтангиев мурад муссаевич\\nкарпов евгений александрович\\nрахметов нәби саматұлы\\nолжабай батырхан ержанұлы\\nкосанов динмухамед сакенович\\nисалиев ақжол аскерұлы\\nжармуханбет нұргелді ержанұлы\\nказдаев тимур нурланович\\nмахамбет ислам ержанұлы\\nкульчимбаева камилла муратовна\\nжұмаділ алишер қайратұлы\\nсахиев азиз маратович\\nережепов рахат айбулатович\\nбайкадамова данель шынгысовна\\nдулат аяжан ерсаинқызы\\nаскетаева анель ериковна\\nтоқтамыс досан жәнібекұлы\\nаманжолов арсен сәкенұлы\\nмухамеджанова дильназ канатовна\\nумарова зухра мухитқызы\\nмагзамбаева айгерім оринбекқызы\\nизтелеуов искандер темиргалиұлы\\nдаирова аружан асылханқызы\\nаманжолов бахытжан жаксылыкович\\nнуртай райымбек\\nрахметуллина дарига асановна\\nджакиева алина ондагановна\\nгазизова мадина амангелдиновна\\nбердикеев темирлан сейсенович\\nдүйсет айгерім сабырбекқызы\\nсабыржан айгерім бауыржанқызы\\nашимова алина канатовна\\nсамсаденов жанәділ асхатулы\\nкадыржанов диас русланович\\nальжанов асылхан асетович\\nсатыбалды балнұр ғаниқызы\\nқасымова анар амантайқызы\\nоңғар алишер төлегенұлы\\nнаурызғали дәулет абайұлы\\nәбдімәжит алуа нұрхамитқызы\\nқалкенова сулушаш мейрамқызы\\nабдираманов алтынбек хамитулы\\nдулдиев райымбек сартайұлы\\nберикұлы ерік\\nахмер ерсултан жанболатұлы\\nколомеец илларион владимирович\\nбостекпаев диас ержанович\\nкәрібай санжар қайратұлы\\nшакизан әмірхан берікұлы\\nаманжаев биғали аманбекұлы\\nхаджидурсуноглы султан хазретович\\nсағынғалиев қуанышбек нұрбекұлы\\nташева лаура арманқызы\\nрысбек асанәлі оңалбайұлы\\nгребенюк даяна витальевна\\nиманғали алижан иманғалиұлы\\nқанағат мерей еркінқызы\\nмасхутов хаким ильгизович\\nнұрсейт ардақ асқатқызы\\nжұбан әли жамбылұлы\\nөтегенов айдын даулетқалиұлы\\nсәрсенқызы ақбөбек\\nсабырова мерей бауыржанқызы\\nмайданов мирас майданұлы\\nқуатов махамбет болатұлы\\nүсенов бейбарыс болатбекұлы\\nсатқан аружан еркінқызы\\nжолдасова эльмира жұмабайқызы\\nсманов бексұлтан нұрланұлы\\nгаббасова аида оралбековна\\nкаскарауов әділет даулеткелдиұлы\\nтолеубеков темірлан ерланұлы\\nүсен ерасыл бауыржанұлы\\nренатұлы арсен\\nалтай томирис таирқызы\\nайсина нәзира жұбанқызы\\nрүстемов азамат сәкенұлы\\nсапарбеков диас серікұлы\\nжәдігер бекарыс жарқынбекұлы\\nбейшембиев рамис эдикович\\nлебедев владислав сергеевич\\nжалгасбаева сабина газизовна\\nәбіш әбілқайыр қайырбекұлы\\nсейсенбекқызы арайлым\\nқаратаев мағжан аханұлы\\nборанбаева куләш асылханқызы\\nкумарханов нуржан ризаханович\\nрахимжанов еламан айдынович\\nшарипова амира ердаулетовна\\nдоспанова асем бакытовна\\nсадыков мадихан нурланович\\nхайдер имран али\\nмарламбеков думан дулатович\\nсапаралы әсел сәбитқызы\\nкадыркулов алибек жасуланұлы\\nшаметов арман ералыұлы\\nертаев нуртай ералыулы\\nнурлыбеков аслан галиханович\\nгерцен ян игоревич\\nержанұлы диас\\nкампит сания оразгалиқызы\\nкусаинов алдияр нариманович\\nконыртаев зеин галымович\\nсалимгали мидас нурымулы\\nдарбаева гүлсезім тұрарқызы\\nсадуақас саида берікқызы\\nсереков даниал жолдасбекұлы\\nмырзағалиев темирлан дәулетұлы\\nирисбеков максат батырұлы\\nбисембаев абзал ерсаинұлы\\nбухин алдияр мадиярович\\nмусанова анель нурмуратовна\\nмаратов адилжан бауыржанович\\nкызамбаев алмаз серикович\\nбекетай нұрдәулет қанатұлы\\nбахова аружан жұмабекқызы\\nтабилов нурмахан берикулы\\nгаврилко александр дмитриевич\\nбекбаева зарина ізбасханқызы\\nнұрбергенов диас қуандықұлы\\nжолдасбай мухаммед-али ерболұлы\\nахметхан алуа қайроллақызы\\nболатбекова ельназ болатбековна\\nсенгербаев санжар мухтарұлы\\nли александра вадимовна\\nомаров мурат бағдатұлы\\nмырзахметов бақтыбай қанатұлы\\nбазаркулова айгерім сейтжанқызы\\nпатешова алтынай асхатқызы\\nсерикбаев тамирлан амирович\\nсергазин батырхан нурымович\\nбәйдіш тоғжан ғазизқызы\\nкұмарбек мөлдір\\nшотпаев адлет ертаевич\\nускембаева аружан асқарқызы\\nәбдіқадыр болат жармаханұлы\\nпримкулов алпамыс кайратович\\nорынбасар ертілек ерболұлы\\nжазбекова ұлпан әбдіқадырқызы\\nмусина аружан нурлановна\\nқалық жалғас берікұлы\\nтлеуқабылова асылай бақытқызы\\nнаурзбаева камила болатбековна\\nсантасова алуа жанарқызы\\nқамза диас нұржанұлы\\nбекжан жания уалиханқызы\\nшәріпбек мансұр әмірбекұлы\\nқазыбек әнел арманқызы\\nкаждаров алдияр даниярович\\nбекқалиев жарқын қайырбекұлы\\nталғатұлы жомартхан\\nхаммет қажымұрат ерболатұлы\\nарысбай дастан әділұлы\\nберлибек диас еркенұлы\\nсулайманов азамат аскаралыулы\\nкуттибаев нурали эралиуғли\\nжамбатыров тамерлан кайратович\\nайдынгалиев диас арманович\\nзарсаев евгений игоревич\\nаскаркызы жадыра\\nзейнель асылұлан нұркенұлы\\nпогребной даниил юрьевич\\nтаипов санжар тимурұлы\\nмикряков андрей денисович\\nконарбай шолпан гарифуллакызы\\nқұдайберген ұлпан төлепбергенқызы\\nсайранбеков жанарыс жандарбекович\\nсоветбеков талғат бекұлы\\nибрагимов олжас естайұлы\\nтурапбай аида алматовна\\nсаясат ақбота мархабатқызы\\nсансызбаев мағжан ғалымжанұлы\\nзейнулла айя қадырханқызы\\nсәкен ақсұңқар\\nомирбаев диас габитулы\\nордабаева айдана мадикызы\\nахмади нұрбол кенесқанұлы\\nмансуров куаныш галымжанович\\nалдажаров мерей абилхайырулы\\nсерік диас бауыржанұлы\\nқыдыров ернұр алмасұлы\\nтен никита романович\\nжани шадияр сәндібекұлы\\nбақыт аманнұр серікжанұлы\\nжакеев сұлтанбек асылбекұлы\\nқұрманжан жалғас серікұлы\\nалтынбек тамерлан русланұлы\\nбақыт нұрай дулатқызы\\nакишев темірлан қанатұлы\\nжолдыбеков султанбибарс дулатович\\nкенжеханов абзал адилович\\nелимбаев бахтияр талгатович\\nтуракбаев дастан каирович\\nхайрулла аяна алмазқызы\\nасқарбек ақжүрек\\nержан ернар аянұлы\\nсерғазы қазыбек ардақұлы\\nермахан айым ғазизқызы\\nмұратбек асылбек мейржанұлы\\nтөлегенов мұхамед дәуренұлы\\nякубов амир фахритдинович\\nәлияр гулфайрус нуржанқызы\\nвалихан қуаныш тореханұлы\\nнауханова жанел қанатқызы\\nкопбаева назым сатбаевна\\nсанатов еділ ернарұлы\\nсапарбек әділхан ержанұлы\\nсабитов адилбек нурланулы\\nәділбекқызы шәрбат\\nқуанғали бағдат талғатұлы\\nжәумітов азамат оразбекұлы\\nқуанғанов елдар қуанғанұлы\\nартықбай айбек нұрсейтұлы\\nслемғали нұргүл мұратқызы\\nбайгалиев даулет кыпшакбайұлы\\nтойшыбек олжас талғатұлы\\nмедетбек бағнұр нұржанұлы\\nқұдайберген жандос жаңабекұлы\\nқудайберген сәт берікұлы\\nәліхан айдын шынғысханұлы\\nабдуллаев нұрсәт аннамурадұлы\\nсайлау фариза\\nтөлеуханов сымбат садыбекұлы\\nкөптлеуов айбек әділұлы\\nтолқынбек басбай\\nқалназар саят нургалиұлы\\nбертысбаев санжар айдынович\\nабишева даяна амангельдыевна\\nхохнайқызы алтынгүл\\nұзақбай ақбота дауренқызы\\nадал сандуғаш\\nізтұрған сәуле болатқызы\\nтұрсынбай ернар серікжанұлы\\nнурмуханбетов алихан есенгельдиевич\\nдойрашев тимур серікұлы\\nтасбулат диана бекенқызы\\nскежанов арман айыпұлы\\nоразгалиев дидар серикович\\nұлықпанова аружан қайратқызы\\nафанасьева дина темирканатовна\\nмадияров кайрат есенжолұлы\\nтөкенов әлихан есенқалиұлы\\nорал диас еркебуланұлы\\nтолеубай жаслан мауленулы\\nмұрат бекежан талғатұлы\\nасачьев артём борисович\\nтәжібай айжан қайратқызы\\nишамбулова айжан азимхановна\\nхожахмед олжас қалдыбекұлы\\nабдиказах айбек жандосович\\nшайдекен мағжан өмірбекұлы\\nольхин евгений александрович\\nалекулов жангерхан серикович\\nмусин мирас хангельдыұлы\\nілияс батырхан жалғасұлы\\nтаужанов темирлан муратович\\nтрухачев олег александрович\\nёлкина анна юрьевна\\nжұбан бексұлтан нұрахметұлы\\nананьин юрий евгеньевич\\nсакенова урзана саитовна\\nмударисов рамиль ринатович\\nзотов владимир витальевич\\nкаденов амиралиосман аскарулы\\nдюсенов асет арманович\\nөмірбекова ділнұр яхулқызы\\nдолгушин никон львович\\nғабдолова бақтылы қазымқызы\\nотаров әлішер\\nқұрманбай амангелді асқарұлы\\nзайнулдинов аңсар фархатұлы\\nәлібай нурдаулет нурланұлы\\nтокобай диас юсувакунұлы\\nбайдуанов алмас ғаниұлы\\nбуряк роман сергеевич\\nтуланбаев абылай аликусанұлы\\nмеирбекова акжан меирбеккызы\\nберік төлеби берікұлы\\nсфрайдопуло владислав ильич\\nкаримов ануар санжарұлы\\nмансуров рамиль рашидович\\nжумагельдиев мерген айтуевич\\nразаков әлішер ибрагимұлы\\nахмет баян жасұланұлы\\nмамбетов ақжол қайратұлы\\nнұрлыбекұлы мейіржан\\nкарнаух артур дмитриевич\\nкәкім еркебұлан жәнібекұлы\\nтукешова алуа нурболовна\\nкенесбаев султан куанышевич\\nасланбекова әсем\\nбауыржанұлы сұлтан\\nқұдайберген дастан рүстемұлы\\nесентаев тимур жанболатұлы\\nгулиев рифат рустамович\\nзавершинский илья александрович\\nшоменов аян сундетбайулы\\nберикбол аймырза\\nдүйсенбеков ілияс кенжебекұлы\\nоразқан ердос жандосұлы\\nжұмағалиұлы еркенже\\nмахсум ердос ерланұлы\\nисмагулов турар талгатович\\nсексенбаева айзат бахытовна\\nтоқтарбеков елдос баделқанұлы\\nжандарбекова камила абылайқызы\\nелшат самғар\\nқұрманалы ғалым еркембайұлы\\nлукин денис олегович\\nарипов заир улугбекович\\nкуйшибекова зарема асановна\\nсафарғали гүлнұр бақытжанқызы\\nсверчков роман александрович\\nтаубаев алишер болатұлы\\nермолаев сергей владимирович\\nанарбаева балнур қанатқызы\\nсәпи аяжан полатқызы\\nидрисова айерке жанатовна\\nкарлинова рабина шамильевна\\nмамитбеков нурбек куралбекуғли\\nегеубеков мади ерланұлы\\nжақсыбай ақиіс талғатқызы\\nоралғазы асылзат оралғазықызы\\nәлімбай арлан мұратұлы\\nтоқтағанов санжар рустамұлы\\nәбіл айбар жанболатұлы\\nбейсен арлен серікұлы\\nқұрманбекова алтынай құрманбекқызы\\nкаримова айгерим аманжолқызы\\nнурмаханова айгерим аскаровна\\nәділбекова дана әділбекқызы\\nүкібай заңғар аманғалиұлы\\nермагамбетов данияр агыбайулы\\nтұрғанбай алдияр бейбітұлы\\nтаубаев данияр дулатович\\nискаков мади ардакович\\nшипунов николай владимирович\\nамирханов мухтар ерболулы\\nмұрзанова гулдархан серікқызы\\nбектұрсын мөлдір ғалымқызы\\nконакпаева сабина арыстановна\\nманайхан берікбол\\nболысбек ерасыл алмасұлы\\nбакбергенова мадина жасараловна\\nнұрсұлтанұлы дәулет\\nәділхан бекзат маратұлы\\nгабдоллаев бекзат талғатұлы\\nомарбакиев султанмурат нариманович\\nқабдешев әділ ержанұлы\\nнұрмыш айғаным бақитжанқызы\\nнұрлан жайна нұрланқызы\\nтөкен жарқынай дюсетқызы\\nюлдашев азиз масутович\\nақылбай құрмет қанатұлы\\nмухамедиев тимур маратович'"
            ]
          },
          "metadata": {
            "tags": []
          },
          "execution_count": 128
        }
      ]
    },
    {
      "cell_type": "code",
      "metadata": {
        "id": "KVdu-_rtA4hY"
      },
      "source": [
        "tokenizer = Tokenizer()\n",
        "tokenizer.fit_on_texts([data])\n",
        "encoded = tokenizer.texts_to_sequences([data])[0]"
      ],
      "execution_count": 129,
      "outputs": []
    },
    {
      "cell_type": "code",
      "metadata": {
        "colab": {
          "base_uri": "https://localhost:8080/"
        },
        "id": "NzFARxNRECnI",
        "outputId": "c3108bbb-b390-4494-9065-2fed2e8f92df"
      },
      "source": [
        "vocab_size = len(tokenizer.word_index) + 1\n",
        "print('Vocabulary Size: %d' % vocab_size)"
      ],
      "execution_count": 130,
      "outputs": [
        {
          "output_type": "stream",
          "text": [
            "Vocabulary Size: 6847\n"
          ],
          "name": "stdout"
        }
      ]
    },
    {
      "cell_type": "code",
      "metadata": {
        "colab": {
          "base_uri": "https://localhost:8080/"
        },
        "id": "jadDKvH0EsSr",
        "outputId": "1425f653-8812-441a-80e4-7300d971ef37"
      },
      "source": [
        "# create word -> word sequences\n",
        "sequences = list()\n",
        "for i in range(1, len(encoded)):\n",
        "\tsequence = encoded[i-1:i+1]\n",
        "\tsequences.append(sequence)\n",
        "print('Total Sequences: %d' % len(sequences))"
      ],
      "execution_count": 131,
      "outputs": [
        {
          "output_type": "stream",
          "text": [
            "Total Sequences: 12266\n"
          ],
          "name": "stdout"
        }
      ]
    },
    {
      "cell_type": "code",
      "metadata": {
        "id": "CEIgDw4NExxi"
      },
      "source": [
        "# split into X and y elements\n",
        "sequences = np.array(sequences)\n",
        "X, y = sequences[:,0],sequences[:,1]"
      ],
      "execution_count": 133,
      "outputs": []
    },
    {
      "cell_type": "code",
      "metadata": {
        "id": "P5viwwkeFDDN"
      },
      "source": [
        "# one hot encode outputs\n",
        "y = to_categorical(y, num_classes=vocab_size)"
      ],
      "execution_count": 137,
      "outputs": []
    },
    {
      "cell_type": "code",
      "metadata": {
        "colab": {
          "base_uri": "https://localhost:8080/"
        },
        "id": "vVlh8ZsNFFGX",
        "outputId": "5d87ef5e-0ff8-4f1b-8746-0fa8d629866b"
      },
      "source": [
        "# define model\n",
        "model = Sequential()\n",
        "model.add(Embedding(vocab_size, 10, input_length=1))\n",
        "model.add(LSTM(50))\n",
        "model.add(Dense(vocab_size, activation='softmax'))\n",
        "print(model.summary())"
      ],
      "execution_count": 138,
      "outputs": [
        {
          "output_type": "stream",
          "text": [
            "Model: \"sequential_6\"\n",
            "_________________________________________________________________\n",
            "Layer (type)                 Output Shape              Param #   \n",
            "=================================================================\n",
            "embedding (Embedding)        (None, 1, 10)             68470     \n",
            "_________________________________________________________________\n",
            "lstm_6 (LSTM)                (None, 50)                12200     \n",
            "_________________________________________________________________\n",
            "dense_6 (Dense)              (None, 6847)              349197    \n",
            "=================================================================\n",
            "Total params: 429,867\n",
            "Trainable params: 429,867\n",
            "Non-trainable params: 0\n",
            "_________________________________________________________________\n",
            "None\n"
          ],
          "name": "stdout"
        }
      ]
    },
    {
      "cell_type": "code",
      "metadata": {
        "colab": {
          "base_uri": "https://localhost:8080/"
        },
        "id": "CFOD06d1FcRS",
        "outputId": "632059d5-98bb-47ae-e007-b10b72f8a19d"
      },
      "source": [
        "# compile network\n",
        "model.compile(loss='categorical_crossentropy', optimizer='adam', metrics=['accuracy'])\n",
        "# fit network\n",
        "model.fit(X, y, epochs=500, verbose=2)"
      ],
      "execution_count": 139,
      "outputs": [
        {
          "output_type": "stream",
          "text": [
            "Epoch 1/500\n",
            "384/384 - 5s - loss: 8.8224 - accuracy: 0.0054\n",
            "Epoch 2/500\n",
            "384/384 - 3s - loss: 8.4493 - accuracy: 0.0051\n",
            "Epoch 3/500\n",
            "384/384 - 3s - loss: 8.1367 - accuracy: 0.0060\n",
            "Epoch 4/500\n",
            "384/384 - 3s - loss: 7.9911 - accuracy: 0.0061\n",
            "Epoch 5/500\n",
            "384/384 - 3s - loss: 7.9153 - accuracy: 0.0059\n",
            "Epoch 6/500\n",
            "384/384 - 3s - loss: 7.8593 - accuracy: 0.0057\n",
            "Epoch 7/500\n",
            "384/384 - 3s - loss: 7.8087 - accuracy: 0.0062\n",
            "Epoch 8/500\n",
            "384/384 - 3s - loss: 7.7583 - accuracy: 0.0062\n",
            "Epoch 9/500\n",
            "384/384 - 3s - loss: 7.6997 - accuracy: 0.0064\n",
            "Epoch 10/500\n",
            "384/384 - 3s - loss: 7.6135 - accuracy: 0.0075\n",
            "Epoch 11/500\n",
            "384/384 - 3s - loss: 7.4705 - accuracy: 0.0100\n",
            "Epoch 12/500\n",
            "384/384 - 3s - loss: 7.2478 - accuracy: 0.0131\n",
            "Epoch 13/500\n",
            "384/384 - 3s - loss: 6.9477 - accuracy: 0.0172\n",
            "Epoch 14/500\n",
            "384/384 - 3s - loss: 6.6145 - accuracy: 0.0298\n",
            "Epoch 15/500\n",
            "384/384 - 3s - loss: 6.2889 - accuracy: 0.0444\n",
            "Epoch 16/500\n",
            "384/384 - 3s - loss: 5.9737 - accuracy: 0.0628\n",
            "Epoch 17/500\n",
            "384/384 - 3s - loss: 5.6672 - accuracy: 0.0951\n",
            "Epoch 18/500\n",
            "384/384 - 3s - loss: 5.3708 - accuracy: 0.1329\n",
            "Epoch 19/500\n",
            "384/384 - 3s - loss: 5.0844 - accuracy: 0.1719\n",
            "Epoch 20/500\n",
            "384/384 - 3s - loss: 4.8104 - accuracy: 0.2085\n",
            "Epoch 21/500\n",
            "384/384 - 3s - loss: 4.5517 - accuracy: 0.2465\n",
            "Epoch 22/500\n",
            "384/384 - 3s - loss: 4.3069 - accuracy: 0.2832\n",
            "Epoch 23/500\n",
            "384/384 - 3s - loss: 4.0771 - accuracy: 0.3223\n",
            "Epoch 24/500\n",
            "384/384 - 3s - loss: 3.8640 - accuracy: 0.3564\n",
            "Epoch 25/500\n",
            "384/384 - 3s - loss: 3.6671 - accuracy: 0.3917\n",
            "Epoch 26/500\n",
            "384/384 - 3s - loss: 3.4860 - accuracy: 0.4165\n",
            "Epoch 27/500\n",
            "384/384 - 3s - loss: 3.3187 - accuracy: 0.4363\n",
            "Epoch 28/500\n",
            "384/384 - 3s - loss: 3.1664 - accuracy: 0.4502\n",
            "Epoch 29/500\n",
            "384/384 - 3s - loss: 3.0272 - accuracy: 0.4670\n",
            "Epoch 30/500\n",
            "384/384 - 3s - loss: 2.8991 - accuracy: 0.4737\n",
            "Epoch 31/500\n",
            "384/384 - 3s - loss: 2.7817 - accuracy: 0.4808\n",
            "Epoch 32/500\n",
            "384/384 - 3s - loss: 2.6749 - accuracy: 0.4911\n",
            "Epoch 33/500\n",
            "384/384 - 3s - loss: 2.5769 - accuracy: 0.4927\n",
            "Epoch 34/500\n",
            "384/384 - 3s - loss: 2.4857 - accuracy: 0.4953\n",
            "Epoch 35/500\n",
            "384/384 - 3s - loss: 2.4030 - accuracy: 0.4962\n",
            "Epoch 36/500\n",
            "384/384 - 3s - loss: 2.3267 - accuracy: 0.4975\n",
            "Epoch 37/500\n",
            "384/384 - 3s - loss: 2.2574 - accuracy: 0.4974\n",
            "Epoch 38/500\n",
            "384/384 - 3s - loss: 2.1935 - accuracy: 0.4988\n",
            "Epoch 39/500\n",
            "384/384 - 3s - loss: 2.1344 - accuracy: 0.4998\n",
            "Epoch 40/500\n",
            "384/384 - 3s - loss: 2.0805 - accuracy: 0.4990\n",
            "Epoch 41/500\n",
            "384/384 - 3s - loss: 2.0309 - accuracy: 0.5011\n",
            "Epoch 42/500\n",
            "384/384 - 3s - loss: 1.9853 - accuracy: 0.4992\n",
            "Epoch 43/500\n",
            "384/384 - 3s - loss: 1.9421 - accuracy: 0.5002\n",
            "Epoch 44/500\n",
            "384/384 - 3s - loss: 1.9042 - accuracy: 0.4984\n",
            "Epoch 45/500\n",
            "384/384 - 3s - loss: 1.8680 - accuracy: 0.4996\n",
            "Epoch 46/500\n",
            "384/384 - 3s - loss: 1.8337 - accuracy: 0.4962\n",
            "Epoch 47/500\n",
            "384/384 - 3s - loss: 1.8027 - accuracy: 0.4948\n",
            "Epoch 48/500\n",
            "384/384 - 3s - loss: 1.7746 - accuracy: 0.4967\n",
            "Epoch 49/500\n",
            "384/384 - 3s - loss: 1.7477 - accuracy: 0.4962\n",
            "Epoch 50/500\n",
            "384/384 - 3s - loss: 1.7225 - accuracy: 0.4960\n",
            "Epoch 51/500\n",
            "384/384 - 3s - loss: 1.6991 - accuracy: 0.4990\n",
            "Epoch 52/500\n",
            "384/384 - 3s - loss: 1.6770 - accuracy: 0.4951\n",
            "Epoch 53/500\n",
            "384/384 - 3s - loss: 1.6570 - accuracy: 0.4925\n",
            "Epoch 54/500\n",
            "384/384 - 3s - loss: 1.6374 - accuracy: 0.4936\n",
            "Epoch 55/500\n",
            "384/384 - 3s - loss: 1.6191 - accuracy: 0.4939\n",
            "Epoch 56/500\n",
            "384/384 - 3s - loss: 1.6032 - accuracy: 0.4927\n",
            "Epoch 57/500\n",
            "384/384 - 3s - loss: 1.5870 - accuracy: 0.4950\n",
            "Epoch 58/500\n",
            "384/384 - 3s - loss: 1.5716 - accuracy: 0.4916\n",
            "Epoch 59/500\n",
            "384/384 - 3s - loss: 1.5582 - accuracy: 0.4951\n",
            "Epoch 60/500\n",
            "384/384 - 3s - loss: 1.5440 - accuracy: 0.4924\n",
            "Epoch 61/500\n",
            "384/384 - 3s - loss: 1.5318 - accuracy: 0.4896\n",
            "Epoch 62/500\n",
            "384/384 - 3s - loss: 1.5200 - accuracy: 0.4932\n",
            "Epoch 63/500\n",
            "384/384 - 3s - loss: 1.5079 - accuracy: 0.4913\n",
            "Epoch 64/500\n",
            "384/384 - 3s - loss: 1.4973 - accuracy: 0.4892\n",
            "Epoch 65/500\n",
            "384/384 - 3s - loss: 1.4871 - accuracy: 0.4917\n",
            "Epoch 66/500\n",
            "384/384 - 3s - loss: 1.4773 - accuracy: 0.4905\n",
            "Epoch 67/500\n",
            "384/384 - 3s - loss: 1.4682 - accuracy: 0.4905\n",
            "Epoch 68/500\n",
            "384/384 - 3s - loss: 1.4598 - accuracy: 0.4914\n",
            "Epoch 69/500\n",
            "384/384 - 3s - loss: 1.4511 - accuracy: 0.4908\n",
            "Epoch 70/500\n",
            "384/384 - 3s - loss: 1.4432 - accuracy: 0.4907\n",
            "Epoch 71/500\n",
            "384/384 - 3s - loss: 1.4352 - accuracy: 0.4945\n",
            "Epoch 72/500\n",
            "384/384 - 3s - loss: 1.4281 - accuracy: 0.4899\n",
            "Epoch 73/500\n",
            "384/384 - 3s - loss: 1.4209 - accuracy: 0.4897\n",
            "Epoch 74/500\n",
            "384/384 - 3s - loss: 1.4140 - accuracy: 0.4932\n",
            "Epoch 75/500\n",
            "384/384 - 3s - loss: 1.4083 - accuracy: 0.4921\n",
            "Epoch 76/500\n",
            "384/384 - 3s - loss: 1.4020 - accuracy: 0.4889\n",
            "Epoch 77/500\n",
            "384/384 - 3s - loss: 1.3957 - accuracy: 0.4905\n",
            "Epoch 78/500\n",
            "384/384 - 3s - loss: 1.3905 - accuracy: 0.4900\n",
            "Epoch 79/500\n",
            "384/384 - 3s - loss: 1.3853 - accuracy: 0.4887\n",
            "Epoch 80/500\n",
            "384/384 - 3s - loss: 1.3798 - accuracy: 0.4925\n",
            "Epoch 81/500\n",
            "384/384 - 3s - loss: 1.3743 - accuracy: 0.4910\n",
            "Epoch 82/500\n",
            "384/384 - 3s - loss: 1.3698 - accuracy: 0.4914\n",
            "Epoch 83/500\n",
            "384/384 - 3s - loss: 1.3647 - accuracy: 0.4882\n",
            "Epoch 84/500\n",
            "384/384 - 3s - loss: 1.3615 - accuracy: 0.4880\n",
            "Epoch 85/500\n",
            "384/384 - 3s - loss: 1.3570 - accuracy: 0.4898\n",
            "Epoch 86/500\n",
            "384/384 - 3s - loss: 1.3530 - accuracy: 0.4885\n",
            "Epoch 87/500\n",
            "384/384 - 3s - loss: 1.3485 - accuracy: 0.4886\n",
            "Epoch 88/500\n",
            "384/384 - 3s - loss: 1.3450 - accuracy: 0.4878\n",
            "Epoch 89/500\n",
            "384/384 - 3s - loss: 1.3412 - accuracy: 0.4877\n",
            "Epoch 90/500\n",
            "384/384 - 3s - loss: 1.3374 - accuracy: 0.4872\n",
            "Epoch 91/500\n",
            "384/384 - 3s - loss: 1.3340 - accuracy: 0.4887\n",
            "Epoch 92/500\n",
            "384/384 - 3s - loss: 1.3312 - accuracy: 0.4869\n",
            "Epoch 93/500\n",
            "384/384 - 3s - loss: 1.3282 - accuracy: 0.4876\n",
            "Epoch 94/500\n",
            "384/384 - 3s - loss: 1.3250 - accuracy: 0.4891\n",
            "Epoch 95/500\n",
            "384/384 - 3s - loss: 1.3224 - accuracy: 0.4896\n",
            "Epoch 96/500\n",
            "384/384 - 3s - loss: 1.3190 - accuracy: 0.4891\n",
            "Epoch 97/500\n",
            "384/384 - 3s - loss: 1.3166 - accuracy: 0.4893\n",
            "Epoch 98/500\n",
            "384/384 - 3s - loss: 1.3140 - accuracy: 0.4909\n",
            "Epoch 99/500\n",
            "384/384 - 3s - loss: 1.3110 - accuracy: 0.4893\n",
            "Epoch 100/500\n",
            "384/384 - 3s - loss: 1.3090 - accuracy: 0.4883\n",
            "Epoch 101/500\n",
            "384/384 - 3s - loss: 1.3068 - accuracy: 0.4880\n",
            "Epoch 102/500\n",
            "384/384 - 3s - loss: 1.3046 - accuracy: 0.4907\n",
            "Epoch 103/500\n",
            "384/384 - 3s - loss: 1.3023 - accuracy: 0.4886\n",
            "Epoch 104/500\n",
            "384/384 - 3s - loss: 1.2998 - accuracy: 0.4897\n",
            "Epoch 105/500\n",
            "384/384 - 3s - loss: 1.2979 - accuracy: 0.4892\n",
            "Epoch 106/500\n",
            "384/384 - 3s - loss: 1.2959 - accuracy: 0.4872\n",
            "Epoch 107/500\n",
            "384/384 - 3s - loss: 1.2938 - accuracy: 0.4896\n",
            "Epoch 108/500\n",
            "384/384 - 3s - loss: 1.2915 - accuracy: 0.4920\n",
            "Epoch 109/500\n",
            "384/384 - 3s - loss: 1.2902 - accuracy: 0.4886\n",
            "Epoch 110/500\n",
            "384/384 - 3s - loss: 1.2885 - accuracy: 0.4887\n",
            "Epoch 111/500\n",
            "384/384 - 3s - loss: 1.2871 - accuracy: 0.4879\n",
            "Epoch 112/500\n",
            "384/384 - 3s - loss: 1.2854 - accuracy: 0.4894\n",
            "Epoch 113/500\n",
            "384/384 - 3s - loss: 1.2834 - accuracy: 0.4867\n",
            "Epoch 114/500\n",
            "384/384 - 3s - loss: 1.2823 - accuracy: 0.4910\n",
            "Epoch 115/500\n",
            "384/384 - 3s - loss: 1.2798 - accuracy: 0.4908\n",
            "Epoch 116/500\n",
            "384/384 - 3s - loss: 1.2795 - accuracy: 0.4882\n",
            "Epoch 117/500\n",
            "384/384 - 3s - loss: 1.2776 - accuracy: 0.4913\n",
            "Epoch 118/500\n",
            "384/384 - 3s - loss: 1.2763 - accuracy: 0.4889\n",
            "Epoch 119/500\n",
            "384/384 - 3s - loss: 1.2750 - accuracy: 0.4882\n",
            "Epoch 120/500\n",
            "384/384 - 3s - loss: 1.2734 - accuracy: 0.4868\n",
            "Epoch 121/500\n",
            "384/384 - 3s - loss: 1.2723 - accuracy: 0.4875\n",
            "Epoch 122/500\n",
            "384/384 - 3s - loss: 1.2717 - accuracy: 0.4873\n",
            "Epoch 123/500\n",
            "384/384 - 3s - loss: 1.2704 - accuracy: 0.4892\n",
            "Epoch 124/500\n",
            "384/384 - 3s - loss: 1.2690 - accuracy: 0.4899\n",
            "Epoch 125/500\n",
            "384/384 - 3s - loss: 1.2680 - accuracy: 0.4862\n",
            "Epoch 126/500\n",
            "384/384 - 3s - loss: 1.2670 - accuracy: 0.4887\n",
            "Epoch 127/500\n",
            "384/384 - 3s - loss: 1.2656 - accuracy: 0.4885\n",
            "Epoch 128/500\n",
            "384/384 - 3s - loss: 1.2650 - accuracy: 0.4895\n",
            "Epoch 129/500\n",
            "384/384 - 3s - loss: 1.2638 - accuracy: 0.4879\n",
            "Epoch 130/500\n",
            "384/384 - 3s - loss: 1.2630 - accuracy: 0.4876\n",
            "Epoch 131/500\n",
            "384/384 - 3s - loss: 1.2617 - accuracy: 0.4893\n",
            "Epoch 132/500\n",
            "384/384 - 3s - loss: 1.2610 - accuracy: 0.4869\n",
            "Epoch 133/500\n",
            "384/384 - 3s - loss: 1.2599 - accuracy: 0.4908\n",
            "Epoch 134/500\n",
            "384/384 - 3s - loss: 1.2590 - accuracy: 0.4873\n",
            "Epoch 135/500\n",
            "384/384 - 3s - loss: 1.2582 - accuracy: 0.4893\n",
            "Epoch 136/500\n",
            "384/384 - 3s - loss: 1.2573 - accuracy: 0.4888\n",
            "Epoch 137/500\n",
            "384/384 - 3s - loss: 1.2564 - accuracy: 0.4875\n",
            "Epoch 138/500\n",
            "384/384 - 3s - loss: 1.2554 - accuracy: 0.4861\n",
            "Epoch 139/500\n",
            "384/384 - 3s - loss: 1.2553 - accuracy: 0.4882\n",
            "Epoch 140/500\n",
            "384/384 - 3s - loss: 1.2540 - accuracy: 0.4880\n",
            "Epoch 141/500\n",
            "384/384 - 3s - loss: 1.2531 - accuracy: 0.4892\n",
            "Epoch 142/500\n",
            "384/384 - 3s - loss: 1.2529 - accuracy: 0.4883\n",
            "Epoch 143/500\n",
            "384/384 - 3s - loss: 1.2518 - accuracy: 0.4883\n",
            "Epoch 144/500\n",
            "384/384 - 3s - loss: 1.2512 - accuracy: 0.4916\n",
            "Epoch 145/500\n",
            "384/384 - 3s - loss: 1.2508 - accuracy: 0.4885\n",
            "Epoch 146/500\n",
            "384/384 - 3s - loss: 1.2499 - accuracy: 0.4846\n",
            "Epoch 147/500\n",
            "384/384 - 3s - loss: 1.2496 - accuracy: 0.4880\n",
            "Epoch 148/500\n",
            "384/384 - 3s - loss: 1.2488 - accuracy: 0.4905\n",
            "Epoch 149/500\n",
            "384/384 - 3s - loss: 1.2476 - accuracy: 0.4881\n",
            "Epoch 150/500\n",
            "384/384 - 3s - loss: 1.2473 - accuracy: 0.4908\n",
            "Epoch 151/500\n",
            "384/384 - 3s - loss: 1.2465 - accuracy: 0.4876\n",
            "Epoch 152/500\n",
            "384/384 - 3s - loss: 1.2461 - accuracy: 0.4865\n",
            "Epoch 153/500\n",
            "384/384 - 3s - loss: 1.2452 - accuracy: 0.4896\n",
            "Epoch 154/500\n",
            "384/384 - 3s - loss: 1.2448 - accuracy: 0.4887\n",
            "Epoch 155/500\n",
            "384/384 - 3s - loss: 1.2446 - accuracy: 0.4910\n",
            "Epoch 156/500\n",
            "384/384 - 3s - loss: 1.2442 - accuracy: 0.4894\n",
            "Epoch 157/500\n",
            "384/384 - 3s - loss: 1.2433 - accuracy: 0.4914\n",
            "Epoch 158/500\n",
            "384/384 - 3s - loss: 1.2429 - accuracy: 0.4870\n",
            "Epoch 159/500\n",
            "384/384 - 3s - loss: 1.2424 - accuracy: 0.4885\n",
            "Epoch 160/500\n",
            "384/384 - 3s - loss: 1.2421 - accuracy: 0.4864\n",
            "Epoch 161/500\n",
            "384/384 - 3s - loss: 1.2415 - accuracy: 0.4865\n",
            "Epoch 162/500\n",
            "384/384 - 3s - loss: 1.2411 - accuracy: 0.4885\n",
            "Epoch 163/500\n",
            "384/384 - 3s - loss: 1.2405 - accuracy: 0.4879\n",
            "Epoch 164/500\n",
            "384/384 - 3s - loss: 1.2396 - accuracy: 0.4869\n",
            "Epoch 165/500\n",
            "384/384 - 3s - loss: 1.2397 - accuracy: 0.4889\n",
            "Epoch 166/500\n",
            "384/384 - 3s - loss: 1.2389 - accuracy: 0.4896\n",
            "Epoch 167/500\n",
            "384/384 - 3s - loss: 1.2387 - accuracy: 0.4889\n",
            "Epoch 168/500\n",
            "384/384 - 3s - loss: 1.2382 - accuracy: 0.4887\n",
            "Epoch 169/500\n",
            "384/384 - 3s - loss: 1.2371 - accuracy: 0.4892\n",
            "Epoch 170/500\n",
            "384/384 - 3s - loss: 1.2372 - accuracy: 0.4856\n",
            "Epoch 171/500\n",
            "384/384 - 3s - loss: 1.2366 - accuracy: 0.4892\n",
            "Epoch 172/500\n",
            "384/384 - 3s - loss: 1.2363 - accuracy: 0.4891\n",
            "Epoch 173/500\n",
            "384/384 - 3s - loss: 1.2360 - accuracy: 0.4875\n",
            "Epoch 174/500\n",
            "384/384 - 3s - loss: 1.2355 - accuracy: 0.4901\n",
            "Epoch 175/500\n",
            "384/384 - 3s - loss: 1.2352 - accuracy: 0.4879\n",
            "Epoch 176/500\n",
            "384/384 - 3s - loss: 1.2347 - accuracy: 0.4896\n",
            "Epoch 177/500\n",
            "384/384 - 3s - loss: 1.2347 - accuracy: 0.4870\n",
            "Epoch 178/500\n",
            "384/384 - 3s - loss: 1.2341 - accuracy: 0.4880\n",
            "Epoch 179/500\n",
            "384/384 - 3s - loss: 1.2334 - accuracy: 0.4874\n",
            "Epoch 180/500\n",
            "384/384 - 3s - loss: 1.2328 - accuracy: 0.4890\n",
            "Epoch 181/500\n",
            "384/384 - 3s - loss: 1.2331 - accuracy: 0.4901\n",
            "Epoch 182/500\n",
            "384/384 - 3s - loss: 1.2323 - accuracy: 0.4894\n",
            "Epoch 183/500\n",
            "384/384 - 3s - loss: 1.2322 - accuracy: 0.4900\n",
            "Epoch 184/500\n",
            "384/384 - 3s - loss: 1.2318 - accuracy: 0.4888\n",
            "Epoch 185/500\n",
            "384/384 - 3s - loss: 1.2317 - accuracy: 0.4879\n",
            "Epoch 186/500\n",
            "384/384 - 3s - loss: 1.2315 - accuracy: 0.4875\n",
            "Epoch 187/500\n",
            "384/384 - 3s - loss: 1.2309 - accuracy: 0.4901\n",
            "Epoch 188/500\n",
            "384/384 - 3s - loss: 1.2305 - accuracy: 0.4864\n",
            "Epoch 189/500\n",
            "384/384 - 3s - loss: 1.2298 - accuracy: 0.4894\n",
            "Epoch 190/500\n",
            "384/384 - 3s - loss: 1.2297 - accuracy: 0.4902\n",
            "Epoch 191/500\n",
            "384/384 - 3s - loss: 1.2294 - accuracy: 0.4901\n",
            "Epoch 192/500\n",
            "384/384 - 3s - loss: 1.2293 - accuracy: 0.4887\n",
            "Epoch 193/500\n",
            "384/384 - 3s - loss: 1.2291 - accuracy: 0.4858\n",
            "Epoch 194/500\n",
            "384/384 - 3s - loss: 1.2291 - accuracy: 0.4874\n",
            "Epoch 195/500\n",
            "384/384 - 3s - loss: 1.2279 - accuracy: 0.4874\n",
            "Epoch 196/500\n",
            "384/384 - 3s - loss: 1.2279 - accuracy: 0.4859\n",
            "Epoch 197/500\n",
            "384/384 - 3s - loss: 1.2281 - accuracy: 0.4892\n",
            "Epoch 198/500\n",
            "384/384 - 3s - loss: 1.2279 - accuracy: 0.4867\n",
            "Epoch 199/500\n",
            "384/384 - 3s - loss: 1.2274 - accuracy: 0.4860\n",
            "Epoch 200/500\n",
            "384/384 - 3s - loss: 1.2268 - accuracy: 0.4900\n",
            "Epoch 201/500\n",
            "384/384 - 3s - loss: 1.2267 - accuracy: 0.4907\n",
            "Epoch 202/500\n",
            "384/384 - 3s - loss: 1.2266 - accuracy: 0.4900\n",
            "Epoch 203/500\n",
            "384/384 - 3s - loss: 1.2266 - accuracy: 0.4873\n",
            "Epoch 204/500\n",
            "384/384 - 3s - loss: 1.2257 - accuracy: 0.4891\n",
            "Epoch 205/500\n",
            "384/384 - 3s - loss: 1.2259 - accuracy: 0.4865\n",
            "Epoch 206/500\n",
            "384/384 - 3s - loss: 1.2258 - accuracy: 0.4879\n",
            "Epoch 207/500\n",
            "384/384 - 3s - loss: 1.2255 - accuracy: 0.4879\n",
            "Epoch 208/500\n",
            "384/384 - 3s - loss: 1.2252 - accuracy: 0.4905\n",
            "Epoch 209/500\n",
            "384/384 - 3s - loss: 1.2249 - accuracy: 0.4892\n",
            "Epoch 210/500\n",
            "384/384 - 3s - loss: 1.2246 - accuracy: 0.4899\n",
            "Epoch 211/500\n",
            "384/384 - 3s - loss: 1.2244 - accuracy: 0.4890\n",
            "Epoch 212/500\n",
            "384/384 - 3s - loss: 1.2241 - accuracy: 0.4880\n",
            "Epoch 213/500\n",
            "384/384 - 3s - loss: 1.2245 - accuracy: 0.4874\n",
            "Epoch 214/500\n",
            "384/384 - 3s - loss: 1.2236 - accuracy: 0.4864\n",
            "Epoch 215/500\n",
            "384/384 - 3s - loss: 1.2237 - accuracy: 0.4889\n",
            "Epoch 216/500\n",
            "384/384 - 3s - loss: 1.2232 - accuracy: 0.4886\n",
            "Epoch 217/500\n",
            "384/384 - 3s - loss: 1.2232 - accuracy: 0.4887\n",
            "Epoch 218/500\n",
            "384/384 - 3s - loss: 1.2230 - accuracy: 0.4867\n",
            "Epoch 219/500\n",
            "384/384 - 3s - loss: 1.2229 - accuracy: 0.4874\n",
            "Epoch 220/500\n",
            "384/384 - 3s - loss: 1.2230 - accuracy: 0.4887\n",
            "Epoch 221/500\n",
            "384/384 - 3s - loss: 1.2222 - accuracy: 0.4874\n",
            "Epoch 222/500\n",
            "384/384 - 3s - loss: 1.2220 - accuracy: 0.4875\n",
            "Epoch 223/500\n",
            "384/384 - 3s - loss: 1.2221 - accuracy: 0.4887\n",
            "Epoch 224/500\n",
            "384/384 - 3s - loss: 1.2217 - accuracy: 0.4910\n",
            "Epoch 225/500\n",
            "384/384 - 3s - loss: 1.2220 - accuracy: 0.4875\n",
            "Epoch 226/500\n",
            "384/384 - 3s - loss: 1.2214 - accuracy: 0.4879\n",
            "Epoch 227/500\n",
            "384/384 - 3s - loss: 1.2211 - accuracy: 0.4904\n",
            "Epoch 228/500\n",
            "384/384 - 3s - loss: 1.2214 - accuracy: 0.4914\n",
            "Epoch 229/500\n",
            "384/384 - 3s - loss: 1.2212 - accuracy: 0.4887\n",
            "Epoch 230/500\n",
            "384/384 - 3s - loss: 1.2208 - accuracy: 0.4896\n",
            "Epoch 231/500\n",
            "384/384 - 3s - loss: 1.2204 - accuracy: 0.4857\n",
            "Epoch 232/500\n",
            "384/384 - 3s - loss: 1.2200 - accuracy: 0.4885\n",
            "Epoch 233/500\n",
            "384/384 - 3s - loss: 1.2205 - accuracy: 0.4870\n",
            "Epoch 234/500\n",
            "384/384 - 3s - loss: 1.2196 - accuracy: 0.4923\n",
            "Epoch 235/500\n",
            "384/384 - 3s - loss: 1.2199 - accuracy: 0.4900\n",
            "Epoch 236/500\n",
            "384/384 - 3s - loss: 1.2198 - accuracy: 0.4882\n",
            "Epoch 237/500\n",
            "384/384 - 3s - loss: 1.2192 - accuracy: 0.4894\n",
            "Epoch 238/500\n",
            "384/384 - 3s - loss: 1.2197 - accuracy: 0.4858\n",
            "Epoch 239/500\n",
            "384/384 - 3s - loss: 1.2194 - accuracy: 0.4884\n",
            "Epoch 240/500\n",
            "384/384 - 3s - loss: 1.2190 - accuracy: 0.4883\n",
            "Epoch 241/500\n",
            "384/384 - 3s - loss: 1.2191 - accuracy: 0.4845\n",
            "Epoch 242/500\n",
            "384/384 - 3s - loss: 1.2192 - accuracy: 0.4871\n",
            "Epoch 243/500\n",
            "384/384 - 3s - loss: 1.2188 - accuracy: 0.4892\n",
            "Epoch 244/500\n",
            "384/384 - 3s - loss: 1.2181 - accuracy: 0.4879\n",
            "Epoch 245/500\n",
            "384/384 - 3s - loss: 1.2180 - accuracy: 0.4885\n",
            "Epoch 246/500\n",
            "384/384 - 3s - loss: 1.2177 - accuracy: 0.4891\n",
            "Epoch 247/500\n",
            "384/384 - 3s - loss: 1.2180 - accuracy: 0.4890\n",
            "Epoch 248/500\n",
            "384/384 - 3s - loss: 1.2178 - accuracy: 0.4875\n",
            "Epoch 249/500\n",
            "384/384 - 3s - loss: 1.2175 - accuracy: 0.4882\n",
            "Epoch 250/500\n",
            "384/384 - 3s - loss: 1.2177 - accuracy: 0.4895\n",
            "Epoch 251/500\n",
            "384/384 - 3s - loss: 1.2173 - accuracy: 0.4909\n",
            "Epoch 252/500\n",
            "384/384 - 3s - loss: 1.2172 - accuracy: 0.4907\n",
            "Epoch 253/500\n",
            "384/384 - 3s - loss: 1.2167 - accuracy: 0.4896\n",
            "Epoch 254/500\n",
            "384/384 - 3s - loss: 1.2169 - accuracy: 0.4888\n",
            "Epoch 255/500\n",
            "384/384 - 3s - loss: 1.2169 - accuracy: 0.4905\n",
            "Epoch 256/500\n",
            "384/384 - 3s - loss: 1.2172 - accuracy: 0.4857\n",
            "Epoch 257/500\n",
            "384/384 - 3s - loss: 1.2168 - accuracy: 0.4878\n",
            "Epoch 258/500\n",
            "384/384 - 3s - loss: 1.2166 - accuracy: 0.4883\n",
            "Epoch 259/500\n",
            "384/384 - 3s - loss: 1.2163 - accuracy: 0.4903\n",
            "Epoch 260/500\n",
            "384/384 - 3s - loss: 1.2160 - accuracy: 0.4891\n",
            "Epoch 261/500\n",
            "384/384 - 3s - loss: 1.2162 - accuracy: 0.4874\n",
            "Epoch 262/500\n",
            "384/384 - 3s - loss: 1.2162 - accuracy: 0.4895\n",
            "Epoch 263/500\n",
            "384/384 - 3s - loss: 1.2157 - accuracy: 0.4880\n",
            "Epoch 264/500\n",
            "384/384 - 3s - loss: 1.2155 - accuracy: 0.4894\n",
            "Epoch 265/500\n",
            "384/384 - 3s - loss: 1.2158 - accuracy: 0.4893\n",
            "Epoch 266/500\n",
            "384/384 - 3s - loss: 1.2155 - accuracy: 0.4874\n",
            "Epoch 267/500\n",
            "384/384 - 3s - loss: 1.2154 - accuracy: 0.4900\n",
            "Epoch 268/500\n",
            "384/384 - 3s - loss: 1.2155 - accuracy: 0.4867\n",
            "Epoch 269/500\n",
            "384/384 - 3s - loss: 1.2150 - accuracy: 0.4899\n",
            "Epoch 270/500\n",
            "384/384 - 3s - loss: 1.2149 - accuracy: 0.4893\n",
            "Epoch 271/500\n",
            "384/384 - 3s - loss: 1.2150 - accuracy: 0.4882\n",
            "Epoch 272/500\n",
            "384/384 - 3s - loss: 1.2148 - accuracy: 0.4877\n",
            "Epoch 273/500\n",
            "384/384 - 3s - loss: 1.2144 - accuracy: 0.4895\n",
            "Epoch 274/500\n",
            "384/384 - 3s - loss: 1.2147 - accuracy: 0.4882\n",
            "Epoch 275/500\n",
            "384/384 - 3s - loss: 1.2147 - accuracy: 0.4892\n",
            "Epoch 276/500\n",
            "384/384 - 3s - loss: 1.2143 - accuracy: 0.4893\n",
            "Epoch 277/500\n",
            "384/384 - 3s - loss: 1.2144 - accuracy: 0.4889\n",
            "Epoch 278/500\n",
            "384/384 - 3s - loss: 1.2140 - accuracy: 0.4884\n",
            "Epoch 279/500\n",
            "384/384 - 3s - loss: 1.2143 - accuracy: 0.4890\n",
            "Epoch 280/500\n",
            "384/384 - 3s - loss: 1.2134 - accuracy: 0.4914\n",
            "Epoch 281/500\n",
            "384/384 - 3s - loss: 1.2137 - accuracy: 0.4906\n",
            "Epoch 282/500\n",
            "384/384 - 3s - loss: 1.2136 - accuracy: 0.4874\n",
            "Epoch 283/500\n",
            "384/384 - 3s - loss: 1.2137 - accuracy: 0.4872\n",
            "Epoch 284/500\n",
            "384/384 - 3s - loss: 1.2138 - accuracy: 0.4891\n",
            "Epoch 285/500\n",
            "384/384 - 3s - loss: 1.2133 - accuracy: 0.4918\n",
            "Epoch 286/500\n",
            "384/384 - 3s - loss: 1.2135 - accuracy: 0.4887\n",
            "Epoch 287/500\n",
            "384/384 - 3s - loss: 1.2131 - accuracy: 0.4879\n",
            "Epoch 288/500\n",
            "384/384 - 3s - loss: 1.2135 - accuracy: 0.4874\n",
            "Epoch 289/500\n",
            "384/384 - 3s - loss: 1.2128 - accuracy: 0.4883\n",
            "Epoch 290/500\n",
            "384/384 - 3s - loss: 1.2129 - accuracy: 0.4905\n",
            "Epoch 291/500\n",
            "384/384 - 3s - loss: 1.2129 - accuracy: 0.4896\n",
            "Epoch 292/500\n",
            "384/384 - 3s - loss: 1.2130 - accuracy: 0.4892\n",
            "Epoch 293/500\n",
            "384/384 - 3s - loss: 1.2124 - accuracy: 0.4902\n",
            "Epoch 294/500\n",
            "384/384 - 3s - loss: 1.2126 - accuracy: 0.4862\n",
            "Epoch 295/500\n",
            "384/384 - 3s - loss: 1.2126 - accuracy: 0.4903\n",
            "Epoch 296/500\n",
            "384/384 - 3s - loss: 1.2121 - accuracy: 0.4892\n",
            "Epoch 297/500\n",
            "384/384 - 3s - loss: 1.2121 - accuracy: 0.4891\n",
            "Epoch 298/500\n",
            "384/384 - 3s - loss: 1.2117 - accuracy: 0.4879\n",
            "Epoch 299/500\n",
            "384/384 - 3s - loss: 1.2124 - accuracy: 0.4904\n",
            "Epoch 300/500\n",
            "384/384 - 3s - loss: 1.2119 - accuracy: 0.4889\n",
            "Epoch 301/500\n",
            "384/384 - 3s - loss: 1.2120 - accuracy: 0.4880\n",
            "Epoch 302/500\n",
            "384/384 - 3s - loss: 1.2116 - accuracy: 0.4899\n",
            "Epoch 303/500\n",
            "384/384 - 3s - loss: 1.2117 - accuracy: 0.4874\n",
            "Epoch 304/500\n",
            "384/384 - 3s - loss: 1.2117 - accuracy: 0.4917\n",
            "Epoch 305/500\n",
            "384/384 - 3s - loss: 1.2116 - accuracy: 0.4887\n",
            "Epoch 306/500\n",
            "384/384 - 3s - loss: 1.2116 - accuracy: 0.4892\n",
            "Epoch 307/500\n",
            "384/384 - 3s - loss: 1.2117 - accuracy: 0.4896\n",
            "Epoch 308/500\n",
            "384/384 - 3s - loss: 1.2112 - accuracy: 0.4870\n",
            "Epoch 309/500\n",
            "384/384 - 3s - loss: 1.2109 - accuracy: 0.4884\n",
            "Epoch 310/500\n",
            "384/384 - 3s - loss: 1.2111 - accuracy: 0.4886\n",
            "Epoch 311/500\n",
            "384/384 - 3s - loss: 1.2109 - accuracy: 0.4905\n",
            "Epoch 312/500\n",
            "384/384 - 3s - loss: 1.2112 - accuracy: 0.4865\n",
            "Epoch 313/500\n",
            "384/384 - 3s - loss: 1.2112 - accuracy: 0.4869\n",
            "Epoch 314/500\n",
            "384/384 - 3s - loss: 1.2111 - accuracy: 0.4895\n",
            "Epoch 315/500\n",
            "384/384 - 3s - loss: 1.2113 - accuracy: 0.4899\n",
            "Epoch 316/500\n",
            "384/384 - 3s - loss: 1.2104 - accuracy: 0.4885\n",
            "Epoch 317/500\n",
            "384/384 - 3s - loss: 1.2110 - accuracy: 0.4905\n",
            "Epoch 318/500\n",
            "384/384 - 3s - loss: 1.2111 - accuracy: 0.4866\n",
            "Epoch 319/500\n",
            "384/384 - 3s - loss: 1.2109 - accuracy: 0.4923\n",
            "Epoch 320/500\n",
            "384/384 - 3s - loss: 1.2105 - accuracy: 0.4923\n",
            "Epoch 321/500\n",
            "384/384 - 3s - loss: 1.2102 - accuracy: 0.4897\n",
            "Epoch 322/500\n",
            "384/384 - 3s - loss: 1.2104 - accuracy: 0.4883\n",
            "Epoch 323/500\n",
            "384/384 - 3s - loss: 1.2099 - accuracy: 0.4884\n",
            "Epoch 324/500\n",
            "384/384 - 3s - loss: 1.2102 - accuracy: 0.4906\n",
            "Epoch 325/500\n",
            "384/384 - 3s - loss: 1.2104 - accuracy: 0.4883\n",
            "Epoch 326/500\n",
            "384/384 - 3s - loss: 1.2102 - accuracy: 0.4870\n",
            "Epoch 327/500\n",
            "384/384 - 3s - loss: 1.2102 - accuracy: 0.4872\n",
            "Epoch 328/500\n",
            "384/384 - 3s - loss: 1.2103 - accuracy: 0.4904\n",
            "Epoch 329/500\n",
            "384/384 - 3s - loss: 1.2099 - accuracy: 0.4912\n",
            "Epoch 330/500\n",
            "384/384 - 3s - loss: 1.2098 - accuracy: 0.4864\n",
            "Epoch 331/500\n",
            "384/384 - 3s - loss: 1.2095 - accuracy: 0.4861\n",
            "Epoch 332/500\n",
            "384/384 - 3s - loss: 1.2101 - accuracy: 0.4893\n",
            "Epoch 333/500\n",
            "384/384 - 3s - loss: 1.2093 - accuracy: 0.4910\n",
            "Epoch 334/500\n",
            "384/384 - 3s - loss: 1.2100 - accuracy: 0.4867\n",
            "Epoch 335/500\n",
            "384/384 - 3s - loss: 1.2096 - accuracy: 0.4898\n",
            "Epoch 336/500\n",
            "384/384 - 3s - loss: 1.2100 - accuracy: 0.4887\n",
            "Epoch 337/500\n",
            "384/384 - 3s - loss: 1.2093 - accuracy: 0.4901\n",
            "Epoch 338/500\n",
            "384/384 - 3s - loss: 1.2093 - accuracy: 0.4874\n",
            "Epoch 339/500\n",
            "384/384 - 3s - loss: 1.2095 - accuracy: 0.4883\n",
            "Epoch 340/500\n",
            "384/384 - 3s - loss: 1.2097 - accuracy: 0.4848\n",
            "Epoch 341/500\n",
            "384/384 - 3s - loss: 1.2090 - accuracy: 0.4887\n",
            "Epoch 342/500\n",
            "384/384 - 3s - loss: 1.2091 - accuracy: 0.4879\n",
            "Epoch 343/500\n",
            "384/384 - 3s - loss: 1.2095 - accuracy: 0.4872\n",
            "Epoch 344/500\n",
            "384/384 - 3s - loss: 1.2094 - accuracy: 0.4886\n",
            "Epoch 345/500\n",
            "384/384 - 3s - loss: 1.2088 - accuracy: 0.4886\n",
            "Epoch 346/500\n",
            "384/384 - 3s - loss: 1.2088 - accuracy: 0.4891\n",
            "Epoch 347/500\n",
            "384/384 - 3s - loss: 1.2085 - accuracy: 0.4904\n",
            "Epoch 348/500\n",
            "384/384 - 3s - loss: 1.2088 - accuracy: 0.4878\n",
            "Epoch 349/500\n",
            "384/384 - 3s - loss: 1.2091 - accuracy: 0.4914\n",
            "Epoch 350/500\n",
            "384/384 - 3s - loss: 1.2091 - accuracy: 0.4892\n",
            "Epoch 351/500\n",
            "384/384 - 3s - loss: 1.2085 - accuracy: 0.4903\n",
            "Epoch 352/500\n",
            "384/384 - 3s - loss: 1.2085 - accuracy: 0.4878\n",
            "Epoch 353/500\n",
            "384/384 - 3s - loss: 1.2086 - accuracy: 0.4887\n",
            "Epoch 354/500\n",
            "384/384 - 3s - loss: 1.2087 - accuracy: 0.4901\n",
            "Epoch 355/500\n",
            "384/384 - 3s - loss: 1.2085 - accuracy: 0.4921\n",
            "Epoch 356/500\n",
            "384/384 - 3s - loss: 1.2082 - accuracy: 0.4902\n",
            "Epoch 357/500\n",
            "384/384 - 3s - loss: 1.2085 - accuracy: 0.4912\n",
            "Epoch 358/500\n",
            "384/384 - 3s - loss: 1.2082 - accuracy: 0.4893\n",
            "Epoch 359/500\n",
            "384/384 - 3s - loss: 1.2082 - accuracy: 0.4905\n",
            "Epoch 360/500\n",
            "384/384 - 3s - loss: 1.2087 - accuracy: 0.4889\n",
            "Epoch 361/500\n",
            "384/384 - 3s - loss: 1.2083 - accuracy: 0.4875\n",
            "Epoch 362/500\n",
            "384/384 - 3s - loss: 1.2081 - accuracy: 0.4889\n",
            "Epoch 363/500\n",
            "384/384 - 3s - loss: 1.2079 - accuracy: 0.4913\n",
            "Epoch 364/500\n",
            "384/384 - 3s - loss: 1.2083 - accuracy: 0.4874\n",
            "Epoch 365/500\n",
            "384/384 - 3s - loss: 1.2083 - accuracy: 0.4877\n",
            "Epoch 366/500\n",
            "384/384 - 3s - loss: 1.2081 - accuracy: 0.4878\n",
            "Epoch 367/500\n",
            "384/384 - 3s - loss: 1.2075 - accuracy: 0.4904\n",
            "Epoch 368/500\n",
            "384/384 - 3s - loss: 1.2079 - accuracy: 0.4894\n",
            "Epoch 369/500\n",
            "384/384 - 3s - loss: 1.2078 - accuracy: 0.4901\n",
            "Epoch 370/500\n",
            "384/384 - 3s - loss: 1.2081 - accuracy: 0.4884\n",
            "Epoch 371/500\n",
            "384/384 - 3s - loss: 1.2081 - accuracy: 0.4845\n",
            "Epoch 372/500\n",
            "384/384 - 3s - loss: 1.2074 - accuracy: 0.4908\n",
            "Epoch 373/500\n",
            "384/384 - 3s - loss: 1.2076 - accuracy: 0.4888\n",
            "Epoch 374/500\n",
            "384/384 - 3s - loss: 1.2072 - accuracy: 0.4893\n",
            "Epoch 375/500\n",
            "384/384 - 3s - loss: 1.2078 - accuracy: 0.4898\n",
            "Epoch 376/500\n",
            "384/384 - 3s - loss: 1.2079 - accuracy: 0.4895\n",
            "Epoch 377/500\n",
            "384/384 - 3s - loss: 1.2075 - accuracy: 0.4873\n",
            "Epoch 378/500\n",
            "384/384 - 3s - loss: 1.2070 - accuracy: 0.4869\n",
            "Epoch 379/500\n",
            "384/384 - 3s - loss: 1.2077 - accuracy: 0.4882\n",
            "Epoch 380/500\n",
            "384/384 - 3s - loss: 1.2073 - accuracy: 0.4882\n",
            "Epoch 381/500\n",
            "384/384 - 3s - loss: 1.2074 - accuracy: 0.4884\n",
            "Epoch 382/500\n",
            "384/384 - 3s - loss: 1.2075 - accuracy: 0.4870\n",
            "Epoch 383/500\n",
            "384/384 - 3s - loss: 1.2073 - accuracy: 0.4872\n",
            "Epoch 384/500\n",
            "384/384 - 3s - loss: 1.2077 - accuracy: 0.4865\n",
            "Epoch 385/500\n",
            "384/384 - 3s - loss: 1.2070 - accuracy: 0.4880\n",
            "Epoch 386/500\n",
            "384/384 - 3s - loss: 1.2076 - accuracy: 0.4886\n",
            "Epoch 387/500\n",
            "384/384 - 3s - loss: 1.2072 - accuracy: 0.4870\n",
            "Epoch 388/500\n",
            "384/384 - 3s - loss: 1.2071 - accuracy: 0.4887\n",
            "Epoch 389/500\n",
            "384/384 - 3s - loss: 1.2070 - accuracy: 0.4908\n",
            "Epoch 390/500\n",
            "384/384 - 3s - loss: 1.2062 - accuracy: 0.4915\n",
            "Epoch 391/500\n",
            "384/384 - 3s - loss: 1.2069 - accuracy: 0.4878\n",
            "Epoch 392/500\n",
            "384/384 - 3s - loss: 1.2070 - accuracy: 0.4901\n",
            "Epoch 393/500\n",
            "384/384 - 3s - loss: 1.2069 - accuracy: 0.4851\n",
            "Epoch 394/500\n",
            "384/384 - 3s - loss: 1.2065 - accuracy: 0.4894\n",
            "Epoch 395/500\n",
            "384/384 - 3s - loss: 1.2066 - accuracy: 0.4895\n",
            "Epoch 396/500\n",
            "384/384 - 3s - loss: 1.2068 - accuracy: 0.4888\n",
            "Epoch 397/500\n",
            "384/384 - 3s - loss: 1.2068 - accuracy: 0.4911\n",
            "Epoch 398/500\n",
            "384/384 - 3s - loss: 1.2068 - accuracy: 0.4873\n",
            "Epoch 399/500\n",
            "384/384 - 3s - loss: 1.2066 - accuracy: 0.4901\n",
            "Epoch 400/500\n",
            "384/384 - 3s - loss: 1.2068 - accuracy: 0.4890\n",
            "Epoch 401/500\n",
            "384/384 - 3s - loss: 1.2063 - accuracy: 0.4879\n",
            "Epoch 402/500\n",
            "384/384 - 3s - loss: 1.2067 - accuracy: 0.4889\n",
            "Epoch 403/500\n",
            "384/384 - 3s - loss: 1.2068 - accuracy: 0.4871\n",
            "Epoch 404/500\n",
            "384/384 - 3s - loss: 1.2063 - accuracy: 0.4869\n",
            "Epoch 405/500\n",
            "384/384 - 3s - loss: 1.2064 - accuracy: 0.4879\n",
            "Epoch 406/500\n",
            "384/384 - 3s - loss: 1.2061 - accuracy: 0.4915\n",
            "Epoch 407/500\n",
            "384/384 - 3s - loss: 1.2062 - accuracy: 0.4883\n",
            "Epoch 408/500\n",
            "384/384 - 3s - loss: 1.2062 - accuracy: 0.4885\n",
            "Epoch 409/500\n",
            "384/384 - 3s - loss: 1.2059 - accuracy: 0.4895\n",
            "Epoch 410/500\n",
            "384/384 - 3s - loss: 1.2063 - accuracy: 0.4880\n",
            "Epoch 411/500\n",
            "384/384 - 3s - loss: 1.2061 - accuracy: 0.4928\n",
            "Epoch 412/500\n",
            "384/384 - 3s - loss: 1.2062 - accuracy: 0.4872\n",
            "Epoch 413/500\n",
            "384/384 - 3s - loss: 1.2062 - accuracy: 0.4906\n",
            "Epoch 414/500\n",
            "384/384 - 3s - loss: 1.2065 - accuracy: 0.4889\n",
            "Epoch 415/500\n",
            "384/384 - 3s - loss: 1.2062 - accuracy: 0.4886\n",
            "Epoch 416/500\n",
            "384/384 - 3s - loss: 1.2060 - accuracy: 0.4887\n",
            "Epoch 417/500\n",
            "384/384 - 3s - loss: 1.2057 - accuracy: 0.4896\n",
            "Epoch 418/500\n",
            "384/384 - 3s - loss: 1.2061 - accuracy: 0.4896\n",
            "Epoch 419/500\n",
            "384/384 - 3s - loss: 1.2060 - accuracy: 0.4884\n",
            "Epoch 420/500\n",
            "384/384 - 3s - loss: 1.2058 - accuracy: 0.4914\n",
            "Epoch 421/500\n",
            "384/384 - 3s - loss: 1.2062 - accuracy: 0.4893\n",
            "Epoch 422/500\n",
            "384/384 - 3s - loss: 1.2061 - accuracy: 0.4874\n",
            "Epoch 423/500\n",
            "384/384 - 3s - loss: 1.2057 - accuracy: 0.4884\n",
            "Epoch 424/500\n",
            "384/384 - 3s - loss: 1.2059 - accuracy: 0.4897\n",
            "Epoch 425/500\n",
            "384/384 - 3s - loss: 1.2058 - accuracy: 0.4898\n",
            "Epoch 426/500\n",
            "384/384 - 3s - loss: 1.2057 - accuracy: 0.4888\n",
            "Epoch 427/500\n",
            "384/384 - 3s - loss: 1.2057 - accuracy: 0.4903\n",
            "Epoch 428/500\n",
            "384/384 - 3s - loss: 1.2062 - accuracy: 0.4892\n",
            "Epoch 429/500\n",
            "384/384 - 3s - loss: 1.2055 - accuracy: 0.4877\n",
            "Epoch 430/500\n",
            "384/384 - 3s - loss: 1.2056 - accuracy: 0.4885\n",
            "Epoch 431/500\n",
            "384/384 - 3s - loss: 1.2054 - accuracy: 0.4881\n",
            "Epoch 432/500\n",
            "384/384 - 3s - loss: 1.2055 - accuracy: 0.4898\n",
            "Epoch 433/500\n",
            "384/384 - 3s - loss: 1.2053 - accuracy: 0.4920\n",
            "Epoch 434/500\n",
            "384/384 - 3s - loss: 1.2050 - accuracy: 0.4907\n",
            "Epoch 435/500\n",
            "384/384 - 3s - loss: 1.2054 - accuracy: 0.4887\n",
            "Epoch 436/500\n",
            "384/384 - 3s - loss: 1.2054 - accuracy: 0.4898\n",
            "Epoch 437/500\n",
            "384/384 - 3s - loss: 1.2055 - accuracy: 0.4876\n",
            "Epoch 438/500\n",
            "384/384 - 3s - loss: 1.2052 - accuracy: 0.4889\n",
            "Epoch 439/500\n",
            "384/384 - 3s - loss: 1.2051 - accuracy: 0.4868\n",
            "Epoch 440/500\n",
            "384/384 - 3s - loss: 1.2053 - accuracy: 0.4906\n",
            "Epoch 441/500\n",
            "384/384 - 3s - loss: 1.2053 - accuracy: 0.4874\n",
            "Epoch 442/500\n",
            "384/384 - 3s - loss: 1.2052 - accuracy: 0.4882\n",
            "Epoch 443/500\n",
            "384/384 - 3s - loss: 1.2054 - accuracy: 0.4879\n",
            "Epoch 444/500\n",
            "384/384 - 3s - loss: 1.2051 - accuracy: 0.4891\n",
            "Epoch 445/500\n",
            "384/384 - 3s - loss: 1.2051 - accuracy: 0.4901\n",
            "Epoch 446/500\n",
            "384/384 - 3s - loss: 1.2052 - accuracy: 0.4873\n",
            "Epoch 447/500\n",
            "384/384 - 3s - loss: 1.2050 - accuracy: 0.4880\n",
            "Epoch 448/500\n",
            "384/384 - 3s - loss: 1.2048 - accuracy: 0.4897\n",
            "Epoch 449/500\n",
            "384/384 - 3s - loss: 1.2048 - accuracy: 0.4891\n",
            "Epoch 450/500\n",
            "384/384 - 3s - loss: 1.2051 - accuracy: 0.4868\n",
            "Epoch 451/500\n",
            "384/384 - 3s - loss: 1.2049 - accuracy: 0.4902\n",
            "Epoch 452/500\n",
            "384/384 - 3s - loss: 1.2049 - accuracy: 0.4881\n",
            "Epoch 453/500\n",
            "384/384 - 3s - loss: 1.2048 - accuracy: 0.4901\n",
            "Epoch 454/500\n",
            "384/384 - 3s - loss: 1.2045 - accuracy: 0.4874\n",
            "Epoch 455/500\n",
            "384/384 - 3s - loss: 1.2052 - accuracy: 0.4910\n",
            "Epoch 456/500\n",
            "384/384 - 3s - loss: 1.2051 - accuracy: 0.4874\n",
            "Epoch 457/500\n",
            "384/384 - 3s - loss: 1.2048 - accuracy: 0.4898\n",
            "Epoch 458/500\n",
            "384/384 - 3s - loss: 1.2047 - accuracy: 0.4883\n",
            "Epoch 459/500\n",
            "384/384 - 3s - loss: 1.2046 - accuracy: 0.4878\n",
            "Epoch 460/500\n",
            "384/384 - 3s - loss: 1.2050 - accuracy: 0.4883\n",
            "Epoch 461/500\n",
            "384/384 - 3s - loss: 1.2047 - accuracy: 0.4922\n",
            "Epoch 462/500\n",
            "384/384 - 3s - loss: 1.2050 - accuracy: 0.4901\n",
            "Epoch 463/500\n",
            "384/384 - 3s - loss: 1.2050 - accuracy: 0.4868\n",
            "Epoch 464/500\n",
            "384/384 - 3s - loss: 1.2049 - accuracy: 0.4875\n",
            "Epoch 465/500\n",
            "384/384 - 3s - loss: 1.2049 - accuracy: 0.4860\n",
            "Epoch 466/500\n",
            "384/384 - 3s - loss: 1.2046 - accuracy: 0.4910\n",
            "Epoch 467/500\n",
            "384/384 - 3s - loss: 1.2042 - accuracy: 0.4879\n",
            "Epoch 468/500\n",
            "384/384 - 3s - loss: 1.2042 - accuracy: 0.4898\n",
            "Epoch 469/500\n",
            "384/384 - 3s - loss: 1.2044 - accuracy: 0.4921\n",
            "Epoch 470/500\n",
            "384/384 - 3s - loss: 1.2044 - accuracy: 0.4879\n",
            "Epoch 471/500\n",
            "384/384 - 3s - loss: 1.2045 - accuracy: 0.4898\n",
            "Epoch 472/500\n",
            "384/384 - 3s - loss: 1.2047 - accuracy: 0.4897\n",
            "Epoch 473/500\n",
            "384/384 - 3s - loss: 1.2045 - accuracy: 0.4889\n",
            "Epoch 474/500\n",
            "384/384 - 3s - loss: 1.2051 - accuracy: 0.4863\n",
            "Epoch 475/500\n",
            "384/384 - 3s - loss: 1.2043 - accuracy: 0.4901\n",
            "Epoch 476/500\n",
            "384/384 - 3s - loss: 1.2040 - accuracy: 0.4871\n",
            "Epoch 477/500\n",
            "384/384 - 3s - loss: 1.2042 - accuracy: 0.4892\n",
            "Epoch 478/500\n",
            "384/384 - 3s - loss: 1.2043 - accuracy: 0.4897\n",
            "Epoch 479/500\n",
            "384/384 - 3s - loss: 1.2042 - accuracy: 0.4918\n",
            "Epoch 480/500\n",
            "384/384 - 3s - loss: 1.2043 - accuracy: 0.4876\n",
            "Epoch 481/500\n",
            "384/384 - 3s - loss: 1.2044 - accuracy: 0.4884\n",
            "Epoch 482/500\n",
            "384/384 - 3s - loss: 1.2043 - accuracy: 0.4896\n",
            "Epoch 483/500\n",
            "384/384 - 3s - loss: 1.2042 - accuracy: 0.4894\n",
            "Epoch 484/500\n",
            "384/384 - 3s - loss: 1.2043 - accuracy: 0.4888\n",
            "Epoch 485/500\n",
            "384/384 - 3s - loss: 1.2040 - accuracy: 0.4904\n",
            "Epoch 486/500\n",
            "384/384 - 3s - loss: 1.2038 - accuracy: 0.4888\n",
            "Epoch 487/500\n",
            "384/384 - 3s - loss: 1.2045 - accuracy: 0.4885\n",
            "Epoch 488/500\n",
            "384/384 - 3s - loss: 1.2036 - accuracy: 0.4917\n",
            "Epoch 489/500\n",
            "384/384 - 3s - loss: 1.2037 - accuracy: 0.4890\n",
            "Epoch 490/500\n",
            "384/384 - 3s - loss: 1.2041 - accuracy: 0.4874\n",
            "Epoch 491/500\n",
            "384/384 - 3s - loss: 1.2043 - accuracy: 0.4883\n",
            "Epoch 492/500\n",
            "384/384 - 3s - loss: 1.2043 - accuracy: 0.4883\n",
            "Epoch 493/500\n",
            "384/384 - 3s - loss: 1.2045 - accuracy: 0.4892\n",
            "Epoch 494/500\n",
            "384/384 - 3s - loss: 1.2038 - accuracy: 0.4909\n",
            "Epoch 495/500\n",
            "384/384 - 3s - loss: 1.2037 - accuracy: 0.4869\n",
            "Epoch 496/500\n",
            "384/384 - 3s - loss: 1.2040 - accuracy: 0.4896\n",
            "Epoch 497/500\n",
            "384/384 - 3s - loss: 1.2038 - accuracy: 0.4876\n",
            "Epoch 498/500\n",
            "384/384 - 3s - loss: 1.2040 - accuracy: 0.4902\n",
            "Epoch 499/500\n",
            "384/384 - 3s - loss: 1.2041 - accuracy: 0.4894\n",
            "Epoch 500/500\n",
            "384/384 - 3s - loss: 1.2037 - accuracy: 0.4876\n"
          ],
          "name": "stdout"
        },
        {
          "output_type": "execute_result",
          "data": {
            "text/plain": [
              "<tensorflow.python.keras.callbacks.History at 0x7fb811c06550>"
            ]
          },
          "metadata": {
            "tags": []
          },
          "execution_count": 139
        }
      ]
    },
    {
      "cell_type": "code",
      "metadata": {
        "colab": {
          "base_uri": "https://localhost:8080/"
        },
        "id": "JM5T8_uZLFzW",
        "outputId": "88da5125-82e5-4e71-deb1-a481c7309410"
      },
      "source": [
        "# evaluate\n",
        "in_text = 'Че'\n",
        "print(in_text)\n",
        "encoded = tokenizer.texts_to_sequences([in_text])[0]\n",
        "encoded = np.array(encoded)\n",
        "yhat = model.predict_classes(encoded, verbose=0)\n",
        "for word, index in tokenizer.word_index.items():\n",
        "\tif index == yhat:\n",
        "\t\tprint(word)"
      ],
      "execution_count": 146,
      "outputs": [
        {
          "output_type": "stream",
          "text": [
            "Че\n",
            "никита\n"
          ],
          "name": "stdout"
        },
        {
          "output_type": "stream",
          "text": [
            "/usr/local/lib/python3.7/dist-packages/tensorflow/python/keras/engine/sequential.py:450: UserWarning: `model.predict_classes()` is deprecated and will be removed after 2021-01-01. Please use instead:* `np.argmax(model.predict(x), axis=-1)`,   if your model does multi-class classification   (e.g. if it uses a `softmax` last-layer activation).* `(model.predict(x) > 0.5).astype(\"int32\")`,   if your model does binary classification   (e.g. if it uses a `sigmoid` last-layer activation).\n",
            "  warnings.warn('`model.predict_classes()` is deprecated and '\n"
          ],
          "name": "stderr"
        }
      ]
    }
  ]
}