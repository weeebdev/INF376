{
 "metadata": {
  "language_info": {
   "codemirror_mode": {
    "name": "ipython",
    "version": 3
   },
   "file_extension": ".py",
   "mimetype": "text/x-python",
   "name": "python",
   "nbconvert_exporter": "python",
   "pygments_lexer": "ipython3",
   "version": "3.8.5-final"
  },
  "orig_nbformat": 2,
  "kernelspec": {
   "name": "python3",
   "display_name": "Python 3",
   "language": "python"
  }
 },
 "nbformat": 4,
 "nbformat_minor": 2,
 "cells": [
  {
   "cell_type": "code",
   "execution_count": 4,
   "metadata": {},
   "outputs": [],
   "source": [
    "import pandas as pd\n",
    "import re"
   ]
  },
  {
   "source": [
    "### Task 1\n",
    "Actually, I don't know how to deal with the names like _НҮРДІБЕК БАЛЖАН_, because they can be both M and F"
   ],
   "cell_type": "markdown",
   "metadata": {}
  },
  {
   "cell_type": "code",
   "execution_count": 10,
   "metadata": {},
   "outputs": [],
   "source": [
    "file_name = './data/State Grants 2020.xlsx' \n",
    "df = pd.read_excel(file_name, sheet_name='General')"
   ]
  },
  {
   "cell_type": "code",
   "execution_count": 27,
   "metadata": {},
   "outputs": [],
   "source": [
    "M = r'ұлы|улы|уғли|угли|вич|ов|ев[^\\w]'\n",
    "F = r'қызы|кызы|қизи|кизи|вна|вна|ова|ева[^\\w]'"
   ]
  },
  {
   "cell_type": "code",
   "execution_count": 20,
   "metadata": {},
   "outputs": [],
   "source": [
    "def identifyGender(FIO):\n",
    "    FIO = FIO.lower()\n",
    "    if (re.search(F, FIO)):\n",
    "        return 'F'\n",
    "    if (re.search(M, FIO)):\n",
    "        return 'M'\n",
    "    return ''"
   ]
  },
  {
   "cell_type": "code",
   "execution_count": 28,
   "metadata": {},
   "outputs": [],
   "source": [
    "df['Gender'] = df.apply(lambda row: identifyGender(row.FIO), axis = 1)\n",
    "file_path = './result/A_01.csv'\n",
    "df.to_csv(file_path, columns=['FIO','Gender'])"
   ]
  },
  {
   "cell_type": "code",
   "execution_count": 30,
   "metadata": {},
   "outputs": [
    {
     "output_type": "stream",
     "name": "stdout",
     "text": [
      "            IKT                 FIO  Points  University Gender\n0     903300067  РАХМЕТУЛЛА АСАНӘЛІ     140         302       \n65    862390433        СЕРІК РУСЛАН     127          27       \n82    716390901       НҰРКЕЛДІ ӨРЕН     125          27       \n93    836390285     ДІЛМҰРАТ ТАҢНАР     125          27       \n168   746300114    ТУРСЫНБЕК ЕРАСЫЛ     120          13       \n...         ...                 ...     ...         ...    ...\n2340  783390030       КАМЕЛ БОТАГӨЗ      69          38       \n2357  833300206         ЖАРҚЫН РИЗА      69          11       \n2430  805390488     НҮРДІБЕК БАЛЖАН      67          25       \n2442  750390246      ЕРІКБАЙ ҚҰНДЫЗ      67          35       \n2444  716390764          ІҢКАР ЕДІЛ      67         302       \n\n[75 rows x 5 columns]\n"
     ]
    }
   ],
   "source": [
    "bigender = df[df['Gender'] == '']\n",
    "bigender.to_csv('bigender.csv')\n",
    "print(bigender)\n",
    "# AS you can see, still 75 students have bigender names\n"
   ]
  },
  {
   "cell_type": "code",
   "execution_count": null,
   "metadata": {},
   "outputs": [],
   "source": []
  }
 ]
}