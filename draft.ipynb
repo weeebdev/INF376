{
 "metadata": {
  "language_info": {
   "codemirror_mode": {
    "name": "ipython",
    "version": 3
   },
   "file_extension": ".py",
   "mimetype": "text/x-python",
   "name": "python",
   "nbconvert_exporter": "python",
   "pygments_lexer": "ipython3",
   "version": "3.8.5-final"
  },
  "orig_nbformat": 2,
  "kernelspec": {
   "name": "python3",
   "display_name": "Python 3",
   "language": "python"
  }
 },
 "nbformat": 4,
 "nbformat_minor": 2,
 "cells": [
  {
   "cell_type": "code",
   "execution_count": 2,
   "metadata": {},
   "outputs": [],
   "source": [
    "import pandas as pd\n",
    "import re"
   ]
  },
  {
   "source": [
    "### Task 1\n",
    "Actually, I don't know how to deal with the names like _НҮРДІБЕК БАЛЖАН_, because they can be both M and F"
   ],
   "cell_type": "markdown",
   "metadata": {}
  },
  {
   "cell_type": "code",
   "execution_count": 3,
   "metadata": {},
   "outputs": [],
   "source": [
    "file_name = './data/State Grants 2020.xlsx' \n",
    "df = pd.concat(pd.read_excel(file_name, sheet_name=[0,1,2,3,4]), ignore_index=True)[:-1]"
   ]
  },
  {
   "cell_type": "code",
   "execution_count": 4,
   "metadata": {},
   "outputs": [],
   "source": [
    "M = r'ұлы|улы|уғли|угли|вич|ов|ев[^\\w]'\n",
    "F = r'қызы|кызы|қизи|кизи|вна|вна|ова|ева[^\\w]'"
   ]
  },
  {
   "cell_type": "code",
   "execution_count": 5,
   "metadata": {},
   "outputs": [],
   "source": [
    "def identifyGender(FIO):\n",
    "    FIO = FIO.lower()\n",
    "    if (re.search(F, FIO)):\n",
    "        return 'F'\n",
    "    if (re.search(M, FIO)):\n",
    "        return 'M'\n",
    "    return ''"
   ]
  },
  {
   "cell_type": "code",
   "execution_count": 6,
   "metadata": {},
   "outputs": [],
   "source": [
    "df['Gender'] = df.apply(lambda row: identifyGender(row.FIO), axis = 1)\n",
    "file_path = './result/A_01.csv'\n",
    "df.to_csv(file_path, columns=['FIO','Gender'], index=False)"
   ]
  },
  {
   "cell_type": "code",
   "execution_count": 7,
   "metadata": {},
   "outputs": [
    {
     "output_type": "stream",
     "name": "stdout",
     "text": [
      "              IKT                          FIO  Points  University     No  \\\n0     903300067.0           РАХМЕТУЛЛА АСАНӘЛІ   140.0         302    NaN   \n65    862390433.0                 СЕРІК РУСЛАН   127.0          27    NaN   \n82    716390901.0                НҰРКЕЛДІ ӨРЕН   125.0          27    NaN   \n93    836390285.0              ДІЛМҰРАТ ТАҢНАР   125.0          27    NaN   \n168   746300114.0             ТУРСЫНБЕК ЕРАСЫЛ   120.0          13    NaN   \n...           ...                          ...     ...         ...    ...   \n4048  712300015.0                Адал Сандуғаш    75.0         522    NaN   \n4096   93300155.0  СФРАЙДОПУЛО ВЛАДИСЛАВ ИЛЬИЧ    35.0          93   40.0   \n4115   35300190.0             БЕРИКБОЛ АЙМЫРЗА    32.0          35   59.0   \n4124  191300013.0                 ЕЛШАТ САМҒАР    31.0         191   68.0   \n4159   38300407.0            МАНАЙХАН БЕРІКБОЛ    27.0           2  103.0   \n\n     Gender  \n0            \n65           \n82           \n93           \n168          \n...     ...  \n4048         \n4096         \n4115         \n4124         \n4159         \n\n[116 rows x 6 columns]\n"
     ]
    }
   ],
   "source": [
    "bigender = df[df['Gender'] == '']\n",
    "# bigender.to_csv('bigender.csv')\n",
    "print(bigender)\n",
    "# AS you can see, still 116 students have bigender names\n"
   ]
  },
  {
   "cell_type": "code",
   "execution_count": null,
   "metadata": {},
   "outputs": [],
   "source": []
  }
 ]
}