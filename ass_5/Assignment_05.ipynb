{
 "metadata": {
  "language_info": {
   "codemirror_mode": {
    "name": "ipython",
    "version": 3
   },
   "file_extension": ".py",
   "mimetype": "text/x-python",
   "name": "python",
   "nbconvert_exporter": "python",
   "pygments_lexer": "ipython3",
   "version": "3.8.5-final"
  },
  "orig_nbformat": 2,
  "kernelspec": {
   "name": "python3",
   "display_name": "Python 3.8.5 64-bit",
   "metadata": {
    "interpreter": {
     "hash": "31f2aee4e71d21fbe5cf8b01ff0e069b9275f58929596ceb00d14d90e3e16cd6"
    }
   }
  }
 },
 "nbformat": 4,
 "nbformat_minor": 2,
 "cells": [
  {
   "source": [
    "Easy\n",
    "\n",
    "![https://s3-us-west-2.amazonaws.com/secure.notion-static.com/74cf690e-5590-46ae-8dc6-54310d123cc9/Draft.jpg](https://s3-us-west-2.amazonaws.com/secure.notion-static.com/74cf690e-5590-46ae-8dc6-54310d123cc9/Draft.jpg)\n",
    "\n",
    "Neural network uses sigmoid activation function\n",
    "\n",
    "Part I: You have and input I_0: 1, I_1: 0 what is an output\n",
    "\n",
    "Part II: Backpropagation. Use Dataset table to train neural network\n",
    "\n",
    "Write solution on paper or write it with code\n",
    "\n",
    "Result is weight after train process\n",
    "\n",
    "[Dataset](https://www.notion.so/a96c088954034db5bb1e0ea3cc61ab94)"
   ],
   "cell_type": "markdown",
   "metadata": {}
  },
  {
   "cell_type": "code",
   "execution_count": 59,
   "metadata": {},
   "outputs": [
    {
     "output_type": "stream",
     "name": "stdout",
     "text": [
      "[0.59868766]\n"
     ]
    }
   ],
   "source": [
    "# Import required libraries :\n",
    "import numpy as np\n",
    "# Define input features :\n",
    "input_features = np.array([[1,1,0,0],[0,1,1,0]])\n",
    "# print (input_features.shape)\n",
    "# print (input_features)\n",
    "# Define target output :\n",
    "target_output = np.array([[1,0,0,1]])\n",
    "# Reshaping our target output into vector :\n",
    "target_output = target_output.reshape(4,1)\n",
    "# print(target_output.shape)\n",
    "# print (target_output)\n",
    "# Define weights :\n",
    "weights = np.array([[0.1],[0.2]])\n",
    "# print(weights.shape)\n",
    "# print (weights)\n",
    "# Bias weight :\n",
    "bias = 0.3\n",
    "# Learning Rate :\n",
    "lr = 0.05\n",
    "# Sigmoid function :\n",
    "def sigmoid(x):\n",
    " return 1/(1+np.exp(-x))\n",
    " # Derivative of sigmoid function :\n",
    "def sigmoid_der(x):\n",
    " return sigmoid(x)*(1-sigmoid(x))\n",
    " # Main logic for neural network :\n",
    "# Running our code 10000 times :for epoch in range(10000):\n",
    " inputs = input_features\n",
    " #Feedforward input :\n",
    " pred_in = np.dot(inputs, weights) + bias\n",
    " #Feedforward output :\n",
    " pred_out = sigmoid(pred_in)\n",
    " #Backpropogation \n",
    " #Calculating error\n",
    " error = pred_out - target_output\n",
    " \n",
    " #Going with the formula :\n",
    " x = error.sum()\n",
    "#  print(x)\n",
    " \n",
    " #Calculating derivative :\n",
    " dcost_dpred = error\n",
    " dpred_dz = sigmoid_der(pred_out)\n",
    " \n",
    " #Multiplying individual derivatives :\n",
    " z_delta = dcost_dpred * dpred_dz\n",
    " #Multiplying with the 3rd individual derivative :\n",
    " inputs = input_features.T\n",
    " weights -= lr * np.dot(inputs, z_delta)\n",
    " #Updating the bias weight value :\n",
    " for i in z_delta:\n",
    "  bias -= lr * i\n",
    "#   Printing final weights: \n",
    "# print (weights)\n",
    "# print (\"\\n\\n\")  \n",
    "# print (bias)\n",
    "#Taking inputs :\n",
    "single_point = np.array([1,0])\n",
    "#1st step :\n",
    "result1 = np.dot(single_point, weights) + bias\n",
    "#2nd step :\n",
    "result2 = sigmoid(result1)\n",
    "#Print final result\n",
    "print(result2)"
   ]
  },
  {
   "source": [
    "## Medium\n",
    "\n",
    "Use neural network to solve following Tennis Weather match prediction\n",
    "\n",
    "Use algorithm from page below *(Sometimes it may say that you should register, you can open page with Incognito mode)*"
   ],
   "cell_type": "markdown",
   "metadata": {}
  },
  {
   "cell_type": "code",
   "execution_count": 60,
   "metadata": {},
   "outputs": [],
   "source": [
    "import pandas as pd\n",
    "from sklearn.preprocessing import OneHotEncoder"
   ]
  },
  {
   "cell_type": "code",
   "execution_count": 61,
   "metadata": {},
   "outputs": [],
   "source": [
    "df = pd.read_csv('./data/tennis.csv')"
   ]
  },
  {
   "cell_type": "code",
   "execution_count": 62,
   "metadata": {},
   "outputs": [
    {
     "output_type": "execute_result",
     "data": {
      "text/plain": [
       "    outlook  temp humidity  windy play\n",
       "0     sunny   hot     high  False   no\n",
       "1     sunny   hot     high   True   no\n",
       "2  overcast   hot     high  False  yes\n",
       "3     rainy  mild     high  False  yes\n",
       "4     rainy  cool   normal  False  yes"
      ],
      "text/html": "<div>\n<style scoped>\n    .dataframe tbody tr th:only-of-type {\n        vertical-align: middle;\n    }\n\n    .dataframe tbody tr th {\n        vertical-align: top;\n    }\n\n    .dataframe thead th {\n        text-align: right;\n    }\n</style>\n<table border=\"1\" class=\"dataframe\">\n  <thead>\n    <tr style=\"text-align: right;\">\n      <th></th>\n      <th>outlook</th>\n      <th>temp</th>\n      <th>humidity</th>\n      <th>windy</th>\n      <th>play</th>\n    </tr>\n  </thead>\n  <tbody>\n    <tr>\n      <th>0</th>\n      <td>sunny</td>\n      <td>hot</td>\n      <td>high</td>\n      <td>False</td>\n      <td>no</td>\n    </tr>\n    <tr>\n      <th>1</th>\n      <td>sunny</td>\n      <td>hot</td>\n      <td>high</td>\n      <td>True</td>\n      <td>no</td>\n    </tr>\n    <tr>\n      <th>2</th>\n      <td>overcast</td>\n      <td>hot</td>\n      <td>high</td>\n      <td>False</td>\n      <td>yes</td>\n    </tr>\n    <tr>\n      <th>3</th>\n      <td>rainy</td>\n      <td>mild</td>\n      <td>high</td>\n      <td>False</td>\n      <td>yes</td>\n    </tr>\n    <tr>\n      <th>4</th>\n      <td>rainy</td>\n      <td>cool</td>\n      <td>normal</td>\n      <td>False</td>\n      <td>yes</td>\n    </tr>\n  </tbody>\n</table>\n</div>"
     },
     "metadata": {},
     "execution_count": 62
    }
   ],
   "source": [
    "df.head()"
   ]
  },
  {
   "cell_type": "code",
   "execution_count": 63,
   "metadata": {},
   "outputs": [
    {
     "output_type": "stream",
     "name": "stdout",
     "text": [
      "(14, 10)\n(14,)\n"
     ]
    }
   ],
   "source": [
    "enc = OneHotEncoder(handle_unknown='ignore')\n",
    "X = enc.fit_transform(df[[\"outlook\", \"temp\", \"humidity\", \"windy\"]]).toarray()\n",
    "print(X.shape)\n",
    "y = df[\"play\"].map(lambda x: 1 if x == \"yes\" else 0 )\n",
    "print(y.shape)"
   ]
  },
  {
   "cell_type": "code",
   "execution_count": 64,
   "metadata": {},
   "outputs": [
    {
     "output_type": "stream",
     "name": "stdout",
     "text": [
      "[[0.93297629]\n [0.92568507]\n [0.93297629]\n [0.94560515]\n [0.92568507]\n [0.91767067]\n [0.93297629]]\n"
     ]
    }
   ],
   "source": [
    "# Define input features :\n",
    "input_features = np.array(X[:7])\n",
    "x_test = np.array(X[7:])\n",
    "# print (input_features.shape)\n",
    "# print (input_features)\n",
    "# Define target output :\n",
    "target_output = np.array(y[:7])\n",
    "y_test = np.array(y[7:])\n",
    "# Reshaping our target output into vector :\n",
    "target_output = target_output.reshape(7,1)\n",
    "# print(target_output.shape)\n",
    "# print (target_output)\n",
    "# Define weights :\n",
    "weights = np.array([np.linspace(0, 1, 10)]).T\n",
    "# print(weights.shape)\n",
    "# print (weights)\n",
    "# Bias weight :\n",
    "bias = 0.3\n",
    "# Learning Rate :\n",
    "lr = 0.05\n",
    "# Sigmoid function :\n",
    "def sigmoid(x):\n",
    " return 1/(1+np.exp(-x))\n",
    " # Derivative of sigmoid function :\n",
    "def sigmoid_der(x):\n",
    " return sigmoid(x)*(1-sigmoid(x))\n",
    " # Main logic for neural network :\n",
    "# Running our code 10000 times :for epoch in range(10000):\n",
    " inputs = input_features\n",
    " #Feedforward input :\n",
    " pred_in = np.dot(inputs, weights) + bias\n",
    " #Feedforward output :\n",
    " pred_out = sigmoid(pred_in)\n",
    " #Backpropogation \n",
    " #Calculating error\n",
    " error = pred_out - target_output\n",
    " \n",
    " #Going with the formula :\n",
    " x = error.sum()\n",
    "#  print(x)\n",
    " \n",
    " #Calculating derivative :\n",
    " dcost_dpred = error\n",
    " dpred_dz = sigmoid_der(pred_out)\n",
    " \n",
    " #Multiplying individual derivatives :\n",
    " z_delta = dcost_dpred * dpred_dz\n",
    " #Multiplying with the 3rd individual derivative :\n",
    " inputs = input_features.T\n",
    " weights -= lr * np.dot(inputs, z_delta)\n",
    " #Updating the bias weight value :\n",
    " for i in z_delta:\n",
    "  bias -= lr * i\n",
    "#   Printing final weights: \n",
    "# print (weights)\n",
    "# print (\"\\n\\n\")  \n",
    "# print (bias)\n",
    "#Taking inputs :\n",
    "single_point = x_test\n",
    "#1st step :\n",
    "result1 = np.dot(single_point, weights) + bias\n",
    "#2nd step :\n",
    "result2 = sigmoid(result1)\n",
    "#Print final result\n",
    "print(result2)\n",
    "predictions = np.where(result2 > 0.5, 1, 0)"
   ]
  },
  {
   "cell_type": "code",
   "execution_count": 65,
   "metadata": {},
   "outputs": [
    {
     "output_type": "execute_result",
     "data": {
      "text/plain": [
       "0.7142857142857143"
      ]
     },
     "metadata": {},
     "execution_count": 65
    }
   ],
   "source": [
    "accuracy = np.mean(predictions == y_test)\n",
    "accuracy\n"
   ]
  },
  {
   "source": [
    "## Hard\n",
    "\n",
    "Create neural network that helps to predict gender of person.\n",
    "\n",
    "Use State Grants Dataset\n",
    "\n",
    "Divide full names into trigrams and use this trigrams as a features\n",
    "\n",
    "**E.g.** Арсен Ахметов Арманович list of trigrams will be: Арс, рсе, сен, Ахм, хме, мет, ето, тов, Арм, рма, ман, ано, нов, ови, вич (You can use nltk: [https://tedboy.github.io/nlps/generated/generated/nltk.trigrams.html](https://tedboy.github.io/nlps/generated/generated/nltk.trigrams.html))"
   ],
   "cell_type": "markdown",
   "metadata": {}
  },
  {
   "cell_type": "code",
   "execution_count": 66,
   "metadata": {},
   "outputs": [],
   "source": [
    "import re\n",
    "from nltk.util import trigrams\n",
    "from sklearn.model_selection import train_test_split\n",
    "from sklearn.feature_extraction.text import TfidfTransformer\n",
    "from sklearn.feature_extraction.text import CountVectorizer\n",
    "from nltk.util import trigrams"
   ]
  },
  {
   "cell_type": "code",
   "execution_count": 67,
   "metadata": {},
   "outputs": [],
   "source": [
    "file_name = './data/State Grants 2020.xlsx' \n",
    "df = pd.concat(pd.read_excel(file_name, sheet_name=[0,1,2,3,4]), ignore_index=True)[:-3]"
   ]
  },
  {
   "cell_type": "code",
   "execution_count": 68,
   "metadata": {},
   "outputs": [],
   "source": [
    "M = r'\\w*((ұлы)|(улы)|(уғли)|(угли)|(вич)|(ов)|(ев))\\b'\n",
    "F = r'\\w*((қызы)|(кызы)|(қизи)|(кизи)|(вна)|(вна)|(ова)|(ева))\\b'"
   ]
  },
  {
   "cell_type": "code",
   "execution_count": 69,
   "metadata": {},
   "outputs": [],
   "source": [
    "def identifyGender(FIO):\n",
    "    FIO = FIO.lower()\n",
    "    if (re.search(F, FIO)):\n",
    "        return 0\n",
    "    if (re.search(M, FIO)):\n",
    "        return 1\n",
    "    return 1"
   ]
  },
  {
   "cell_type": "code",
   "execution_count": 70,
   "metadata": {
    "tags": []
   },
   "outputs": [],
   "source": [
    "df[\"Gender\"] = df[\"FIO\"].apply(lambda x: identifyGender(x))\n"
   ]
  },
  {
   "cell_type": "code",
   "execution_count": 71,
   "metadata": {},
   "outputs": [],
   "source": [
    "def totrigrams(FIO):\n",
    "    res = \"\"\n",
    "    for i in FIO.split(\" \"):\n",
    "        for j in list(trigrams(i)):\n",
    "            res += \"\".join(j)+\" \"\n",
    "    return res.strip()\n",
    "\n"
   ]
  },
  {
   "cell_type": "code",
   "execution_count": 72,
   "metadata": {},
   "outputs": [
    {
     "output_type": "execute_result",
     "data": {
      "text/plain": [
       "           IKT                                                FIO  Points  \\\n",
       "0  903300067.0  рах ахм хме мет ету тул улл лла аса сан анә нә...   140.0   \n",
       "1  902300822.0  жам ама маш аше шев ерж ржа жан жең еңі ңіс іс...   140.0   \n",
       "2  903300006.0  зам ама ман анб нбе бек мух уха хам амм мме ме...   140.0   \n",
       "3  903300043.0  жұм ұма маж ажа жан ано нов мир ира рас мар ар...   140.0   \n",
       "4  903300051.0  тле леу еул уле лес есо сов мак акс ксу сут ка...   140.0   \n",
       "\n",
       "   University  No  Gender  \n",
       "0       302.0 NaN       1  \n",
       "1       302.0 NaN       1  \n",
       "2       302.0 NaN       1  \n",
       "3       302.0 NaN       1  \n",
       "4        83.0 NaN       1  "
      ],
      "text/html": "<div>\n<style scoped>\n    .dataframe tbody tr th:only-of-type {\n        vertical-align: middle;\n    }\n\n    .dataframe tbody tr th {\n        vertical-align: top;\n    }\n\n    .dataframe thead th {\n        text-align: right;\n    }\n</style>\n<table border=\"1\" class=\"dataframe\">\n  <thead>\n    <tr style=\"text-align: right;\">\n      <th></th>\n      <th>IKT</th>\n      <th>FIO</th>\n      <th>Points</th>\n      <th>University</th>\n      <th>No</th>\n      <th>Gender</th>\n    </tr>\n  </thead>\n  <tbody>\n    <tr>\n      <th>0</th>\n      <td>903300067.0</td>\n      <td>рах ахм хме мет ету тул улл лла аса сан анә нә...</td>\n      <td>140.0</td>\n      <td>302.0</td>\n      <td>NaN</td>\n      <td>1</td>\n    </tr>\n    <tr>\n      <th>1</th>\n      <td>902300822.0</td>\n      <td>жам ама маш аше шев ерж ржа жан жең еңі ңіс іс...</td>\n      <td>140.0</td>\n      <td>302.0</td>\n      <td>NaN</td>\n      <td>1</td>\n    </tr>\n    <tr>\n      <th>2</th>\n      <td>903300006.0</td>\n      <td>зам ама ман анб нбе бек мух уха хам амм мме ме...</td>\n      <td>140.0</td>\n      <td>302.0</td>\n      <td>NaN</td>\n      <td>1</td>\n    </tr>\n    <tr>\n      <th>3</th>\n      <td>903300043.0</td>\n      <td>жұм ұма маж ажа жан ано нов мир ира рас мар ар...</td>\n      <td>140.0</td>\n      <td>302.0</td>\n      <td>NaN</td>\n      <td>1</td>\n    </tr>\n    <tr>\n      <th>4</th>\n      <td>903300051.0</td>\n      <td>тле леу еул уле лес есо сов мак акс ксу сут ка...</td>\n      <td>140.0</td>\n      <td>83.0</td>\n      <td>NaN</td>\n      <td>1</td>\n    </tr>\n  </tbody>\n</table>\n</div>"
     },
     "metadata": {},
     "execution_count": 72
    }
   ],
   "source": [
    "df[\"FIO\"] = df[\"FIO\"].apply(lambda fio: totrigrams(fio.lower()))\n",
    "df.head()"
   ]
  },
  {
   "cell_type": "code",
   "execution_count": 73,
   "metadata": {},
   "outputs": [],
   "source": [
    "X_train, X_test, y_train, y_test = train_test_split(df[\"FIO\"], df[\"Gender\"], test_size=0.2)"
   ]
  },
  {
   "cell_type": "code",
   "execution_count": 74,
   "metadata": {},
   "outputs": [],
   "source": [
    "\n",
    "#TF_IDF\n",
    "\n",
    "tf_idf_vect = CountVectorizer(ngram_range=(1,2))\n",
    "tf_idf_train = tf_idf_vect.fit_transform(X_train.values).toarray()\n",
    "\n",
    "tf_idf_test = tf_idf_vect.transform(X_test.values).toarray()"
   ]
  },
  {
   "cell_type": "code",
   "execution_count": 75,
   "metadata": {},
   "outputs": [],
   "source": [
    "# Define input features :\n",
    "input_features = tf_idf_train\n",
    "x_test = tf_idf_test\n",
    "# print (input_features.shape)\n",
    "# print (input_features)\n",
    "# Define target output :\n",
    "target_output = y_train.values\n",
    "y_test = y_test.values\n",
    "# Reshaping our target output into vector :\n",
    "target_output = target_output.reshape(tf_idf_train.shape[0],1)\n",
    "# print(target_output.shape)\n",
    "# print (target_output)\n",
    "# Define weights :\n",
    "weights = np.array([np.linspace(0, 1, tf_idf_train.shape[1])]).T\n",
    "# print(weights.shape)\n",
    "# print (weights)\n",
    "# Bias weight :\n",
    "bias = 0.3\n",
    "# Learning Rate :\n",
    "lr = 0.05\n",
    "# Sigmoid function :\n",
    "def sigmoid(x):\n",
    " return 1/(1+np.exp(-x))\n",
    " # Derivative of sigmoid function :\n",
    "def sigmoid_der(x):\n",
    " return sigmoid(x)*(1-sigmoid(x))\n",
    " # Main logic for neural network :\n",
    "# Running our code 10000 times :for epoch in range(10000):\n",
    " inputs = input_features\n",
    " #Feedforward input :\n",
    " pred_in = np.dot(inputs, weights) + bias\n",
    " #Feedforward output :\n",
    " pred_out = sigmoid(pred_in)\n",
    " #Backpropogation \n",
    " #Calculating error\n",
    " error = pred_out - target_output\n",
    " \n",
    " #Going with the formula :\n",
    " x = error.sum()\n",
    "#  print(x)\n",
    " \n",
    " #Calculating derivative :\n",
    " dcost_dpred = error\n",
    " dpred_dz = sigmoid_der(pred_out)\n",
    " \n",
    " #Multiplying individual derivatives :\n",
    " z_delta = dcost_dpred * dpred_dz\n",
    " #Multiplying with the 3rd individual derivative :\n",
    " inputs = input_features.T\n",
    " weights -= lr * np.dot(inputs, z_delta)\n",
    " #Updating the bias weight value :\n",
    " for i in z_delta:\n",
    "  bias -= lr * i\n",
    "#   Printing final weights: \n",
    "# print (weights)\n",
    "# print (\"\\n\\n\")  \n",
    "# print (bias)\n",
    "#Taking inputs :\n",
    "single_point = x_test\n",
    "#1st step :\n",
    "result1 = np.dot(single_point, weights) + bias\n",
    "#2nd step :\n",
    "result2 = sigmoid(result1)\n",
    "#Print final result\n",
    "# print(result2)\n",
    "predictions = np.where(result2 > 0.5, 1, 0)"
   ]
  },
  {
   "cell_type": "code",
   "execution_count": 76,
   "metadata": {},
   "outputs": [
    {
     "output_type": "execute_result",
     "data": {
      "text/plain": [
       "0.6538922155688622"
      ]
     },
     "metadata": {},
     "execution_count": 76
    }
   ],
   "source": [
    "accuracy = np.mean(predictions == y_test)\n",
    "accuracy"
   ]
  },
  {
   "cell_type": "code",
   "execution_count": null,
   "metadata": {},
   "outputs": [],
   "source": []
  }
 ]
}