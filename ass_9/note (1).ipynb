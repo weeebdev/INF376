{
  "nbformat": 4,
  "nbformat_minor": 0,
  "metadata": {
    "colab": {
      "name": "note.ipynb",
      "provenance": [],
      "collapsed_sections": []
    },
    "kernelspec": {
      "name": "python385jvsc74a57bd0916dbcbb3f70747c44a77c7bcd40155683ae19c65e1c03b4aa3499c5328201f1",
      "display_name": "Python 3.8.5 64-bit"
    },
    "metadata": {
      "interpreter": {
        "hash": "916dbcbb3f70747c44a77c7bcd40155683ae19c65e1c03b4aa3499c5328201f1"
      }
    }
  },
  "cells": [
    {
      "source": [
        "## Easy\n",
        "\n",
        "Install Apertium Py and generate all possible variants of қанағат\n",
        "\n",
        "Install PyMorphy2 and find roots of all inserted words from news content\n",
        "\n",
        "Your system should write correctly item name with number in russian language. Ex:\n",
        "\n",
        "> 4 сумки or 7 сумок"
      ],
      "cell_type": "markdown",
      "metadata": {}
    },
    {
      "cell_type": "code",
      "metadata": {
        "id": "8IETSgRnAVD5"
      },
      "source": [
        "import apertium"
      ],
      "execution_count": 1,
      "outputs": []
    },
    {
      "cell_type": "code",
      "execution_count": 2,
      "metadata": {},
      "outputs": [],
      "source": [
        "apertium.append_pair_path('apertium-kaz')"
      ]
    },
    {
      "source": [
        "https://en.wikipedia.org/wiki/Kazakh_language"
      ],
      "cell_type": "markdown",
      "metadata": {}
    },
    {
      "cell_type": "code",
      "metadata": {
        "colab": {
          "base_uri": "https://localhost:8080/"
        },
        "id": "QVJsjGJap-Ms",
        "outputId": "b5b2856d-97b3-48fc-f5de-c2712f4d7f88"
      },
      "source": [
        "a = apertium.Generator('kaz')\n",
        "number = ['sg', 'pl']\n",
        "cases = [\n",
        "\"nom\",\n",
        "\"gen\",\n",
        "\"dat\",\n",
        "\"acc\",\n",
        "\"loc\",\n",
        "\"abl\"\t,\n",
        "\"ins\"\t,\n",
        "]\n",
        "for i in cases:\n",
        "  print(a.generate(f'^қанағат<n><{i}>$'), a.generate(f'^қанағат<n><{number[1]}><{i}>$'))"
      ],
      "execution_count": 14,
      "outputs": [
        {
          "output_type": "stream",
          "name": "stdout",
          "text": [
            "қанағат қанағаттар\nқанағаттың қанағаттардың\nқанағатқа қанағаттарға\nқанағатты қанағаттарды\nқанағатта қанағаттарда\nқанағаттан қанағаттардан\nқанағатпен қанағаттармен\n"
          ]
        }
      ]
    },
    {
      "cell_type": "code",
      "metadata": {
        "colab": {
          "base_uri": "https://localhost:8080/",
          "height": 35
        },
        "id": "_nhlAQTrBHzi",
        "outputId": "215db645-4d83-4f40-95dc-d67e2cebaf3f"
      },
      "source": [
        "import pymorphy2\n",
        "morph = pymorphy2.MorphAnalyzer()\n",
        "s = 'сумка'\n",
        "w = morph.parse(s)[0]\n",
        "for i in range(10):\n",
        "  print(f'{i} {w.make_agree_with_number(i).word}')"
      ],
      "execution_count": 16,
      "outputs": [
        {
          "output_type": "stream",
          "name": "stdout",
          "text": [
            "0 сумок\n1 сумка\n2 сумки\n3 сумки\n4 сумки\n5 сумок\n6 сумок\n7 сумок\n8 сумок\n9 сумок\n"
          ]
        }
      ]
    },
    {
      "cell_type": "markdown",
      "metadata": {
        "id": "z4yN1O1gzJ9U"
      },
      "source": [
        "## Medium\n",
        "\n",
        "Write python code that will analyze inserted token e.g. \"қарғаға\" and analyze it, if it is in specified case (Септік). It should also work with specific cases such as \"қарға\" which can have two possible forms: қар+Dative Case (барыс септік), or қарға + Nominative case (атау септік)"
      ]
    },
    {
      "cell_type": "code",
      "metadata": {
        "colab": {
          "base_uri": "https://localhost:8080/"
        },
        "id": "H3vHepf3wWEo",
        "outputId": "8a02760d-78ff-4bb3-bdb2-1464cfbc9a13"
      },
      "source": [
        "def isInCase(w, c, n):\n",
        "  if (c not in cases or n not in number):\n",
        "    raise ValueError(f'Arguments are invalid')\n",
        "  a = apertium.Generator('kaz')\n",
        "  wt = a.generate(f'^{w}<n><{n}><{c}>$').replace('#','')\n",
        "  res = 'is' if w==wt else 'is not'\n",
        "  return f'{w} {res} in {c} case'"
      ],
      "execution_count": 37,
      "outputs": []
    },
    {
      "cell_type": "code",
      "execution_count": 43,
      "metadata": {},
      "outputs": [
        {
          "output_type": "stream",
          "name": "stdout",
          "text": [
            "қанағат is in nom case\nқанағаттар is in gen case\nқанағаттың is in gen case\nқанағаттардың is not in nom case\nқанағатқа is not in dat case\nқанағаттарға is in dat case\n"
          ]
        }
      ],
      "source": [
        "t = [\n",
        "    'қанағат nom sg','қанағаттар gen pl',\n",
        "'қанағаттың gen sg','қанағаттардың nom pl',\n",
        "'қанағатқа dat sg','қанағаттарға dat pl',\n",
        "]\n",
        "\n",
        "for i in t:\n",
        "    w,c,n = tuple(i.split(' '))\n",
        "    print(isInCase(w,c,n))"
      ]
    },
    {
      "cell_type": "code",
      "execution_count": null,
      "metadata": {},
      "outputs": [],
      "source": []
    }
  ]
}