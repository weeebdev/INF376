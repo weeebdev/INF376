{
 "metadata": {
  "language_info": {
   "codemirror_mode": {
    "name": "ipython",
    "version": 3
   },
   "file_extension": ".py",
   "mimetype": "text/x-python",
   "name": "python",
   "nbconvert_exporter": "python",
   "pygments_lexer": "ipython3",
   "version": "3.8.5-final"
  },
  "orig_nbformat": 2,
  "kernelspec": {
   "name": "python3",
   "display_name": "Python 3",
   "language": "python"
  }
 },
 "nbformat": 4,
 "nbformat_minor": 2,
 "cells": [
  {
   "cell_type": "code",
   "execution_count": 1,
   "metadata": {},
   "outputs": [],
   "source": [
    "import pandas as pd\n",
    "import re"
   ]
  },
  {
   "source": [
    "### Task 1\n",
    "Actually, I don't know how to deal with the names like _НҮРДІБЕК БАЛЖАН_, because they can be both M and F"
   ],
   "cell_type": "markdown",
   "metadata": {}
  },
  {
   "cell_type": "code",
   "execution_count": 2,
   "metadata": {},
   "outputs": [],
   "source": [
    "file_name = './data/State Grants 2020.xlsx' \n",
    "df = pd.concat(pd.read_excel(file_name, sheet_name=[0,1,2,3,4]), ignore_index=True)[:-1]"
   ]
  },
  {
   "cell_type": "code",
   "execution_count": 17,
   "metadata": {},
   "outputs": [],
   "source": [
    "M = r'\\w*((ұлы)|(улы)|(уғли)|(угли)|(вич)|(ов)|(ев))\\b'\n",
    "F = r'\\w*((қызы)|(кызы)|(қизи)|(кизи)|(вна)|(вна)|(ова)|(ева))\\b'"
   ]
  },
  {
   "cell_type": "code",
   "execution_count": 19,
   "metadata": {},
   "outputs": [],
   "source": [
    "def identifyGender(FIO):\n",
    "    FIO = FIO.lower()\n",
    "    if (re.search(F, FIO)):\n",
    "        return 'F'\n",
    "    if (re.search(M, FIO)):\n",
    "        return 'M'\n",
    "    return ''"
   ]
  },
  {
   "cell_type": "code",
   "execution_count": 20,
   "metadata": {},
   "outputs": [],
   "source": [
    "df['Gender'] = df.apply(lambda row: identifyGender(row.FIO), axis = 1)\n",
    "file_path = './result/A_01.csv'\n",
    "df.to_csv(file_path, columns=['FIO','Gender'], index=False)"
   ]
  },
  {
   "cell_type": "code",
   "execution_count": 7,
   "metadata": {},
   "outputs": [
    {
     "output_type": "stream",
     "name": "stdout",
     "text": [
      "              IKT                          FIO  Points  University     No  \\\n0     903300067.0           РАХМЕТУЛЛА АСАНӘЛІ   140.0         302    NaN   \n65    862390433.0                 СЕРІК РУСЛАН   127.0          27    NaN   \n82    716390901.0                НҰРКЕЛДІ ӨРЕН   125.0          27    NaN   \n93    836390285.0              ДІЛМҰРАТ ТАҢНАР   125.0          27    NaN   \n168   746300114.0             ТУРСЫНБЕК ЕРАСЫЛ   120.0          13    NaN   \n...           ...                          ...     ...         ...    ...   \n4048  712300015.0                Адал Сандуғаш    75.0         522    NaN   \n4096   93300155.0  СФРАЙДОПУЛО ВЛАДИСЛАВ ИЛЬИЧ    35.0          93   40.0   \n4115   35300190.0             БЕРИКБОЛ АЙМЫРЗА    32.0          35   59.0   \n4124  191300013.0                 ЕЛШАТ САМҒАР    31.0         191   68.0   \n4159   38300407.0            МАНАЙХАН БЕРІКБОЛ    27.0           2  103.0   \n\n     Gender  \n0            \n65           \n82           \n93           \n168          \n...     ...  \n4048         \n4096         \n4115         \n4124         \n4159         \n\n[116 rows x 6 columns]\n"
     ]
    }
   ],
   "source": [
    "bigender = df[df['Gender'] == '']\n",
    "# bigender.to_csv('bigender.csv')\n",
    "print(bigender)\n",
    "# AS you can see, still 116 students have bigender names\n"
   ]
  },
  {
   "source": [
    "### Task 2"
   ],
   "cell_type": "markdown",
   "metadata": {}
  },
  {
   "cell_type": "code",
   "execution_count": 2,
   "metadata": {},
   "outputs": [],
   "source": [
    "import zipfile"
   ]
  },
  {
   "cell_type": "code",
   "execution_count": 3,
   "metadata": {},
   "outputs": [],
   "source": [
    "filename = './data/bbc-fulltext.zip'\n",
    "zip = zipfile.ZipFile(filename, 'r')\n",
    "files = zip.namelist()"
   ]
  },
  {
   "cell_type": "code",
   "execution_count": 4,
   "metadata": {},
   "outputs": [],
   "source": [
    "pattern = r'([A-Z]+\\w*(?:\\s*[A-Z]+\\w*)+)'"
   ]
  },
  {
   "cell_type": "code",
   "execution_count": 5,
   "metadata": {},
   "outputs": [],
   "source": [
    "res = []"
   ]
  },
  {
   "cell_type": "code",
   "execution_count": 6,
   "metadata": {
    "tags": []
   },
   "outputs": [],
   "source": [
    "for i in files:\n",
    "    s = str(zip.read(i))\n",
    "    names = re.findall(pattern,s)\n",
    "    res += list(filter(len,names))"
   ]
  },
  {
   "cell_type": "code",
   "execution_count": 9,
   "metadata": {
    "tags": []
   },
   "outputs": [
    {
     "output_type": "execute_result",
     "data": {
      "text/plain": [
       "0           Time Warner\n",
       "1                    US\n",
       "2            TimeWarner\n",
       "4           Warner Bros\n",
       "5                   AOL\n",
       "              ...      \n",
       "39063              TV I\n",
       "39064          PC Bangs\n",
       "39065    Internet Cafes\n",
       "39070       Most MMORPG\n",
       "39072               LOL\n",
       "Length: 13811, dtype: object"
      ]
     },
     "metadata": {},
     "execution_count": 9
    }
   ],
   "source": [
    "s = pd.Series(res)\n",
    "s.drop_duplicates(keep='first',inplace=True)\n",
    "filepath = './result/B_01.csv'\n",
    "s.to_csv(filepath,index=False, header=False)\n",
    "s"
   ]
  },
  {
   "source": [
    "### Task 3"
   ],
   "cell_type": "markdown",
   "metadata": {}
  },
  {
   "cell_type": "code",
   "execution_count": 3,
   "metadata": {},
   "outputs": [],
   "source": [
    "filename = './data/spamlord.zip'\n",
    "zip = zipfile.ZipFile(filename, 'r')\n",
    "files = zip.namelist()"
   ]
  },
  {
   "cell_type": "code",
   "execution_count": 4,
   "metadata": {},
   "outputs": [],
   "source": [
    "email = r'(?<!\\\\)([\\w\\_\\-\\.]+@(?:[a-z]{2,}\\.)+[a-z]{2,4})\\b'\n",
    "phone = r'((?:\\d{3}\\-){2}\\d{4})'\n"
   ]
  },
  {
   "cell_type": "code",
   "execution_count": 5,
   "metadata": {},
   "outputs": [],
   "source": [
    "res = {'item': [], 'type': []}"
   ]
  },
  {
   "cell_type": "code",
   "execution_count": 6,
   "metadata": {
    "tags": []
   },
   "outputs": [],
   "source": [
    "for i in files:\n",
    "    s = str(zip.read(i))\n",
    "    emails = re.findall(email,s)\n",
    "    for j in emails:\n",
    "        if j not in res['item']:\n",
    "            res['item'].append(j)\n",
    "            res['type'].append('email')\n",
    "    phones = re.findall(phone,s)\n",
    "    for j in phones:\n",
    "        if j not in res['item']:\n",
    "            res['item'].append(j)\n",
    "            res['type'].append('phone')"
   ]
  },
  {
   "cell_type": "code",
   "execution_count": 7,
   "metadata": {},
   "outputs": [],
   "source": [
    "df = pd.DataFrame(res, columns=['item', 'type'])\n",
    "filepath = './result/C_01.csv'\n",
    "df.to_csv(filepath, index=None)"
   ]
  },
  {
   "cell_type": "code",
   "execution_count": null,
   "metadata": {},
   "outputs": [],
   "source": []
  }
 ]
}